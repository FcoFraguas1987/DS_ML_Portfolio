{
  "nbformat": 4,
  "nbformat_minor": 0,
  "metadata": {
    "colab": {
      "provenance": [],
      "authorship_tag": "ABX9TyMKmwRAfqIFvG/W5p9+6vPz",
      "include_colab_link": true
    },
    "kernelspec": {
      "name": "python3",
      "display_name": "Python 3"
    },
    "language_info": {
      "name": "python"
    }
  },
  "cells": [
    {
      "cell_type": "markdown",
      "metadata": {
        "id": "view-in-github",
        "colab_type": "text"
      },
      "source": [
        "<a href=\"https://colab.research.google.com/github/FcoFraguas1987/DS_ML_Portfolio/blob/DS_ML_Bioinformatics/Aprendizaje_supervisado_otras_tecnicas_regresion.ipynb\" target=\"_parent\"><img src=\"https://colab.research.google.com/assets/colab-badge.svg\" alt=\"Open In Colab\"/></a>"
      ]
    },
    {
      "cell_type": "markdown",
      "source": [
        "# TÉCNICAS DE REGRESION EN APRENDIZAJE SUPERVISADO\n",
        "\n",
        "En esta parte vamos a trabajar con un conjunto de datos y se le va a someter a ML con técnicas como knn vecinos más cercanos y el método M5."
      ],
      "metadata": {
        "id": "kwEBNMsW1pTO"
      }
    },
    {
      "cell_type": "markdown",
      "source": [
        "### Parte Inicial\n",
        "El proceso lo realizaremos en R. Utilizando las bibliotecas:\n",
        "\n",
        "\n",
        "*   ISLR para regresión lineal multivariable\n",
        "*   kknn para k-vecinos más cercanos de regresión\n",
        "*   Cubist para modelos de regresión basados en M5\n",
        "\n"
      ],
      "metadata": {
        "id": "y8FRDPza1_Sp"
      }
    },
    {
      "cell_type": "code",
      "execution_count": null,
      "metadata": {
        "colab": {
          "base_uri": "https://localhost:8080/"
        },
        "id": "1LTEQq7Oyzs-",
        "outputId": "4a6480a3-5585-4dfc-f8dc-f04849901b8d"
      },
      "outputs": [
        {
          "output_type": "stream",
          "name": "stdout",
          "text": [
            "Get:1 https://cloud.r-project.org/bin/linux/ubuntu jammy-cran40/ InRelease [3,622 B]\n",
            "Hit:2 http://archive.ubuntu.com/ubuntu jammy InRelease\n",
            "Get:3 https://developer.download.nvidia.com/compute/cuda/repos/ubuntu2204/x86_64  InRelease [1,581 B]\n",
            "Get:4 http://archive.ubuntu.com/ubuntu jammy-updates InRelease [119 kB]\n",
            "Get:5 http://security.ubuntu.com/ubuntu jammy-security InRelease [110 kB]\n",
            "Get:6 http://archive.ubuntu.com/ubuntu jammy-backports InRelease [109 kB]\n",
            "Hit:7 https://ppa.launchpadcontent.net/c2d4u.team/c2d4u4.0+/ubuntu jammy InRelease\n",
            "Get:8 https://developer.download.nvidia.com/compute/cuda/repos/ubuntu2204/x86_64  Packages [830 kB]\n",
            "Get:9 https://ppa.launchpadcontent.net/deadsnakes/ppa/ubuntu jammy InRelease [18.1 kB]\n",
            "Get:10 http://archive.ubuntu.com/ubuntu jammy-updates/universe amd64 Packages [1,374 kB]\n",
            "Hit:11 https://ppa.launchpadcontent.net/graphics-drivers/ppa/ubuntu jammy InRelease\n",
            "Hit:12 https://ppa.launchpadcontent.net/ubuntugis/ppa/ubuntu jammy InRelease\n",
            "Get:13 http://security.ubuntu.com/ubuntu jammy-security/universe amd64 Packages [1,082 kB]\n",
            "Get:14 http://archive.ubuntu.com/ubuntu jammy-updates/main amd64 Packages [2,069 kB]\n",
            "Get:15 http://security.ubuntu.com/ubuntu jammy-security/main amd64 Packages [1,798 kB]\n",
            "Get:16 https://ppa.launchpadcontent.net/deadsnakes/ppa/ubuntu jammy/main amd64 Packages [27.8 kB]\n",
            "Fetched 7,542 kB in 2s (3,719 kB/s)\n",
            "Reading package lists... Done\n",
            "Reading package lists... Done\n",
            "Building dependency tree... Done\n",
            "Reading state information... Done\n",
            "r-base is already the newest version (4.4.0-1.2204.0).\n",
            "0 upgraded, 0 newly installed, 0 to remove and 51 not upgraded.\n",
            "Collecting rpy2==3.5.1\n",
            "  Downloading rpy2-3.5.1.tar.gz (201 kB)\n",
            "\u001b[2K     \u001b[90m━━━━━━━━━━━━━━━━━━━━━━━━━━━━━━━━━━━━━━━━\u001b[0m \u001b[32m201.7/201.7 kB\u001b[0m \u001b[31m1.8 MB/s\u001b[0m eta \u001b[36m0:00:00\u001b[0m\n",
            "\u001b[?25h  Preparing metadata (setup.py) ... \u001b[?25l\u001b[?25hdone\n",
            "Requirement already satisfied: cffi>=1.10.0 in /usr/local/lib/python3.10/dist-packages (from rpy2==3.5.1) (1.16.0)\n",
            "Requirement already satisfied: jinja2 in /usr/local/lib/python3.10/dist-packages (from rpy2==3.5.1) (3.1.4)\n",
            "Requirement already satisfied: pytz in /usr/local/lib/python3.10/dist-packages (from rpy2==3.5.1) (2023.4)\n",
            "Requirement already satisfied: tzlocal in /usr/local/lib/python3.10/dist-packages (from rpy2==3.5.1) (5.2)\n",
            "Requirement already satisfied: pycparser in /usr/local/lib/python3.10/dist-packages (from cffi>=1.10.0->rpy2==3.5.1) (2.22)\n",
            "Requirement already satisfied: MarkupSafe>=2.0 in /usr/local/lib/python3.10/dist-packages (from jinja2->rpy2==3.5.1) (2.1.5)\n",
            "Building wheels for collected packages: rpy2\n",
            "  Building wheel for rpy2 (setup.py) ... \u001b[?25l\u001b[?25hdone\n",
            "  Created wheel for rpy2: filename=rpy2-3.5.1-cp310-cp310-linux_x86_64.whl size=314927 sha256=bc483a18cffb1ef36c63381c9361677c248a772e174daa63c970f2c46b9d1320\n",
            "  Stored in directory: /root/.cache/pip/wheels/73/a6/ff/4e75dd1ce1cfa2b9a670cbccf6a1e41c553199e9b25f05d953\n",
            "Successfully built rpy2\n",
            "Installing collected packages: rpy2\n",
            "  Attempting uninstall: rpy2\n",
            "    Found existing installation: rpy2 3.4.2\n",
            "    Uninstalling rpy2-3.4.2:\n",
            "      Successfully uninstalled rpy2-3.4.2\n",
            "Successfully installed rpy2-3.5.1\n",
            "Instalación de R en Google Colab terminada\n"
          ]
        }
      ],
      "source": [
        "### Instalación de R en notebooks de Google Colab ###\n",
        "!apt-get update\n",
        "!apt-get install r-base\n",
        "!pip install rpy2==3.5.1\n",
        "%load_ext rpy2.ipython\n",
        "print (\"Instalación de R en Google Colab terminada\")"
      ]
    },
    {
      "cell_type": "code",
      "source": [
        "%%R\n",
        "### Instalación de las bibliotecas necesarias\n",
        "#install.packages(c(\"ISLR\", \"kknn\", \"Cubist\"))\n",
        "install.packages(c(\"kknn\", \"Cubist\")) #ISLR se utilizaba en la anterior cápsula\n",
        "print (\"Instalación de las bibliotecas de R para este módulo terminada\")\n",
        "\n",
        "### Importación de las bibliotecas necesarias ###\n",
        "#require(ISLR)\n",
        "require(kknn)\n",
        "require(Cubist)\n",
        "print (\"Importación de las bibliotecas de R para este módulo terminada\")"
      ],
      "metadata": {
        "colab": {
          "base_uri": "https://localhost:8080/"
        },
        "id": "SOmNSHhm2HcJ",
        "outputId": "b379463d-a4e6-4e11-a996-c48745924ccb"
      },
      "execution_count": null,
      "outputs": [
        {
          "output_type": "stream",
          "name": "stderr",
          "text": [
            "WARNING:rpy2.rinterface_lib.callbacks:R[write to console]: Installing packages into ‘/usr/local/lib/R/site-library’\n",
            "(as ‘lib’ is unspecified)\n",
            "\n",
            "WARNING:rpy2.rinterface_lib.callbacks:R[write to console]: also installing the dependencies ‘plyr’, ‘Rcpp’, ‘igraph’, ‘reshape2’\n",
            "\n",
            "\n",
            "WARNING:rpy2.rinterface_lib.callbacks:R[write to console]: trying URL 'https://cran.rstudio.com/src/contrib/plyr_1.8.9.tar.gz'\n",
            "\n",
            "WARNING:rpy2.rinterface_lib.callbacks:R[write to console]: Content type 'application/x-gzip'\n",
            "WARNING:rpy2.rinterface_lib.callbacks:R[write to console]:  length 401488 bytes (392 KB)\n",
            "\n",
            "WARNING:rpy2.rinterface_lib.callbacks:R[write to console]: =\n",
            "WARNING:rpy2.rinterface_lib.callbacks:R[write to console]: =\n",
            "WARNING:rpy2.rinterface_lib.callbacks:R[write to console]: =\n",
            "WARNING:rpy2.rinterface_lib.callbacks:R[write to console]: =\n",
            "WARNING:rpy2.rinterface_lib.callbacks:R[write to console]: =\n",
            "WARNING:rpy2.rinterface_lib.callbacks:R[write to console]: =\n",
            "WARNING:rpy2.rinterface_lib.callbacks:R[write to console]: =\n",
            "WARNING:rpy2.rinterface_lib.callbacks:R[write to console]: =\n",
            "WARNING:rpy2.rinterface_lib.callbacks:R[write to console]: =\n",
            "WARNING:rpy2.rinterface_lib.callbacks:R[write to console]: =\n",
            "WARNING:rpy2.rinterface_lib.callbacks:R[write to console]: =\n",
            "WARNING:rpy2.rinterface_lib.callbacks:R[write to console]: =\n",
            "WARNING:rpy2.rinterface_lib.callbacks:R[write to console]: =\n",
            "WARNING:rpy2.rinterface_lib.callbacks:R[write to console]: =\n",
            "WARNING:rpy2.rinterface_lib.callbacks:R[write to console]: =\n",
            "WARNING:rpy2.rinterface_lib.callbacks:R[write to console]: =\n",
            "WARNING:rpy2.rinterface_lib.callbacks:R[write to console]: =\n",
            "WARNING:rpy2.rinterface_lib.callbacks:R[write to console]: =\n",
            "WARNING:rpy2.rinterface_lib.callbacks:R[write to console]: =\n",
            "WARNING:rpy2.rinterface_lib.callbacks:R[write to console]: =\n",
            "WARNING:rpy2.rinterface_lib.callbacks:R[write to console]: =\n",
            "WARNING:rpy2.rinterface_lib.callbacks:R[write to console]: =\n",
            "WARNING:rpy2.rinterface_lib.callbacks:R[write to console]: =\n",
            "WARNING:rpy2.rinterface_lib.callbacks:R[write to console]: =\n",
            "WARNING:rpy2.rinterface_lib.callbacks:R[write to console]: =\n",
            "WARNING:rpy2.rinterface_lib.callbacks:R[write to console]: =\n",
            "WARNING:rpy2.rinterface_lib.callbacks:R[write to console]: =\n",
            "WARNING:rpy2.rinterface_lib.callbacks:R[write to console]: =\n",
            "WARNING:rpy2.rinterface_lib.callbacks:R[write to console]: =\n",
            "WARNING:rpy2.rinterface_lib.callbacks:R[write to console]: =\n",
            "WARNING:rpy2.rinterface_lib.callbacks:R[write to console]: =\n",
            "WARNING:rpy2.rinterface_lib.callbacks:R[write to console]: =\n",
            "WARNING:rpy2.rinterface_lib.callbacks:R[write to console]: =\n",
            "WARNING:rpy2.rinterface_lib.callbacks:R[write to console]: =\n",
            "WARNING:rpy2.rinterface_lib.callbacks:R[write to console]: =\n",
            "WARNING:rpy2.rinterface_lib.callbacks:R[write to console]: =\n",
            "WARNING:rpy2.rinterface_lib.callbacks:R[write to console]: =\n",
            "WARNING:rpy2.rinterface_lib.callbacks:R[write to console]: =\n",
            "WARNING:rpy2.rinterface_lib.callbacks:R[write to console]: =\n",
            "WARNING:rpy2.rinterface_lib.callbacks:R[write to console]: =\n",
            "WARNING:rpy2.rinterface_lib.callbacks:R[write to console]: =\n",
            "WARNING:rpy2.rinterface_lib.callbacks:R[write to console]: =\n",
            "WARNING:rpy2.rinterface_lib.callbacks:R[write to console]: =\n",
            "WARNING:rpy2.rinterface_lib.callbacks:R[write to console]: =\n",
            "WARNING:rpy2.rinterface_lib.callbacks:R[write to console]: =\n",
            "WARNING:rpy2.rinterface_lib.callbacks:R[write to console]: =\n",
            "WARNING:rpy2.rinterface_lib.callbacks:R[write to console]: =\n",
            "WARNING:rpy2.rinterface_lib.callbacks:R[write to console]: =\n",
            "WARNING:rpy2.rinterface_lib.callbacks:R[write to console]: =\n",
            "WARNING:rpy2.rinterface_lib.callbacks:R[write to console]: =\n",
            "WARNING:rpy2.rinterface_lib.callbacks:R[write to console]: \n",
            "\n",
            "WARNING:rpy2.rinterface_lib.callbacks:R[write to console]: downloaded 392 KB\n",
            "\n",
            "\n",
            "WARNING:rpy2.rinterface_lib.callbacks:R[write to console]: trying URL 'https://cran.rstudio.com/src/contrib/Rcpp_1.0.12.tar.gz'\n",
            "\n",
            "WARNING:rpy2.rinterface_lib.callbacks:R[write to console]: Content type 'application/x-gzip'\n",
            "WARNING:rpy2.rinterface_lib.callbacks:R[write to console]:  length 3430494 bytes (3.3 MB)\n",
            "\n",
            "WARNING:rpy2.rinterface_lib.callbacks:R[write to console]: =\n",
            "WARNING:rpy2.rinterface_lib.callbacks:R[write to console]: =\n",
            "WARNING:rpy2.rinterface_lib.callbacks:R[write to console]: =\n",
            "WARNING:rpy2.rinterface_lib.callbacks:R[write to console]: =\n",
            "WARNING:rpy2.rinterface_lib.callbacks:R[write to console]: =\n",
            "WARNING:rpy2.rinterface_lib.callbacks:R[write to console]: =\n",
            "WARNING:rpy2.rinterface_lib.callbacks:R[write to console]: =\n",
            "WARNING:rpy2.rinterface_lib.callbacks:R[write to console]: =\n",
            "WARNING:rpy2.rinterface_lib.callbacks:R[write to console]: =\n",
            "WARNING:rpy2.rinterface_lib.callbacks:R[write to console]: =\n",
            "WARNING:rpy2.rinterface_lib.callbacks:R[write to console]: =\n",
            "WARNING:rpy2.rinterface_lib.callbacks:R[write to console]: =\n",
            "WARNING:rpy2.rinterface_lib.callbacks:R[write to console]: =\n",
            "WARNING:rpy2.rinterface_lib.callbacks:R[write to console]: =\n",
            "WARNING:rpy2.rinterface_lib.callbacks:R[write to console]: =\n",
            "WARNING:rpy2.rinterface_lib.callbacks:R[write to console]: =\n",
            "WARNING:rpy2.rinterface_lib.callbacks:R[write to console]: =\n",
            "WARNING:rpy2.rinterface_lib.callbacks:R[write to console]: =\n",
            "WARNING:rpy2.rinterface_lib.callbacks:R[write to console]: =\n",
            "WARNING:rpy2.rinterface_lib.callbacks:R[write to console]: =\n",
            "WARNING:rpy2.rinterface_lib.callbacks:R[write to console]: =\n",
            "WARNING:rpy2.rinterface_lib.callbacks:R[write to console]: =\n",
            "WARNING:rpy2.rinterface_lib.callbacks:R[write to console]: =\n",
            "WARNING:rpy2.rinterface_lib.callbacks:R[write to console]: =\n",
            "WARNING:rpy2.rinterface_lib.callbacks:R[write to console]: =\n",
            "WARNING:rpy2.rinterface_lib.callbacks:R[write to console]: =\n",
            "WARNING:rpy2.rinterface_lib.callbacks:R[write to console]: =\n",
            "WARNING:rpy2.rinterface_lib.callbacks:R[write to console]: =\n",
            "WARNING:rpy2.rinterface_lib.callbacks:R[write to console]: =\n",
            "WARNING:rpy2.rinterface_lib.callbacks:R[write to console]: =\n",
            "WARNING:rpy2.rinterface_lib.callbacks:R[write to console]: =\n",
            "WARNING:rpy2.rinterface_lib.callbacks:R[write to console]: =\n",
            "WARNING:rpy2.rinterface_lib.callbacks:R[write to console]: =\n",
            "WARNING:rpy2.rinterface_lib.callbacks:R[write to console]: =\n",
            "WARNING:rpy2.rinterface_lib.callbacks:R[write to console]: =\n",
            "WARNING:rpy2.rinterface_lib.callbacks:R[write to console]: =\n",
            "WARNING:rpy2.rinterface_lib.callbacks:R[write to console]: =\n",
            "WARNING:rpy2.rinterface_lib.callbacks:R[write to console]: =\n",
            "WARNING:rpy2.rinterface_lib.callbacks:R[write to console]: =\n",
            "WARNING:rpy2.rinterface_lib.callbacks:R[write to console]: =\n",
            "WARNING:rpy2.rinterface_lib.callbacks:R[write to console]: =\n",
            "WARNING:rpy2.rinterface_lib.callbacks:R[write to console]: =\n",
            "WARNING:rpy2.rinterface_lib.callbacks:R[write to console]: =\n",
            "WARNING:rpy2.rinterface_lib.callbacks:R[write to console]: =\n",
            "WARNING:rpy2.rinterface_lib.callbacks:R[write to console]: =\n",
            "WARNING:rpy2.rinterface_lib.callbacks:R[write to console]: =\n",
            "WARNING:rpy2.rinterface_lib.callbacks:R[write to console]: =\n",
            "WARNING:rpy2.rinterface_lib.callbacks:R[write to console]: =\n",
            "WARNING:rpy2.rinterface_lib.callbacks:R[write to console]: =\n",
            "WARNING:rpy2.rinterface_lib.callbacks:R[write to console]: =\n",
            "WARNING:rpy2.rinterface_lib.callbacks:R[write to console]: \n",
            "\n",
            "WARNING:rpy2.rinterface_lib.callbacks:R[write to console]: downloaded 3.3 MB\n",
            "\n",
            "\n",
            "WARNING:rpy2.rinterface_lib.callbacks:R[write to console]: trying URL 'https://cran.rstudio.com/src/contrib/igraph_2.0.3.tar.gz'\n",
            "\n",
            "WARNING:rpy2.rinterface_lib.callbacks:R[write to console]: Content type 'application/x-gzip'\n",
            "WARNING:rpy2.rinterface_lib.callbacks:R[write to console]:  length 4967875 bytes (4.7 MB)\n",
            "\n",
            "WARNING:rpy2.rinterface_lib.callbacks:R[write to console]: =\n",
            "WARNING:rpy2.rinterface_lib.callbacks:R[write to console]: =\n",
            "WARNING:rpy2.rinterface_lib.callbacks:R[write to console]: =\n",
            "WARNING:rpy2.rinterface_lib.callbacks:R[write to console]: =\n",
            "WARNING:rpy2.rinterface_lib.callbacks:R[write to console]: =\n",
            "WARNING:rpy2.rinterface_lib.callbacks:R[write to console]: =\n",
            "WARNING:rpy2.rinterface_lib.callbacks:R[write to console]: =\n",
            "WARNING:rpy2.rinterface_lib.callbacks:R[write to console]: =\n",
            "WARNING:rpy2.rinterface_lib.callbacks:R[write to console]: =\n",
            "WARNING:rpy2.rinterface_lib.callbacks:R[write to console]: =\n",
            "WARNING:rpy2.rinterface_lib.callbacks:R[write to console]: =\n",
            "WARNING:rpy2.rinterface_lib.callbacks:R[write to console]: =\n",
            "WARNING:rpy2.rinterface_lib.callbacks:R[write to console]: =\n",
            "WARNING:rpy2.rinterface_lib.callbacks:R[write to console]: =\n",
            "WARNING:rpy2.rinterface_lib.callbacks:R[write to console]: =\n",
            "WARNING:rpy2.rinterface_lib.callbacks:R[write to console]: =\n",
            "WARNING:rpy2.rinterface_lib.callbacks:R[write to console]: =\n",
            "WARNING:rpy2.rinterface_lib.callbacks:R[write to console]: =\n",
            "WARNING:rpy2.rinterface_lib.callbacks:R[write to console]: =\n",
            "WARNING:rpy2.rinterface_lib.callbacks:R[write to console]: =\n",
            "WARNING:rpy2.rinterface_lib.callbacks:R[write to console]: =\n",
            "WARNING:rpy2.rinterface_lib.callbacks:R[write to console]: =\n",
            "WARNING:rpy2.rinterface_lib.callbacks:R[write to console]: =\n",
            "WARNING:rpy2.rinterface_lib.callbacks:R[write to console]: =\n",
            "WARNING:rpy2.rinterface_lib.callbacks:R[write to console]: =\n",
            "WARNING:rpy2.rinterface_lib.callbacks:R[write to console]: =\n",
            "WARNING:rpy2.rinterface_lib.callbacks:R[write to console]: =\n",
            "WARNING:rpy2.rinterface_lib.callbacks:R[write to console]: =\n",
            "WARNING:rpy2.rinterface_lib.callbacks:R[write to console]: =\n",
            "WARNING:rpy2.rinterface_lib.callbacks:R[write to console]: =\n",
            "WARNING:rpy2.rinterface_lib.callbacks:R[write to console]: =\n",
            "WARNING:rpy2.rinterface_lib.callbacks:R[write to console]: =\n",
            "WARNING:rpy2.rinterface_lib.callbacks:R[write to console]: =\n",
            "WARNING:rpy2.rinterface_lib.callbacks:R[write to console]: =\n",
            "WARNING:rpy2.rinterface_lib.callbacks:R[write to console]: =\n",
            "WARNING:rpy2.rinterface_lib.callbacks:R[write to console]: =\n",
            "WARNING:rpy2.rinterface_lib.callbacks:R[write to console]: =\n",
            "WARNING:rpy2.rinterface_lib.callbacks:R[write to console]: =\n",
            "WARNING:rpy2.rinterface_lib.callbacks:R[write to console]: =\n",
            "WARNING:rpy2.rinterface_lib.callbacks:R[write to console]: =\n",
            "WARNING:rpy2.rinterface_lib.callbacks:R[write to console]: =\n",
            "WARNING:rpy2.rinterface_lib.callbacks:R[write to console]: =\n",
            "WARNING:rpy2.rinterface_lib.callbacks:R[write to console]: =\n",
            "WARNING:rpy2.rinterface_lib.callbacks:R[write to console]: =\n",
            "WARNING:rpy2.rinterface_lib.callbacks:R[write to console]: =\n",
            "WARNING:rpy2.rinterface_lib.callbacks:R[write to console]: =\n",
            "WARNING:rpy2.rinterface_lib.callbacks:R[write to console]: =\n",
            "WARNING:rpy2.rinterface_lib.callbacks:R[write to console]: =\n",
            "WARNING:rpy2.rinterface_lib.callbacks:R[write to console]: =\n",
            "WARNING:rpy2.rinterface_lib.callbacks:R[write to console]: =\n",
            "WARNING:rpy2.rinterface_lib.callbacks:R[write to console]: \n",
            "\n",
            "WARNING:rpy2.rinterface_lib.callbacks:R[write to console]: downloaded 4.7 MB\n",
            "\n",
            "\n",
            "WARNING:rpy2.rinterface_lib.callbacks:R[write to console]: trying URL 'https://cran.rstudio.com/src/contrib/reshape2_1.4.4.tar.gz'\n",
            "\n",
            "WARNING:rpy2.rinterface_lib.callbacks:R[write to console]: Content type 'application/x-gzip'\n",
            "WARNING:rpy2.rinterface_lib.callbacks:R[write to console]:  length 37307 bytes (36 KB)\n",
            "\n",
            "WARNING:rpy2.rinterface_lib.callbacks:R[write to console]: =\n",
            "WARNING:rpy2.rinterface_lib.callbacks:R[write to console]: =\n",
            "WARNING:rpy2.rinterface_lib.callbacks:R[write to console]: =\n",
            "WARNING:rpy2.rinterface_lib.callbacks:R[write to console]: =\n",
            "WARNING:rpy2.rinterface_lib.callbacks:R[write to console]: =\n",
            "WARNING:rpy2.rinterface_lib.callbacks:R[write to console]: =\n",
            "WARNING:rpy2.rinterface_lib.callbacks:R[write to console]: =\n",
            "WARNING:rpy2.rinterface_lib.callbacks:R[write to console]: =\n",
            "WARNING:rpy2.rinterface_lib.callbacks:R[write to console]: =\n",
            "WARNING:rpy2.rinterface_lib.callbacks:R[write to console]: =\n",
            "WARNING:rpy2.rinterface_lib.callbacks:R[write to console]: =\n",
            "WARNING:rpy2.rinterface_lib.callbacks:R[write to console]: =\n",
            "WARNING:rpy2.rinterface_lib.callbacks:R[write to console]: =\n",
            "WARNING:rpy2.rinterface_lib.callbacks:R[write to console]: =\n",
            "WARNING:rpy2.rinterface_lib.callbacks:R[write to console]: =\n",
            "WARNING:rpy2.rinterface_lib.callbacks:R[write to console]: =\n",
            "WARNING:rpy2.rinterface_lib.callbacks:R[write to console]: =\n",
            "WARNING:rpy2.rinterface_lib.callbacks:R[write to console]: =\n",
            "WARNING:rpy2.rinterface_lib.callbacks:R[write to console]: =\n",
            "WARNING:rpy2.rinterface_lib.callbacks:R[write to console]: =\n",
            "WARNING:rpy2.rinterface_lib.callbacks:R[write to console]: =\n",
            "WARNING:rpy2.rinterface_lib.callbacks:R[write to console]: =\n",
            "WARNING:rpy2.rinterface_lib.callbacks:R[write to console]: =\n",
            "WARNING:rpy2.rinterface_lib.callbacks:R[write to console]: =\n",
            "WARNING:rpy2.rinterface_lib.callbacks:R[write to console]: =\n",
            "WARNING:rpy2.rinterface_lib.callbacks:R[write to console]: =\n",
            "WARNING:rpy2.rinterface_lib.callbacks:R[write to console]: =\n",
            "WARNING:rpy2.rinterface_lib.callbacks:R[write to console]: =\n",
            "WARNING:rpy2.rinterface_lib.callbacks:R[write to console]: =\n",
            "WARNING:rpy2.rinterface_lib.callbacks:R[write to console]: =\n",
            "WARNING:rpy2.rinterface_lib.callbacks:R[write to console]: =\n",
            "WARNING:rpy2.rinterface_lib.callbacks:R[write to console]: =\n",
            "WARNING:rpy2.rinterface_lib.callbacks:R[write to console]: =\n",
            "WARNING:rpy2.rinterface_lib.callbacks:R[write to console]: =\n",
            "WARNING:rpy2.rinterface_lib.callbacks:R[write to console]: =\n",
            "WARNING:rpy2.rinterface_lib.callbacks:R[write to console]: =\n",
            "WARNING:rpy2.rinterface_lib.callbacks:R[write to console]: =\n",
            "WARNING:rpy2.rinterface_lib.callbacks:R[write to console]: =\n",
            "WARNING:rpy2.rinterface_lib.callbacks:R[write to console]: =\n",
            "WARNING:rpy2.rinterface_lib.callbacks:R[write to console]: =\n",
            "WARNING:rpy2.rinterface_lib.callbacks:R[write to console]: =\n",
            "WARNING:rpy2.rinterface_lib.callbacks:R[write to console]: =\n",
            "WARNING:rpy2.rinterface_lib.callbacks:R[write to console]: =\n",
            "WARNING:rpy2.rinterface_lib.callbacks:R[write to console]: =\n",
            "WARNING:rpy2.rinterface_lib.callbacks:R[write to console]: =\n",
            "WARNING:rpy2.rinterface_lib.callbacks:R[write to console]: =\n",
            "WARNING:rpy2.rinterface_lib.callbacks:R[write to console]: =\n",
            "WARNING:rpy2.rinterface_lib.callbacks:R[write to console]: =\n",
            "WARNING:rpy2.rinterface_lib.callbacks:R[write to console]: =\n",
            "WARNING:rpy2.rinterface_lib.callbacks:R[write to console]: =\n",
            "WARNING:rpy2.rinterface_lib.callbacks:R[write to console]: \n",
            "\n",
            "WARNING:rpy2.rinterface_lib.callbacks:R[write to console]: downloaded 36 KB\n",
            "\n",
            "\n",
            "WARNING:rpy2.rinterface_lib.callbacks:R[write to console]: trying URL 'https://cran.rstudio.com/src/contrib/kknn_1.3.1.tar.gz'\n",
            "\n",
            "WARNING:rpy2.rinterface_lib.callbacks:R[write to console]: Content type 'application/x-gzip'\n",
            "WARNING:rpy2.rinterface_lib.callbacks:R[write to console]:  length 388410 bytes (379 KB)\n",
            "\n",
            "WARNING:rpy2.rinterface_lib.callbacks:R[write to console]: =\n",
            "WARNING:rpy2.rinterface_lib.callbacks:R[write to console]: =\n",
            "WARNING:rpy2.rinterface_lib.callbacks:R[write to console]: =\n",
            "WARNING:rpy2.rinterface_lib.callbacks:R[write to console]: =\n",
            "WARNING:rpy2.rinterface_lib.callbacks:R[write to console]: =\n",
            "WARNING:rpy2.rinterface_lib.callbacks:R[write to console]: =\n",
            "WARNING:rpy2.rinterface_lib.callbacks:R[write to console]: =\n",
            "WARNING:rpy2.rinterface_lib.callbacks:R[write to console]: =\n",
            "WARNING:rpy2.rinterface_lib.callbacks:R[write to console]: =\n",
            "WARNING:rpy2.rinterface_lib.callbacks:R[write to console]: =\n",
            "WARNING:rpy2.rinterface_lib.callbacks:R[write to console]: =\n",
            "WARNING:rpy2.rinterface_lib.callbacks:R[write to console]: =\n",
            "WARNING:rpy2.rinterface_lib.callbacks:R[write to console]: =\n",
            "WARNING:rpy2.rinterface_lib.callbacks:R[write to console]: =\n",
            "WARNING:rpy2.rinterface_lib.callbacks:R[write to console]: =\n",
            "WARNING:rpy2.rinterface_lib.callbacks:R[write to console]: =\n",
            "WARNING:rpy2.rinterface_lib.callbacks:R[write to console]: =\n",
            "WARNING:rpy2.rinterface_lib.callbacks:R[write to console]: =\n",
            "WARNING:rpy2.rinterface_lib.callbacks:R[write to console]: =\n",
            "WARNING:rpy2.rinterface_lib.callbacks:R[write to console]: =\n",
            "WARNING:rpy2.rinterface_lib.callbacks:R[write to console]: =\n",
            "WARNING:rpy2.rinterface_lib.callbacks:R[write to console]: =\n",
            "WARNING:rpy2.rinterface_lib.callbacks:R[write to console]: =\n",
            "WARNING:rpy2.rinterface_lib.callbacks:R[write to console]: =\n",
            "WARNING:rpy2.rinterface_lib.callbacks:R[write to console]: =\n",
            "WARNING:rpy2.rinterface_lib.callbacks:R[write to console]: =\n",
            "WARNING:rpy2.rinterface_lib.callbacks:R[write to console]: =\n",
            "WARNING:rpy2.rinterface_lib.callbacks:R[write to console]: =\n",
            "WARNING:rpy2.rinterface_lib.callbacks:R[write to console]: =\n",
            "WARNING:rpy2.rinterface_lib.callbacks:R[write to console]: =\n",
            "WARNING:rpy2.rinterface_lib.callbacks:R[write to console]: =\n",
            "WARNING:rpy2.rinterface_lib.callbacks:R[write to console]: =\n",
            "WARNING:rpy2.rinterface_lib.callbacks:R[write to console]: =\n",
            "WARNING:rpy2.rinterface_lib.callbacks:R[write to console]: =\n",
            "WARNING:rpy2.rinterface_lib.callbacks:R[write to console]: =\n",
            "WARNING:rpy2.rinterface_lib.callbacks:R[write to console]: =\n",
            "WARNING:rpy2.rinterface_lib.callbacks:R[write to console]: =\n",
            "WARNING:rpy2.rinterface_lib.callbacks:R[write to console]: =\n",
            "WARNING:rpy2.rinterface_lib.callbacks:R[write to console]: =\n",
            "WARNING:rpy2.rinterface_lib.callbacks:R[write to console]: =\n",
            "WARNING:rpy2.rinterface_lib.callbacks:R[write to console]: =\n",
            "WARNING:rpy2.rinterface_lib.callbacks:R[write to console]: =\n",
            "WARNING:rpy2.rinterface_lib.callbacks:R[write to console]: =\n",
            "WARNING:rpy2.rinterface_lib.callbacks:R[write to console]: =\n",
            "WARNING:rpy2.rinterface_lib.callbacks:R[write to console]: =\n",
            "WARNING:rpy2.rinterface_lib.callbacks:R[write to console]: =\n",
            "WARNING:rpy2.rinterface_lib.callbacks:R[write to console]: =\n",
            "WARNING:rpy2.rinterface_lib.callbacks:R[write to console]: =\n",
            "WARNING:rpy2.rinterface_lib.callbacks:R[write to console]: =\n",
            "WARNING:rpy2.rinterface_lib.callbacks:R[write to console]: =\n",
            "WARNING:rpy2.rinterface_lib.callbacks:R[write to console]: \n",
            "\n",
            "WARNING:rpy2.rinterface_lib.callbacks:R[write to console]: downloaded 379 KB\n",
            "\n",
            "\n",
            "WARNING:rpy2.rinterface_lib.callbacks:R[write to console]: trying URL 'https://cran.rstudio.com/src/contrib/Cubist_0.4.2.1.tar.gz'\n",
            "\n",
            "WARNING:rpy2.rinterface_lib.callbacks:R[write to console]: Content type 'application/x-gzip'\n",
            "WARNING:rpy2.rinterface_lib.callbacks:R[write to console]:  length 1494272 bytes (1.4 MB)\n",
            "\n",
            "WARNING:rpy2.rinterface_lib.callbacks:R[write to console]: =\n",
            "WARNING:rpy2.rinterface_lib.callbacks:R[write to console]: =\n",
            "WARNING:rpy2.rinterface_lib.callbacks:R[write to console]: =\n",
            "WARNING:rpy2.rinterface_lib.callbacks:R[write to console]: =\n",
            "WARNING:rpy2.rinterface_lib.callbacks:R[write to console]: =\n",
            "WARNING:rpy2.rinterface_lib.callbacks:R[write to console]: =\n",
            "WARNING:rpy2.rinterface_lib.callbacks:R[write to console]: =\n",
            "WARNING:rpy2.rinterface_lib.callbacks:R[write to console]: =\n",
            "WARNING:rpy2.rinterface_lib.callbacks:R[write to console]: =\n",
            "WARNING:rpy2.rinterface_lib.callbacks:R[write to console]: =\n",
            "WARNING:rpy2.rinterface_lib.callbacks:R[write to console]: =\n",
            "WARNING:rpy2.rinterface_lib.callbacks:R[write to console]: =\n",
            "WARNING:rpy2.rinterface_lib.callbacks:R[write to console]: =\n",
            "WARNING:rpy2.rinterface_lib.callbacks:R[write to console]: =\n",
            "WARNING:rpy2.rinterface_lib.callbacks:R[write to console]: =\n",
            "WARNING:rpy2.rinterface_lib.callbacks:R[write to console]: =\n",
            "WARNING:rpy2.rinterface_lib.callbacks:R[write to console]: =\n",
            "WARNING:rpy2.rinterface_lib.callbacks:R[write to console]: =\n",
            "WARNING:rpy2.rinterface_lib.callbacks:R[write to console]: =\n",
            "WARNING:rpy2.rinterface_lib.callbacks:R[write to console]: =\n",
            "WARNING:rpy2.rinterface_lib.callbacks:R[write to console]: =\n",
            "WARNING:rpy2.rinterface_lib.callbacks:R[write to console]: =\n",
            "WARNING:rpy2.rinterface_lib.callbacks:R[write to console]: =\n",
            "WARNING:rpy2.rinterface_lib.callbacks:R[write to console]: =\n",
            "WARNING:rpy2.rinterface_lib.callbacks:R[write to console]: =\n",
            "WARNING:rpy2.rinterface_lib.callbacks:R[write to console]: =\n",
            "WARNING:rpy2.rinterface_lib.callbacks:R[write to console]: =\n",
            "WARNING:rpy2.rinterface_lib.callbacks:R[write to console]: =\n",
            "WARNING:rpy2.rinterface_lib.callbacks:R[write to console]: =\n",
            "WARNING:rpy2.rinterface_lib.callbacks:R[write to console]: =\n",
            "WARNING:rpy2.rinterface_lib.callbacks:R[write to console]: =\n",
            "WARNING:rpy2.rinterface_lib.callbacks:R[write to console]: =\n",
            "WARNING:rpy2.rinterface_lib.callbacks:R[write to console]: =\n",
            "WARNING:rpy2.rinterface_lib.callbacks:R[write to console]: =\n",
            "WARNING:rpy2.rinterface_lib.callbacks:R[write to console]: =\n",
            "WARNING:rpy2.rinterface_lib.callbacks:R[write to console]: =\n",
            "WARNING:rpy2.rinterface_lib.callbacks:R[write to console]: =\n",
            "WARNING:rpy2.rinterface_lib.callbacks:R[write to console]: =\n",
            "WARNING:rpy2.rinterface_lib.callbacks:R[write to console]: =\n",
            "WARNING:rpy2.rinterface_lib.callbacks:R[write to console]: =\n",
            "WARNING:rpy2.rinterface_lib.callbacks:R[write to console]: =\n",
            "WARNING:rpy2.rinterface_lib.callbacks:R[write to console]: =\n",
            "WARNING:rpy2.rinterface_lib.callbacks:R[write to console]: =\n",
            "WARNING:rpy2.rinterface_lib.callbacks:R[write to console]: =\n",
            "WARNING:rpy2.rinterface_lib.callbacks:R[write to console]: =\n",
            "WARNING:rpy2.rinterface_lib.callbacks:R[write to console]: =\n",
            "WARNING:rpy2.rinterface_lib.callbacks:R[write to console]: =\n",
            "WARNING:rpy2.rinterface_lib.callbacks:R[write to console]: =\n",
            "WARNING:rpy2.rinterface_lib.callbacks:R[write to console]: =\n",
            "WARNING:rpy2.rinterface_lib.callbacks:R[write to console]: =\n",
            "WARNING:rpy2.rinterface_lib.callbacks:R[write to console]: \n",
            "\n",
            "WARNING:rpy2.rinterface_lib.callbacks:R[write to console]: downloaded 1.4 MB\n",
            "\n",
            "\n",
            "WARNING:rpy2.rinterface_lib.callbacks:R[write to console]: \n",
            "\n",
            "WARNING:rpy2.rinterface_lib.callbacks:R[write to console]: \n",
            "WARNING:rpy2.rinterface_lib.callbacks:R[write to console]: The downloaded source packages are in\n",
            "\t‘/tmp/RtmpV8foKs/downloaded_packages’\n",
            "WARNING:rpy2.rinterface_lib.callbacks:R[write to console]: \n",
            "WARNING:rpy2.rinterface_lib.callbacks:R[write to console]: \n",
            "\n"
          ]
        },
        {
          "output_type": "stream",
          "name": "stdout",
          "text": [
            "[1] \"Instalación de las bibliotecas de R para este módulo terminada\"\n"
          ]
        },
        {
          "output_type": "stream",
          "name": "stderr",
          "text": [
            "WARNING:rpy2.rinterface_lib.callbacks:R[write to console]: Loading required package: kknn\n",
            "\n",
            "WARNING:rpy2.rinterface_lib.callbacks:R[write to console]: Loading required package: Cubist\n",
            "\n",
            "WARNING:rpy2.rinterface_lib.callbacks:R[write to console]: Loading required package: lattice\n",
            "\n"
          ]
        },
        {
          "output_type": "stream",
          "name": "stdout",
          "text": [
            "[1] \"Importación de las bibliotecas de R para este módulo terminada\"\n"
          ]
        }
      ]
    },
    {
      "cell_type": "code",
      "source": [
        "# Obtención de los datos\n",
        "%%R\n",
        "### Lectura\n",
        "data <- read.csv(url(\"https://drive.google.com/uc?id=1GO2NBxYw54K6HkN-YgXbNadrLo5O6-0u\"))\n",
        "\n",
        "### Visualización de una pequeña parte de los datos\n",
        "head(data)"
      ],
      "metadata": {
        "colab": {
          "base_uri": "https://localhost:8080/"
        },
        "id": "V9SXIGGl2irq",
        "outputId": "5fea11e3-7689-4189-ac34-88b979116fc3"
      },
      "execution_count": null,
      "outputs": [
        {
          "output_type": "stream",
          "name": "stdout",
          "text": [
            "  Sex  Age Tanner Height   BMI   WC TAGmgDL HDLCmgDL LDLCmgDL SBP DBP Sedentary\n",
            "1   1  9.5      0   1.55 11.34 60.0      55       51       93  97  60  411.0893\n",
            "2   1  8.0      0   1.15 12.40 46.3      51       70       59  90  55  435.6071\n",
            "3   0 10.5      0   1.42 12.99 67.5      65       60       96  96  54  483.9048\n",
            "4   0  8.1      0   1.27 13.43 53.1      41       78      100 108  46  429.2976\n",
            "5   1 10.4      0   1.32 13.72 51.9      39      100      120 107  69  512.0714\n",
            "6   0 10.4      0   1.29 14.02 54.9      57       76       73  87  59  451.2321\n",
            "     Light Moderate  Vigorous HOMA\n",
            "1 321.5804 22.13393  3.982143 1.98\n",
            "2 316.9762 48.05952 14.273810 0.87\n",
            "3 337.7857 33.30952  7.988095 1.46\n",
            "4 241.9762 39.67857 11.821429 1.07\n",
            "5 216.0357  9.75000  2.410714 0.80\n",
            "6 257.6429 36.40179  9.767857 1.35\n"
          ]
        }
      ]
    },
    {
      "cell_type": "markdown",
      "source": [
        "## Explicación de los datos"
      ],
      "metadata": {
        "id": "RY6ri-9o20NE"
      }
    },
    {
      "cell_type": "markdown",
      "source": [
        "## Método knn vecinos más cercanos\n",
        "\n",
        "Este método de regresión no genera un algoritmo para predecir el resultado de nuevas instancias. El método genera una clasificación de los datos de entrenamiento según la variable de salida.\n",
        "Cuando queremos predecir el valor de salida de una nueva instancia, el método aloja la instacia en su sistema de clasificación o estudio, y calcula la distancia a las medidas más cercanas. El resultado de salida de la nueva instancia corresponderá a valor de salida de moda de todos esos vecinos, en el caso de clasificación, o a un valor obtenido de los valores a una distancia promedidada de los datos de entrenamientos.\n",
        "\n",
        "---------\n",
        "### Elección del valor de vecinos n:\n",
        "Este es el punto crítico del modelo, ya que generaría un modelo con mala predicción si n=1 o un modelo con sobreaprendizaje si n es muiy grande.\n",
        "Otro aspecto a tener en cuenta es que n debe ser impar, ya que en caso de ser par la salida puede generar un valor de empate y la predicción verse bloqueada."
      ],
      "metadata": {
        "id": "zKMv8tb1231P"
      }
    },
    {
      "cell_type": "markdown",
      "source": [
        "El método utilizado está dentro de la librería kknn de R. Y se usa:\n",
        "\n",
        "---------------------\n",
        "\n",
        "kknn(formula=formula(train),train,test,k=7,distance=2,kernel=\"optimal\",scale=TRUE)\n",
        "\n",
        "---------------------------\n",
        "\n",
        "De tal modo que se utilizan 7 vecinos, distancia Euclidea, con escalado y el kernel óptimo."
      ],
      "metadata": {
        "id": "ghynVfrQ485T"
      }
    },
    {
      "cell_type": "markdown",
      "source": [
        "Vamos a ejecutar el modelo de knn vecinos con un modelo que contiene todas las variables y con el modelo linear obtenido en la cápsula anterior."
      ],
      "metadata": {
        "id": "bE5xGhv15ssC"
      }
    },
    {
      "cell_type": "code",
      "source": [
        "%%R\n",
        "\n",
        "fitKNN <- kknn(HOMA ~ ., data, data)\n",
        "yprime = fitKNN$fitted.values\n",
        "cat('\\n(fórmula con todas las variables) RMSE:', sqrt(sum((data$HOMA-yprime)^2)/length(yprime)), \"\\n\") #RECM->en inglés RMSE\n",
        "\n",
        "fitKNN_lm <- kknn(HOMA ~ BMI+Height+TAGmgDL+Sex+WC+LDLCmgDL+I(BMI^2), data, data)\n",
        "yprime = fitKNN_lm$fitted.values\n",
        "cat('(fórmula obtenida con lm) RMSE:', sqrt(sum((data$HOMA-yprime)^2)/length(yprime)), \"\\n\")"
      ],
      "metadata": {
        "colab": {
          "base_uri": "https://localhost:8080/"
        },
        "id": "HzBJCWPJ4NEm",
        "outputId": "70955da6-d74c-49c4-f08a-e8ab77ce61e5"
      },
      "execution_count": null,
      "outputs": [
        {
          "output_type": "stream",
          "name": "stdout",
          "text": [
            "\n",
            "(fórmula con todas las variables) RMSE: 0.4974704 \n",
            "(fórmula obtenida con lm) RMSE: 0.5062813 \n"
          ]
        }
      ]
    },
    {
      "cell_type": "markdown",
      "source": [
        "Se aprecia que tenemos un modelo linar que tiene un RMSE un tanto superior al modelo obtenido por el knn. Aplicando los conocimientos del modelado linar al modelado de knn (es decir, eliminando variables que no tienen significancia estadística al problema) podemos intentar mejorar el ajuste del modelo al problema."
      ],
      "metadata": {
        "id": "xt4toYF053cL"
      }
    },
    {
      "cell_type": "code",
      "source": [
        "%%R\n",
        "\n",
        "fitKNN <- kknn(HOMA ~ .-Sex-SBP, data, data)\n",
        "yprime = fitKNN$fitted.values\n",
        "cat('\\n(fórmula con todas las variables) RMSE:', sqrt(sum((data$HOMA-yprime)^2)/length(yprime)), \"\\n\") #RECM->en inglés RMSE"
      ],
      "metadata": {
        "colab": {
          "base_uri": "https://localhost:8080/"
        },
        "id": "XKVlvoUV6Po_",
        "outputId": "b813a7ae-5bb6-450c-d50c-95c12fa719b4"
      },
      "execution_count": null,
      "outputs": [
        {
          "output_type": "stream",
          "name": "stdout",
          "text": [
            "\n",
            "(fórmula con todas las variables) RMSE: 0.4824407 \n"
          ]
        }
      ]
    },
    {
      "cell_type": "markdown",
      "source": [
        "El RMSE se ha reducido, esto simplemente eliminando las variable sexo y SBP. Podemos incluir la variable BMI al cuadrado para esplicar la parte no linear de los valores de la variable dependiente."
      ],
      "metadata": {
        "id": "HPt3bkcg6QF3"
      }
    },
    {
      "cell_type": "code",
      "source": [
        "%%R\n",
        "\n",
        "fitKNN <- kknn(HOMA ~ .-Sex-SBP+I(BMI^2), data, data)\n",
        "yprime = fitKNN$fitted.values\n",
        "cat('\\n(fórmula con todas las variables) RMSE:', sqrt(sum((data$HOMA-yprime)^2)/length(yprime)), \"\\n\") #RECM->en inglés RMSE"
      ],
      "metadata": {
        "colab": {
          "base_uri": "https://localhost:8080/"
        },
        "id": "3t0b60L26QgB",
        "outputId": "8eaccb91-b654-4447-ed09-e3e7cd731ac7"
      },
      "execution_count": null,
      "outputs": [
        {
          "output_type": "stream",
          "name": "stdout",
          "text": [
            "\n",
            "(fórmula con todas las variables) RMSE: 0.4590836 \n"
          ]
        }
      ]
    },
    {
      "cell_type": "markdown",
      "source": [
        "El valor de RMSE se ha reducido con este modelo un 10%.\n"
      ],
      "metadata": {
        "id": "dwtc3a8Y6Q84"
      }
    },
    {
      "cell_type": "code",
      "source": [
        "# Visualizamos el modelado de knn vecinos\n",
        "\n",
        "%%R\n",
        "plot(data$HOMA~data$BMI)\n",
        "points(data$BMI,yprime,col=\"red\",pch=20)"
      ],
      "metadata": {
        "colab": {
          "base_uri": "https://localhost:8080/",
          "height": 497
        },
        "id": "ocblNKDz6a6S",
        "outputId": "6af50fd2-5f2a-4638-dd37-22b801762ad1"
      },
      "execution_count": null,
      "outputs": [
        {
          "output_type": "display_data",
          "data": {
            "image/png": "[encoded data removed]"
          },
          "metadata": {}
        }
      ]
    },
    {
      "cell_type": "markdown",
      "source": [
        "Vemos un ajuste más óptimo que el recordado de el modelado linear."
      ],
      "metadata": {
        "id": "2ua37qH77-Gj"
      }
    },
    {
      "cell_type": "markdown",
      "source": [
        "## MODELADO M5"
      ],
      "metadata": {
        "id": "YQfQ6IKO8Eg1"
      }
    },
    {
      "cell_type": "markdown",
      "source": [
        "El modelo de M5 es un tipo de modelado que funciona como un paradigma de la modelación. Consiste en formar un árbol de regresión *model tree* de tal forma que los nodos actuan como puntos de corte par aun valor y las hojas contiene diferentes algoritmos. Obtenemos un conjunto de funciones lineales por trozos."
      ],
      "metadata": {
        "id": "eR1HBLz98mCD"
      }
    },
    {
      "cell_type": "markdown",
      "source": [
        "La fórmula de trabajo para obtener un modelado M5 es:\n",
        "\n",
        "------------------\n",
        "\n",
        "cubist(x,y,committees=1)\n",
        "\n",
        "-------------------------\n",
        " Donde X se corresponde a una matriz con las variables independientes e y es un vector con los valores de salida. El número de committees da lugar al modelado M5.\n",
        "\n",
        " Tras el modelado será preciso aplicar una vlñaidación cruzada.\n"
      ],
      "metadata": {
        "id": "KerTiAga8eGE"
      }
    },
    {
      "cell_type": "code",
      "source": [
        "%%R\n",
        "\n",
        "tam <- length(names(data))\n",
        "fitM5 <- cubist(x = data[, -tam], y = data$HOMA) #committees = 1\n",
        "yprime = predict(fitM5,data)\n",
        "cat('\\n(M5) RMSE:', sqrt(sum((data$HOMA-yprime)^2)/length(yprime)), \"\\n\") #RECM->en inglés RMSE\n",
        "\n",
        "summary(fitM5)"
      ],
      "metadata": {
        "colab": {
          "base_uri": "https://localhost:8080/"
        },
        "id": "MWPUJKXD75VS",
        "outputId": "e5492356-093e-46e7-fc56-8b672f117602"
      },
      "execution_count": null,
      "outputs": [
        {
          "output_type": "stream",
          "name": "stdout",
          "text": [
            "\n",
            "(M5) RMSE: 0.5392671 \n",
            "\n",
            "Call:\n",
            "cubist.default(x = data[, -tam], y = data$HOMA)\n",
            "\n",
            "\n",
            "Cubist [Release 2.07 GPL Edition]  Sun May 12 13:21:10 2024\n",
            "---------------------------------\n",
            "\n",
            "    Target attribute `outcome'\n",
            "\n",
            "Read 292 cases (16 attributes) from undefined.data\n",
            "\n",
            "Model:\n",
            "\n",
            "  Rule 1: [120 cases, mean 1.309, range 0.26 to 3.27, est err 0.428]\n",
            "\n",
            "    if\n",
            "\tAge <= 9.5\n",
            "\tBMI <= 30.65\n",
            "    then\n",
            "\toutcome = -2.244 + 0.069 BMI + 0.154 Age + 0.39 Sex + 0.66 Height\n",
            "\t          - 0.0047 WC + 0.0017 TAGmgDL + 0.0027 HDLCmgDL\n",
            "\t          - 0.0012 LDLCmgDL\n",
            "\n",
            "  Rule 2: [118 cases, mean 1.310, range 0.12 to 2.92, est err 0.419]\n",
            "\n",
            "    if\n",
            "\tAge > 9.5\n",
            "\tBMI <= 27.3\n",
            "    then\n",
            "\toutcome = -1.301 + 0.038 BMI + 0.0013 Sedentary + 0.67 Height\n",
            "\t          + 0.17 Tanner + 0.0053 HDLCmgDL - 0.0024 LDLCmgDL\n",
            "\t          + 0.0018 TAGmgDL - 0.0007 WC\n",
            "\n",
            "  Rule 3: [35 cases, mean 2.217, range 0.76 to 3.58, est err 0.532]\n",
            "\n",
            "    if\n",
            "\tBMI > 27.3\n",
            "\tBMI <= 30.65\n",
            "    then\n",
            "\toutcome = -0.678 + 0.044 BMI + 0.79 Height + 0.0062 HDLCmgDL\n",
            "\t          - 0.0028 LDLCmgDL + 0.0022 TAGmgDL + 0.0006 Sedentary\n",
            "\n",
            "  Rule 4: [18 cases, mean 3.376, range 1.38 to 5.41, est err 0.733]\n",
            "\n",
            "    if\n",
            "\tBMI > 30.65\n",
            "\tBMI <= 32.1\n",
            "    then\n",
            "\toutcome = -12.599 + 0.439 BMI - 0.0154 WC + 1.45 Height + 0.0081 SBP\n",
            "\t          + 0.0032 TAGmgDL + 0.18 Sex + 0.0046 HDLCmgDL - 0.002 LDLCmgDL\n",
            "\n",
            "  Rule 5: [9 cases, mean 4.458, range 2.55 to 8.99, est err 0.622]\n",
            "\n",
            "    if\n",
            "\tBMI > 32.1\n",
            "    then\n",
            "\toutcome = -58.467 + 1.901 BMI\n",
            "\n",
            "\n",
            "Evaluation on training data (292 cases):\n",
            "\n",
            "    Average  |error|              0.584\n",
            "    Relative |error|               0.79\n",
            "    Correlation coefficient        0.73\n",
            "\n",
            "\n",
            "\tAttribute usage:\n",
            "\t  Conds  Model\n",
            "\n",
            "\t  100%   100%    BMI\n",
            "\t   79%    40%    Age\n",
            "\t          97%    Height\n",
            "\t          97%    TAGmgDL\n",
            "\t          97%    HDLCmgDL\n",
            "\t          97%    LDLCmgDL\n",
            "\t          85%    WC\n",
            "\t          51%    Sedentary\n",
            "\t          46%    Sex\n",
            "\t          39%    Tanner\n",
            "\t           6%    SBP\n",
            "\n",
            "\n",
            "Time: 0.0 secs\n",
            "\n"
          ]
        }
      ]
    },
    {
      "cell_type": "markdown",
      "source": [
        "Observamos que el arbol contiene en sus nodos las variables de Edad y BMi, que como se ha comprobado anteriormente parecen ser las más relevantes."
      ],
      "metadata": {
        "id": "7Ai10gcc-GZY"
      }
    },
    {
      "cell_type": "code",
      "source": [
        "#Pintamos los valreos en una gráfica\n",
        "\n",
        "%%R\n",
        "plot(data$HOMA~data$BMI)\n",
        "points(data$BMI,yprime,col=\"green\",pch=20)"
      ],
      "metadata": {
        "colab": {
          "base_uri": "https://localhost:8080/",
          "height": 497
        },
        "id": "V3YaBf4F9uIE",
        "outputId": "e7d40c9c-03fa-457d-f378-07eaf8203625"
      },
      "execution_count": null,
      "outputs": [
        {
          "output_type": "display_data",
          "data": {
            "image/png": "[encoded data removed]"
          },
          "metadata": {}
        }
      ]
    },
    {
      "cell_type": "markdown",
      "source": [
        "## VALIDACIÓN CRUZADA PARA LOS MODELOS NO LINEALES\n"
      ],
      "metadata": {
        "id": "13BkU-Cx-kDH"
      }
    },
    {
      "cell_type": "code",
      "source": [
        "### KNN ###\n",
        "\n",
        "%%R\n",
        "set.seed(123456)  #fijamos la misma semilla utilizada con regresión lineal\n",
        "\n",
        "k <- 5\n",
        "data$kfold <- sample(1:k, nrow(data), replace = T)\n",
        "\n",
        "performances <- c()\n",
        "# Una iteración por fold\n",
        "for (fold in 1:k){\n",
        "  # Se crea el conjunto de entrenamiento para la iteración\n",
        "  training_set <- data[data$kfold != fold,]\n",
        "  nombres <- names(training_set)\n",
        "  tam <- length(nombres)-1\n",
        "  training_set <- training_set[,nombres[1: tam]]\n",
        "\n",
        "  # Se crea el conjunto de test para la iteración\n",
        "  testing_set <- data[data$kfold == fold,]\n",
        "  nombres <- names(testing_set)\n",
        "  tam <- length(nombres)-1\n",
        "  testing_set <- testing_set[,nombres[1: tam]]\n",
        "\n",
        "  ## Entrenando el modelo para la iteración\n",
        "  model <- kknn(HOMA ~ .-Sex-SBP+I(BMI^2), training_set, testing_set)\n",
        "\n",
        "  ## Calculando el error de test\n",
        "  yprime = model$fitted.values  #yprime <- predict(model, testing_set)\n",
        "                                #cambiamos porque no funciona predict con kknn,\n",
        "                                #ya que el propio kknn es el predict\n",
        "  RMSE <- sqrt(sum((testing_set$HOMA-yprime)^2)/length(yprime))\n",
        "\n",
        "  # Se añade el RECM a la lista de errores\n",
        "  performances[fold] <- RMSE\n",
        "}\n",
        "\n",
        "#Eliminamos la columna artificial añadida para kfold\n",
        "#(para que no acumule columnas si se ejecuta varias veces)\n",
        "nombres <- names(data)\n",
        "tam <- length(nombres)-1\n",
        "data <- data[,nombres[1: tam]]\n",
        "\n",
        "cat(\"RECM medio en test para 5-fcv en K-nn:\", mean(performances), \"y la Varianza del mismo es: \", var(performances))"
      ],
      "metadata": {
        "colab": {
          "base_uri": "https://localhost:8080/"
        },
        "id": "Et7gpi4R-Vdn",
        "outputId": "518509d3-a04d-4641-c8f5-aa24e968c27c"
      },
      "execution_count": null,
      "outputs": [
        {
          "output_type": "stream",
          "name": "stdout",
          "text": [
            "RECM medio en test para 5-fcv en K-nn: 0.7929245 y la Varianza del mismo es:  0.01952734"
          ]
        }
      ]
    },
    {
      "cell_type": "code",
      "source": [
        "### M5 ###\n",
        "\n",
        "%%R\n",
        "set.seed(123456)  #fijamos la misma semilla utilizada con regresión lineal\n",
        "\n",
        "k <- 5\n",
        "data$kfold <- sample(1:k, nrow(data), replace = T)\n",
        "\n",
        "performances <- c()\n",
        "# Una iteración por fold\n",
        "for (fold in 1:k){\n",
        "  # Se crea el conjunto de entrenamiento para la iteración\n",
        "  training_set <- data[data$kfold != fold,]\n",
        "  nombres <- names(training_set)\n",
        "  tam <- length(nombres)-1\n",
        "  training_set <- training_set[,nombres[1: tam]]\n",
        "\n",
        "  # Se crea el conjunto de test para la iteración\n",
        "  testing_set <- data[data$kfold == fold,]\n",
        "  nombres <- names(testing_set)\n",
        "  tam <- length(nombres)-1\n",
        "  testing_set <- testing_set[,nombres[1: tam]]\n",
        "\n",
        "  ## Entrenando el modelo para la iteración\n",
        "  tam <- length(names(training_set))\n",
        "  model <- cubist(x = training_set[, -tam], y = training_set$HOMA) #committees = 1\n",
        "\n",
        "  ## Calculando el error de test\n",
        "  yprime <- predict(model, testing_set)\n",
        "  RMSE <- sqrt(sum((testing_set$HOMA-yprime)^2)/length(yprime))\n",
        "\n",
        "  # Se añade el RECM a la lista de errores\n",
        "  performances[fold] <- RMSE\n",
        "}\n",
        "\n",
        "#Eliminamos la columna artificial añadida para kfold\n",
        "#(para que no acumule columnas si se ejecuta varias veces)\n",
        "nombres <- names(data)\n",
        "tam <- length(nombres)-1\n",
        "data <- data[,nombres[1: tam]]\n",
        "\n",
        "cat(\"RECM medio en test para 5-fcv en M5:\", mean(performances), \"y la Varianza del mismo es: \", var(performances))"
      ],
      "metadata": {
        "colab": {
          "base_uri": "https://localhost:8080/"
        },
        "id": "nBOPt1zx_MvZ",
        "outputId": "558a7a0c-6182-4792-db8e-04d30ffce761"
      },
      "execution_count": null,
      "outputs": [
        {
          "output_type": "stream",
          "name": "stdout",
          "text": [
            "RECM medio en test para 5-fcv en M5: 0.7807851 y la Varianza del mismo es:  0.03014785"
          ]
        }
      ]
    },
    {
      "cell_type": "markdown",
      "source": [
        "Tras realizar los modelados del aprendizaje supervisado hay que hacer una validación cruzada y obtener los valores de RMSE, el error en valores absolutos, y comprobar qué modelo da menor RMSE."
      ],
      "metadata": {
        "id": "Em9MxVofAXxs"
      }
    },
    {
      "cell_type": "code",
      "source": [],
      "metadata": {
        "id": "g9jcoyNbAET0"
      },
      "execution_count": null,
      "outputs": []
    }
  ]
}