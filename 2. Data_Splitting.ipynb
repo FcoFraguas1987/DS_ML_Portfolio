{
 "cells": [
  {
   "cell_type": "markdown",
   "id": "ff66fb41-95bf-403f-92c8-265986dabfac",
   "metadata": {},
   "source": [
    "# DATA DIVISSION\n",
    "\n",
    "## DATA FILES\n",
    "KDDTrain+.ARFF: The full NSL-KDD train set with binary labels in ARFF format\r\n",
    "KDDTrain+.TXT: The full NSL-KDD train set including attack-type labels and difficulty level in CSV format\r\n",
    "KDDTrain+_20Percent.ARFF: A 20% subset of the KDDTrain+.arff file\r\n",
    "KDDTrain+_20Percent.TXT: A 20% subset of the KDDTrain+.txt file\r\n",
    "KDDTest+.ARFF: The full NSL-KDD test set with binary labels in ARFF format\r\n",
    "KDDTest+.TXT: The full NSL-KDD test set including attack-type labels and difficulty level in CSV format\r\n",
    "KDDTest-21.ARFF: A subset of the KDDTest+.arff file which does not include records with difficulty level of 21 out of 21\r\n",
    "KDDTest-21.TXT: A subset of the KDDTest+.txt file which does not include records with difficulty level of 21DOWNLOAD DATAE DATOS\n",
    "\n",
    "https://iscxdownloads.cs.unb.ca/iscxdownloads/NSL-KDD/#NSL-KDD\n",
    "CISDA), 2009"
   ]
  },
  {
   "cell_type": "markdown",
   "id": "92518569-c6c4-437b-a4bd-0f8c7a53bfb7",
   "metadata": {},
   "source": [
    "# 1. READING DATA\n",
    "We use the arff and pandas libraries to put all the data into a dataframe from a file in arff format. We create a function for this purpose and obtain information from the data."
   ]
  },
  {
   "cell_type": "code",
   "execution_count": 1,
   "id": "cab32755-5b81-4104-aae2-3cc75c3000b2",
   "metadata": {},
   "outputs": [],
   "source": [
    "import arff\n",
    "import pandas as pd"
   ]
  },
  {
   "cell_type": "code",
   "execution_count": 4,
   "id": "f9fd8012-cd20-4165-aefd-027925f326b6",
   "metadata": {},
   "outputs": [],
   "source": [
    "def obtener_dataset(data_path):\n",
    "    \"\"\"Reading Data NSL-KDD.\"\"\"\n",
    "    with open(data_path, 'r') as train_set:\n",
    "        dataset = arff.load(train_set)\n",
    "    attributes = [attr[0] for attr in dataset[\"attributes\"]]\n",
    "    return pd.DataFrame(dataset[\"data\"], columns=attributes)\n",
    "\n",
    "ruta=\"../../datasets/NSL-KDD/KDDTrain+.arff\""
   ]
  },
  {
   "cell_type": "code",
   "execution_count": 5,
   "id": "4bbec632-fcf9-49a2-87c5-0680470d9b87",
   "metadata": {},
   "outputs": [],
   "source": [
    "df_crudo=obtener_dataset(ruta)"
   ]
  },
  {
   "cell_type": "code",
   "execution_count": 6,
   "id": "eba857b4-aca8-4eed-9cf5-986f16c74ce6",
   "metadata": {},
   "outputs": [
    {
     "name": "stdout",
     "output_type": "stream",
     "text": [
      "<class 'pandas.core.frame.DataFrame'>\n",
      "RangeIndex: 125973 entries, 0 to 125972\n",
      "Data columns (total 42 columns):\n",
      " #   Column                       Non-Null Count   Dtype  \n",
      "---  ------                       --------------   -----  \n",
      " 0   duration                     125973 non-null  float64\n",
      " 1   protocol_type                125973 non-null  object \n",
      " 2   service                      125973 non-null  object \n",
      " 3   flag                         125973 non-null  object \n",
      " 4   src_bytes                    125973 non-null  float64\n",
      " 5   dst_bytes                    125973 non-null  float64\n",
      " 6   land                         125973 non-null  object \n",
      " 7   wrong_fragment               125973 non-null  float64\n",
      " 8   urgent                       125973 non-null  float64\n",
      " 9   hot                          125973 non-null  float64\n",
      " 10  num_failed_logins            125973 non-null  float64\n",
      " 11  logged_in                    125973 non-null  object \n",
      " 12  num_compromised              125973 non-null  float64\n",
      " 13  root_shell                   125973 non-null  float64\n",
      " 14  su_attempted                 125973 non-null  float64\n",
      " 15  num_root                     125973 non-null  float64\n",
      " 16  num_file_creations           125973 non-null  float64\n",
      " 17  num_shells                   125973 non-null  float64\n",
      " 18  num_access_files             125973 non-null  float64\n",
      " 19  num_outbound_cmds            125973 non-null  float64\n",
      " 20  is_host_login                125973 non-null  object \n",
      " 21  is_guest_login               125973 non-null  object \n",
      " 22  count                        125973 non-null  float64\n",
      " 23  srv_count                    125973 non-null  float64\n",
      " 24  serror_rate                  125973 non-null  float64\n",
      " 25  srv_serror_rate              125973 non-null  float64\n",
      " 26  rerror_rate                  125973 non-null  float64\n",
      " 27  srv_rerror_rate              125973 non-null  float64\n",
      " 28  same_srv_rate                125973 non-null  float64\n",
      " 29  diff_srv_rate                125973 non-null  float64\n",
      " 30  srv_diff_host_rate           125973 non-null  float64\n",
      " 31  dst_host_count               125973 non-null  float64\n",
      " 32  dst_host_srv_count           125973 non-null  float64\n",
      " 33  dst_host_same_srv_rate       125973 non-null  float64\n",
      " 34  dst_host_diff_srv_rate       125973 non-null  float64\n",
      " 35  dst_host_same_src_port_rate  125973 non-null  float64\n",
      " 36  dst_host_srv_diff_host_rate  125973 non-null  float64\n",
      " 37  dst_host_serror_rate         125973 non-null  float64\n",
      " 38  dst_host_srv_serror_rate     125973 non-null  float64\n",
      " 39  dst_host_rerror_rate         125973 non-null  float64\n",
      " 40  dst_host_srv_rerror_rate     125973 non-null  float64\n",
      " 41  class                        125973 non-null  object \n",
      "dtypes: float64(34), object(8)\n",
      "memory usage: 40.4+ MB\n"
     ]
    }
   ],
   "source": [
    "df_crudo.info()"
   ]
  },
  {
   "cell_type": "markdown",
   "id": "5803a572-469c-4cf3-8246-797899b24e53",
   "metadata": {},
   "source": [
    "# 2. DATA SPLITTING\n",
    "\n",
    "We are going to perform data splitting. We will work with two partitioning methods, random and stratified. Both are methods contained in the sklearn library."
   ]
  },
  {
   "cell_type": "markdown",
   "id": "e1a018ff-aa1d-4d91-aac4-fd30bd461881",
   "metadata": {},
   "source": [
    "## ALEATORY SPLITTING\n",
    "\n",
    "We use train_set_split function. Using a percenteage (one-to-one) of the test_set "
   ]
  },
  {
   "cell_type": "code",
   "execution_count": 7,
   "id": "b6c8d98d-e1c0-46d0-93bc-085e6c9a3e94",
   "metadata": {},
   "outputs": [],
   "source": [
    "# From data we take 60% for training set and the rest for test set\n",
    "from sklearn.model_selection import train_test_split\n",
    "\n",
    "train_set, test_set = train_test_split(df_crudo, test_size=0.4, random_state=42)"
   ]
  },
  {
   "cell_type": "code",
   "execution_count": 7,
   "id": "b98a85a9-d043-4f39-b892-006017a601bb",
   "metadata": {},
   "outputs": [
    {
     "name": "stdout",
     "output_type": "stream",
     "text": [
      "<class 'pandas.core.frame.DataFrame'>\n",
      "Index: 75583 entries, 98320 to 121958\n",
      "Data columns (total 42 columns):\n",
      " #   Column                       Non-Null Count  Dtype  \n",
      "---  ------                       --------------  -----  \n",
      " 0   duration                     75583 non-null  float64\n",
      " 1   protocol_type                75583 non-null  object \n",
      " 2   service                      75583 non-null  object \n",
      " 3   flag                         75583 non-null  object \n",
      " 4   src_bytes                    75583 non-null  float64\n",
      " 5   dst_bytes                    75583 non-null  float64\n",
      " 6   land                         75583 non-null  object \n",
      " 7   wrong_fragment               75583 non-null  float64\n",
      " 8   urgent                       75583 non-null  float64\n",
      " 9   hot                          75583 non-null  float64\n",
      " 10  num_failed_logins            75583 non-null  float64\n",
      " 11  logged_in                    75583 non-null  object \n",
      " 12  num_compromised              75583 non-null  float64\n",
      " 13  root_shell                   75583 non-null  float64\n",
      " 14  su_attempted                 75583 non-null  float64\n",
      " 15  num_root                     75583 non-null  float64\n",
      " 16  num_file_creations           75583 non-null  float64\n",
      " 17  num_shells                   75583 non-null  float64\n",
      " 18  num_access_files             75583 non-null  float64\n",
      " 19  num_outbound_cmds            75583 non-null  float64\n",
      " 20  is_host_login                75583 non-null  object \n",
      " 21  is_guest_login               75583 non-null  object \n",
      " 22  count                        75583 non-null  float64\n",
      " 23  srv_count                    75583 non-null  float64\n",
      " 24  serror_rate                  75583 non-null  float64\n",
      " 25  srv_serror_rate              75583 non-null  float64\n",
      " 26  rerror_rate                  75583 non-null  float64\n",
      " 27  srv_rerror_rate              75583 non-null  float64\n",
      " 28  same_srv_rate                75583 non-null  float64\n",
      " 29  diff_srv_rate                75583 non-null  float64\n",
      " 30  srv_diff_host_rate           75583 non-null  float64\n",
      " 31  dst_host_count               75583 non-null  float64\n",
      " 32  dst_host_srv_count           75583 non-null  float64\n",
      " 33  dst_host_same_srv_rate       75583 non-null  float64\n",
      " 34  dst_host_diff_srv_rate       75583 non-null  float64\n",
      " 35  dst_host_same_src_port_rate  75583 non-null  float64\n",
      " 36  dst_host_srv_diff_host_rate  75583 non-null  float64\n",
      " 37  dst_host_serror_rate         75583 non-null  float64\n",
      " 38  dst_host_srv_serror_rate     75583 non-null  float64\n",
      " 39  dst_host_rerror_rate         75583 non-null  float64\n",
      " 40  dst_host_srv_rerror_rate     75583 non-null  float64\n",
      " 41  class                        75583 non-null  object \n",
      "dtypes: float64(34), object(8)\n",
      "memory usage: 24.8+ MB\n"
     ]
    }
   ],
   "source": [
    "train_set.info()"
   ]
  },
  {
   "cell_type": "code",
   "execution_count": 8,
   "id": "fdd2fee3-71f8-453f-a835-fd023e3b33ce",
   "metadata": {},
   "outputs": [],
   "source": [
    "test_set, validation_set = train_test_split(test_set, test_size=0.5, random_state=42)"
   ]
  },
  {
   "cell_type": "markdown",
   "id": "c15bb6bf-3b0c-4576-938d-6e37a9f76238",
   "metadata": {},
   "source": [
    "Now we will examine the properties of the validation test and the lengths of all sets, as well as the data dispersion of a class-type feature."
   ]
  },
  {
   "cell_type": "code",
   "execution_count": 9,
   "id": "b36ad3c1-7c4e-4586-b797-a449cc90b39c",
   "metadata": {},
   "outputs": [
    {
     "name": "stdout",
     "output_type": "stream",
     "text": [
      "<class 'pandas.core.frame.DataFrame'>\n",
      "Index: 25195 entries, 115297 to 79319\n",
      "Data columns (total 42 columns):\n",
      " #   Column                       Non-Null Count  Dtype  \n",
      "---  ------                       --------------  -----  \n",
      " 0   duration                     25195 non-null  float64\n",
      " 1   protocol_type                25195 non-null  object \n",
      " 2   service                      25195 non-null  object \n",
      " 3   flag                         25195 non-null  object \n",
      " 4   src_bytes                    25195 non-null  float64\n",
      " 5   dst_bytes                    25195 non-null  float64\n",
      " 6   land                         25195 non-null  object \n",
      " 7   wrong_fragment               25195 non-null  float64\n",
      " 8   urgent                       25195 non-null  float64\n",
      " 9   hot                          25195 non-null  float64\n",
      " 10  num_failed_logins            25195 non-null  float64\n",
      " 11  logged_in                    25195 non-null  object \n",
      " 12  num_compromised              25195 non-null  float64\n",
      " 13  root_shell                   25195 non-null  float64\n",
      " 14  su_attempted                 25195 non-null  float64\n",
      " 15  num_root                     25195 non-null  float64\n",
      " 16  num_file_creations           25195 non-null  float64\n",
      " 17  num_shells                   25195 non-null  float64\n",
      " 18  num_access_files             25195 non-null  float64\n",
      " 19  num_outbound_cmds            25195 non-null  float64\n",
      " 20  is_host_login                25195 non-null  object \n",
      " 21  is_guest_login               25195 non-null  object \n",
      " 22  count                        25195 non-null  float64\n",
      " 23  srv_count                    25195 non-null  float64\n",
      " 24  serror_rate                  25195 non-null  float64\n",
      " 25  srv_serror_rate              25195 non-null  float64\n",
      " 26  rerror_rate                  25195 non-null  float64\n",
      " 27  srv_rerror_rate              25195 non-null  float64\n",
      " 28  same_srv_rate                25195 non-null  float64\n",
      " 29  diff_srv_rate                25195 non-null  float64\n",
      " 30  srv_diff_host_rate           25195 non-null  float64\n",
      " 31  dst_host_count               25195 non-null  float64\n",
      " 32  dst_host_srv_count           25195 non-null  float64\n",
      " 33  dst_host_same_srv_rate       25195 non-null  float64\n",
      " 34  dst_host_diff_srv_rate       25195 non-null  float64\n",
      " 35  dst_host_same_src_port_rate  25195 non-null  float64\n",
      " 36  dst_host_srv_diff_host_rate  25195 non-null  float64\n",
      " 37  dst_host_serror_rate         25195 non-null  float64\n",
      " 38  dst_host_srv_serror_rate     25195 non-null  float64\n",
      " 39  dst_host_rerror_rate         25195 non-null  float64\n",
      " 40  dst_host_srv_rerror_rate     25195 non-null  float64\n",
      " 41  class                        25195 non-null  object \n",
      "dtypes: float64(34), object(8)\n",
      "memory usage: 8.3+ MB\n"
     ]
    }
   ],
   "source": [
    "test_set.info()"
   ]
  },
  {
   "cell_type": "code",
   "execution_count": 10,
   "id": "798a0bf2-7ecf-42d4-901f-269212b22c62",
   "metadata": {},
   "outputs": [
    {
     "name": "stdout",
     "output_type": "stream",
     "text": [
      "<class 'pandas.core.frame.DataFrame'>\n",
      "Index: 25195 entries, 34615 to 84708\n",
      "Data columns (total 42 columns):\n",
      " #   Column                       Non-Null Count  Dtype  \n",
      "---  ------                       --------------  -----  \n",
      " 0   duration                     25195 non-null  float64\n",
      " 1   protocol_type                25195 non-null  object \n",
      " 2   service                      25195 non-null  object \n",
      " 3   flag                         25195 non-null  object \n",
      " 4   src_bytes                    25195 non-null  float64\n",
      " 5   dst_bytes                    25195 non-null  float64\n",
      " 6   land                         25195 non-null  object \n",
      " 7   wrong_fragment               25195 non-null  float64\n",
      " 8   urgent                       25195 non-null  float64\n",
      " 9   hot                          25195 non-null  float64\n",
      " 10  num_failed_logins            25195 non-null  float64\n",
      " 11  logged_in                    25195 non-null  object \n",
      " 12  num_compromised              25195 non-null  float64\n",
      " 13  root_shell                   25195 non-null  float64\n",
      " 14  su_attempted                 25195 non-null  float64\n",
      " 15  num_root                     25195 non-null  float64\n",
      " 16  num_file_creations           25195 non-null  float64\n",
      " 17  num_shells                   25195 non-null  float64\n",
      " 18  num_access_files             25195 non-null  float64\n",
      " 19  num_outbound_cmds            25195 non-null  float64\n",
      " 20  is_host_login                25195 non-null  object \n",
      " 21  is_guest_login               25195 non-null  object \n",
      " 22  count                        25195 non-null  float64\n",
      " 23  srv_count                    25195 non-null  float64\n",
      " 24  serror_rate                  25195 non-null  float64\n",
      " 25  srv_serror_rate              25195 non-null  float64\n",
      " 26  rerror_rate                  25195 non-null  float64\n",
      " 27  srv_rerror_rate              25195 non-null  float64\n",
      " 28  same_srv_rate                25195 non-null  float64\n",
      " 29  diff_srv_rate                25195 non-null  float64\n",
      " 30  srv_diff_host_rate           25195 non-null  float64\n",
      " 31  dst_host_count               25195 non-null  float64\n",
      " 32  dst_host_srv_count           25195 non-null  float64\n",
      " 33  dst_host_same_srv_rate       25195 non-null  float64\n",
      " 34  dst_host_diff_srv_rate       25195 non-null  float64\n",
      " 35  dst_host_same_src_port_rate  25195 non-null  float64\n",
      " 36  dst_host_srv_diff_host_rate  25195 non-null  float64\n",
      " 37  dst_host_serror_rate         25195 non-null  float64\n",
      " 38  dst_host_srv_serror_rate     25195 non-null  float64\n",
      " 39  dst_host_rerror_rate         25195 non-null  float64\n",
      " 40  dst_host_srv_rerror_rate     25195 non-null  float64\n",
      " 41  class                        25195 non-null  object \n",
      "dtypes: float64(34), object(8)\n",
      "memory usage: 8.3+ MB\n"
     ]
    }
   ],
   "source": [
    "validation_set.info()"
   ]
  },
  {
   "cell_type": "code",
   "execution_count": 10,
   "id": "1843ce4a-6ffd-4b3c-b08b-f70d176639b6",
   "metadata": {},
   "outputs": [
    {
     "name": "stdout",
     "output_type": "stream",
     "text": [
      "Training set size is:  75583\n",
      "Test set size iss:  25195\n",
      "Validation set size is:  25195\n"
     ]
    }
   ],
   "source": [
    "print (\"Training set size is: \", len(train_set))\n",
    "print (\"Test set size iss: \", len(test_set))\n",
    "print (\"Validation set size is: \", len(validation_set))"
   ]
  },
  {
   "cell_type": "code",
   "execution_count": 11,
   "id": "2de54928-35ac-41dc-b185-0eccaa69a796",
   "metadata": {},
   "outputs": [
    {
     "data": {
      "image/png": "[encoded data removed]",
      "text/plain": [
       "<Figure size 640x480 with 1 Axes>"
      ]
     },
     "metadata": {},
     "output_type": "display_data"
    }
   ],
   "source": [
    "%matplotlib inline\n",
    "import matplotlib.pyplot as plt\n",
    "\n",
    "data_list = [train_set,test_set,validation_set]\n",
    "\n",
    "for data in data_list:\n",
    "    data[\"protocol_type\"].hist()"
   ]
  },
  {
   "cell_type": "markdown",
   "id": "2d8fcdbf-bc91-4f67-8632-1dfaad45b2f0",
   "metadata": {},
   "source": [
    "## ALEATORY SPLITTING\n",
    "\n",
    "The train_set_split function has the shuffle option. When the value of this option is FALSE, many partitions can be made without fear of including all the data from the dataset in the train_set. This undesirable effect would generate an algorithm that fits the dataset very well but not efficiently to new data."
   ]
  },
  {
   "cell_type": "code",
   "execution_count": 12,
   "id": "108ca268-3d6c-4676-9efd-d3e36814778c",
   "metadata": {},
   "outputs": [],
   "source": [
    "train_set, test_set = train_test_split(df_crudo, test_size=0.4, random_state=42, shuffle=False)"
   ]
  },
  {
   "cell_type": "code",
   "execution_count": 13,
   "id": "abfc9067-7f1c-4645-a3eb-2f32db35a736",
   "metadata": {},
   "outputs": [],
   "source": [
    "# Splitting where stratification is done based on a protocol type feature\n",
    "train_set, test_set = train_test_split(df_crudo, test_size=0.4, random_state=42, stratify=df_crudo[\"protocol_type\"])"
   ]
  },
  {
   "cell_type": "code",
   "execution_count": 14,
   "id": "58b7c328-7789-45ba-8886-32261b2188ae",
   "metadata": {},
   "outputs": [],
   "source": [
    "test_set, validation_set = train_test_split(test_set, test_size=0.5, random_state=42, stratify=test_set[\"protocol_type\"])"
   ]
  },
  {
   "cell_type": "code",
   "execution_count": 15,
   "id": "c1c4c1cf-57da-4661-9859-0fd8201fd7ad",
   "metadata": {},
   "outputs": [
    {
     "name": "stdout",
     "output_type": "stream",
     "text": [
      "Training set size is:  75583\n",
      "Test set size is:  25195\n",
      "Validation set size iss:  25195\n"
     ]
    }
   ],
   "source": [
    "print (\"Training set size is: \", len(train_set))\n",
    "print (\"Test set size is: \", len(test_set))\n",
    "print (\"Validation set size iss: \", len(validation_set))"
   ]
  },
  {
   "cell_type": "code",
   "execution_count": 16,
   "id": "8928a54d-2297-42b3-a64b-c0d3a671090e",
   "metadata": {},
   "outputs": [
    {
     "data": {
      "image/png": "[encoded data removed]",
      "text/plain": [
       "<Figure size 640x480 with 1 Axes>"
      ]
     },
     "metadata": {},
     "output_type": "display_data"
    }
   ],
   "source": [
    "%matplotlib inline\n",
    "import matplotlib.pyplot as plt\n",
    "\n",
    "data_list = [train_set,test_set,validation_set]\n",
    "\n",
    "for data in data_list:\n",
    "    data[\"protocol_type\"].hist()"
   ]
  },
  {
   "cell_type": "code",
   "execution_count": null,
   "id": "1989cbb3-d496-473c-8f98-bbdca52d46e2",
   "metadata": {},
   "outputs": [],
   "source": []
  }
 ],
 "metadata": {
  "kernelspec": {
   "display_name": "Python 3 (ipykernel)",
   "language": "python",
   "name": "python3"
  },
  "language_info": {
   "codemirror_mode": {
    "name": "ipython",
    "version": 3
   },
   "file_extension": ".py",
   "mimetype": "text/x-python",
   "name": "python",
   "nbconvert_exporter": "python",
   "pygments_lexer": "ipython3",
   "version": "3.11.8"
  }
 },
 "nbformat": 4,
 "nbformat_minor": 5
}
