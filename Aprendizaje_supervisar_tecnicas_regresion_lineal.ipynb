{
  "nbformat": 4,
  "nbformat_minor": 0,
  "metadata": {
    "colab": {
      "provenance": [],
      "authorship_tag": "ABX9TyM8u++wtZeDXqRpoAY20l7e",
      "include_colab_link": true
    },
    "kernelspec": {
      "name": "python3",
      "display_name": "Python 3"
    },
    "language_info": {
      "name": "python"
    }
  },
  "cells": [
    {
      "cell_type": "markdown",
      "metadata": {
        "id": "view-in-github",
        "colab_type": "text"
      },
      "source": [
        "<a href=\"https://colab.research.google.com/github/FcoFraguas1987/DS_ML_Portfolio/blob/DS_ML_Bioinformatics/Aprendizaje_supervisar_tecnicas_regresion_lineal.ipynb\" target=\"_parent\"><img src=\"https://colab.research.google.com/assets/colab-badge.svg\" alt=\"Open In Colab\"/></a>"
      ]
    },
    {
      "cell_type": "markdown",
      "source": [
        "# APRENDIZAJE AUTOMÁTICO REGRESIÓN LINEAR"
      ],
      "metadata": {
        "id": "AbLp2iUCYyAX"
      }
    },
    {
      "cell_type": "markdown",
      "source": [
        "##DATOS PROBLEMA\n",
        "\n",
        "\n",
        "###Descripción del dataset\n",
        "Utilizamos un conjunto de datos conformado por datos clínicos de obesidad infantil obtenidos en pacientes que podrían presentar insulino-resistencia.\n",
        "Este nuevo conjunto de datos de obesidad contiene información para 16 variables en 292 niños. Dicha información se deriva de una cohorte de niños españoles con edades comprendidas entre 5 a 15 años, agrupados en tres condiciones experimentales (normopeso, sobrepeso y niños con obesidad). Para ellos, hay disponible una amplia gama de datos clínicos, bioquímicos y antropométricos (composición corporal), así como datos de estilo de vida y actividad física (obtenidos mediante acelerómetros).\n",
        "\n",
        "-----------\n",
        "\n",
        "###Proceso de estudio\n",
        "Este conjunto de datos, que incluye tanto datos clínicos como antropométricos, ha demostrado una gran utilidad para predecir una variable de salida de tal relevancia clínica como es el índice de insulino-resistencia (HOMA-IR por sus siglas en Inglés).\n",
        "\n",
        "A través de la aplicación de técnicas de regresión sobre este conjunto de datos, se podría estudiar la relación entre las variables de antropometría, bioquímica, actividad física y el estado de insulino-resistencia, así como predecir el propio índice de insulinoresistencia HOMA-IR a partir de las anteriores.\n",
        "\n",
        "El estudio lo vamos a realizar sobre una submuestra, dicha submuestra consta de 292 individuos que a su vez presentan datos de actividad física de calidad suficiente. En los análisis el índice de resistencia a la insulina HOMA-IR se incluirá como variable de salida, constituyendo el output de nuestros modelos de regresión, ya que se ha validado ampliamente como un buen indicador del estado de insulino-resistencia y pre-Diabetes en niños y adultos. Como variables de entrada en el modelo, emplearemos datos clínicos y antropométricos (como el sexo, la edad, el estadío puberal, la altura, la circunferencia de cintura y el Índice de Masa Corporal (IMC)), principales mediciones de actividad física (tales como el número de minutos diarios de inactividad (sedentarismo), o de actividad física leve, moderada y vigorosa). Además, se incluirán indicadores de disfunción cardio-metabólica distintos al propio HOMA-IR (como son los niveles de colesterol HDLc y LDLc, triglicéridos y la presión sanguinea).\n",
        "\n",
        "-----------------------------"
      ],
      "metadata": {
        "id": "ZCBL7fVkY6jG"
      }
    },
    {
      "cell_type": "markdown",
      "source": [
        "### Software de trabajo\n",
        "\n",
        "Se realizará todo el análisis con R. En R, los algoritmos permiten realizar una formulación directa sobre el uso de las variables de cualquier conjunto de datos. Ésto permite realizar una construcción por pasos de los modelos, integrando/determinando las variables realmente relevantes y descubriendo el tipo de relación/interacción existente entre las mismas. Igualmente, en R se dispone de más algoritmos y, en nuestro caso, se hace necesario para poder utilizar el algoritmo M5 (vía Cubist) por ser casi un paradigma en el área de la regresión"
      ],
      "metadata": {
        "id": "jCIFmYXUa9lr"
      }
    },
    {
      "cell_type": "markdown",
      "source": [
        "### Instalando Software y bibliotecas"
      ],
      "metadata": {
        "id": "G8WeBj6ucIUo"
      }
    },
    {
      "cell_type": "code",
      "execution_count": null,
      "metadata": {
        "colab": {
          "base_uri": "https://localhost:8080/"
        },
        "id": "TUGPIqL-YvWQ",
        "outputId": "fa35bee7-55f7-496e-ceb2-ff7a11e9952a"
      },
      "outputs": [
        {
          "output_type": "stream",
          "name": "stdout",
          "text": [
            "Hit:1 http://archive.ubuntu.com/ubuntu jammy InRelease\n",
            "Get:2 http://archive.ubuntu.com/ubuntu jammy-updates InRelease [119 kB]\n",
            "Get:3 http://security.ubuntu.com/ubuntu jammy-security InRelease [110 kB]\n",
            "Get:4 https://cloud.r-project.org/bin/linux/ubuntu jammy-cran40/ InRelease [3,626 B]\n",
            "Get:5 https://developer.download.nvidia.com/compute/cuda/repos/ubuntu2204/x86_64  InRelease [1,581 B]\n",
            "Get:6 http://archive.ubuntu.com/ubuntu jammy-backports InRelease [109 kB]\n",
            "Hit:7 https://ppa.launchpadcontent.net/c2d4u.team/c2d4u4.0+/ubuntu jammy InRelease\n",
            "Hit:8 https://ppa.launchpadcontent.net/deadsnakes/ppa/ubuntu jammy InRelease\n",
            "Get:9 http://archive.ubuntu.com/ubuntu jammy-updates/main amd64 Packages [2,069 kB]\n",
            "Hit:10 https://ppa.launchpadcontent.net/graphics-drivers/ppa/ubuntu jammy InRelease\n",
            "Hit:11 https://ppa.launchpadcontent.net/ubuntugis/ppa/ubuntu jammy InRelease\n",
            "Get:12 http://archive.ubuntu.com/ubuntu jammy-updates/universe amd64 Packages [1,374 kB]\n",
            "Get:13 https://developer.download.nvidia.com/compute/cuda/repos/ubuntu2204/x86_64  Packages [830 kB]\n",
            "Get:14 http://security.ubuntu.com/ubuntu jammy-security/universe amd64 Packages [1,082 kB]\n",
            "Get:15 http://security.ubuntu.com/ubuntu jammy-security/main amd64 Packages [1,798 kB]\n",
            "Fetched 7,496 kB in 2s (3,473 kB/s)\n",
            "Reading package lists... Done\n",
            "Reading package lists... Done\n",
            "Building dependency tree... Done\n",
            "Reading state information... Done\n",
            "r-base is already the newest version (4.4.0-1.2204.0).\n",
            "0 upgraded, 0 newly installed, 0 to remove and 51 not upgraded.\n",
            "Collecting rpy2==3.5.1\n",
            "  Downloading rpy2-3.5.1.tar.gz (201 kB)\n",
            "\u001b[2K     \u001b[90m━━━━━━━━━━━━━━━━━━━━━━━━━━━━━━━━━━━━━━━━\u001b[0m \u001b[32m201.7/201.7 kB\u001b[0m \u001b[31m3.8 MB/s\u001b[0m eta \u001b[36m0:00:00\u001b[0m\n",
            "\u001b[?25h  Preparing metadata (setup.py) ... \u001b[?25l\u001b[?25hdone\n",
            "Requirement already satisfied: cffi>=1.10.0 in /usr/local/lib/python3.10/dist-packages (from rpy2==3.5.1) (1.16.0)\n",
            "Requirement already satisfied: jinja2 in /usr/local/lib/python3.10/dist-packages (from rpy2==3.5.1) (3.1.4)\n",
            "Requirement already satisfied: pytz in /usr/local/lib/python3.10/dist-packages (from rpy2==3.5.1) (2023.4)\n",
            "Requirement already satisfied: tzlocal in /usr/local/lib/python3.10/dist-packages (from rpy2==3.5.1) (5.2)\n",
            "Requirement already satisfied: pycparser in /usr/local/lib/python3.10/dist-packages (from cffi>=1.10.0->rpy2==3.5.1) (2.22)\n",
            "Requirement already satisfied: MarkupSafe>=2.0 in /usr/local/lib/python3.10/dist-packages (from jinja2->rpy2==3.5.1) (2.1.5)\n",
            "Building wheels for collected packages: rpy2\n",
            "  Building wheel for rpy2 (setup.py) ... \u001b[?25l\u001b[?25hdone\n",
            "  Created wheel for rpy2: filename=rpy2-3.5.1-cp310-cp310-linux_x86_64.whl size=314932 sha256=f7c5cc76ff27a9ee8ae579d904ce57fcaa688d172150434c95f31cafe4232305\n",
            "  Stored in directory: /root/.cache/pip/wheels/73/a6/ff/4e75dd1ce1cfa2b9a670cbccf6a1e41c553199e9b25f05d953\n",
            "Successfully built rpy2\n",
            "Installing collected packages: rpy2\n",
            "  Attempting uninstall: rpy2\n",
            "    Found existing installation: rpy2 3.4.2\n",
            "    Uninstalling rpy2-3.4.2:\n",
            "      Successfully uninstalled rpy2-3.4.2\n",
            "Successfully installed rpy2-3.5.1\n",
            "Instalación de R en Google Colab terminada\n"
          ]
        }
      ],
      "source": [
        "### Instalación de R en Google Colab ###\n",
        "!apt-get update\n",
        "!apt-get install r-base\n",
        "!pip install rpy2==3.5.1\n",
        "%load_ext rpy2.ipython\n",
        "print (\"Instalación de R en Google Colab terminada\")"
      ]
    },
    {
      "cell_type": "code",
      "source": [
        "# Bibliotecas necesarias: # ISLR para regresión lineal multivariable # kknn para k-vecinos más cercanos de regresión # Cubist para modelos de regresión basados en M5\n",
        "%%R\n",
        "### Instalación de las bibliotecas necesarias\n",
        "install.packages(c(\"ISLR\", \"kknn\", \"Cubist\"))\n",
        "print (\"Instalación de las bibliotecas de R para este módulo terminada\")"
      ],
      "metadata": {
        "colab": {
          "base_uri": "https://localhost:8080/"
        },
        "id": "VITiSkObb7oT",
        "outputId": "a37e733e-7462-477c-9afa-36fbbe12e93a"
      },
      "execution_count": null,
      "outputs": [
        {
          "output_type": "stream",
          "name": "stderr",
          "text": [
            "WARNING:rpy2.rinterface_lib.callbacks:R[write to console]: Installing packages into ‘/usr/local/lib/R/site-library’\n",
            "(as ‘lib’ is unspecified)\n",
            "\n",
            "WARNING:rpy2.rinterface_lib.callbacks:R[write to console]: also installing the dependencies ‘plyr’, ‘Rcpp’, ‘igraph’, ‘reshape2’\n",
            "\n",
            "\n",
            "WARNING:rpy2.rinterface_lib.callbacks:R[write to console]: trying URL 'https://cran.rstudio.com/src/contrib/plyr_1.8.9.tar.gz'\n",
            "\n",
            "WARNING:rpy2.rinterface_lib.callbacks:R[write to console]: Content type 'application/x-gzip'\n",
            "WARNING:rpy2.rinterface_lib.callbacks:R[write to console]:  length 401488 bytes (392 KB)\n",
            "\n",
            "WARNING:rpy2.rinterface_lib.callbacks:R[write to console]: =\n",
            "WARNING:rpy2.rinterface_lib.callbacks:R[write to console]: =\n",
            "WARNING:rpy2.rinterface_lib.callbacks:R[write to console]: =\n",
            "WARNING:rpy2.rinterface_lib.callbacks:R[write to console]: =\n",
            "WARNING:rpy2.rinterface_lib.callbacks:R[write to console]: =\n",
            "WARNING:rpy2.rinterface_lib.callbacks:R[write to console]: =\n",
            "WARNING:rpy2.rinterface_lib.callbacks:R[write to console]: =\n",
            "WARNING:rpy2.rinterface_lib.callbacks:R[write to console]: =\n",
            "WARNING:rpy2.rinterface_lib.callbacks:R[write to console]: =\n",
            "WARNING:rpy2.rinterface_lib.callbacks:R[write to console]: =\n",
            "WARNING:rpy2.rinterface_lib.callbacks:R[write to console]: =\n",
            "WARNING:rpy2.rinterface_lib.callbacks:R[write to console]: =\n",
            "WARNING:rpy2.rinterface_lib.callbacks:R[write to console]: =\n",
            "WARNING:rpy2.rinterface_lib.callbacks:R[write to console]: =\n",
            "WARNING:rpy2.rinterface_lib.callbacks:R[write to console]: =\n",
            "WARNING:rpy2.rinterface_lib.callbacks:R[write to console]: =\n",
            "WARNING:rpy2.rinterface_lib.callbacks:R[write to console]: =\n",
            "WARNING:rpy2.rinterface_lib.callbacks:R[write to console]: =\n",
            "WARNING:rpy2.rinterface_lib.callbacks:R[write to console]: =\n",
            "WARNING:rpy2.rinterface_lib.callbacks:R[write to console]: =\n",
            "WARNING:rpy2.rinterface_lib.callbacks:R[write to console]: =\n",
            "WARNING:rpy2.rinterface_lib.callbacks:R[write to console]: =\n",
            "WARNING:rpy2.rinterface_lib.callbacks:R[write to console]: =\n",
            "WARNING:rpy2.rinterface_lib.callbacks:R[write to console]: =\n",
            "WARNING:rpy2.rinterface_lib.callbacks:R[write to console]: =\n",
            "WARNING:rpy2.rinterface_lib.callbacks:R[write to console]: =\n",
            "WARNING:rpy2.rinterface_lib.callbacks:R[write to console]: =\n",
            "WARNING:rpy2.rinterface_lib.callbacks:R[write to console]: =\n",
            "WARNING:rpy2.rinterface_lib.callbacks:R[write to console]: =\n",
            "WARNING:rpy2.rinterface_lib.callbacks:R[write to console]: =\n",
            "WARNING:rpy2.rinterface_lib.callbacks:R[write to console]: =\n",
            "WARNING:rpy2.rinterface_lib.callbacks:R[write to console]: =\n",
            "WARNING:rpy2.rinterface_lib.callbacks:R[write to console]: =\n",
            "WARNING:rpy2.rinterface_lib.callbacks:R[write to console]: =\n",
            "WARNING:rpy2.rinterface_lib.callbacks:R[write to console]: =\n",
            "WARNING:rpy2.rinterface_lib.callbacks:R[write to console]: =\n",
            "WARNING:rpy2.rinterface_lib.callbacks:R[write to console]: =\n",
            "WARNING:rpy2.rinterface_lib.callbacks:R[write to console]: =\n",
            "WARNING:rpy2.rinterface_lib.callbacks:R[write to console]: =\n",
            "WARNING:rpy2.rinterface_lib.callbacks:R[write to console]: =\n",
            "WARNING:rpy2.rinterface_lib.callbacks:R[write to console]: =\n",
            "WARNING:rpy2.rinterface_lib.callbacks:R[write to console]: =\n",
            "WARNING:rpy2.rinterface_lib.callbacks:R[write to console]: =\n",
            "WARNING:rpy2.rinterface_lib.callbacks:R[write to console]: =\n",
            "WARNING:rpy2.rinterface_lib.callbacks:R[write to console]: =\n",
            "WARNING:rpy2.rinterface_lib.callbacks:R[write to console]: =\n",
            "WARNING:rpy2.rinterface_lib.callbacks:R[write to console]: =\n",
            "WARNING:rpy2.rinterface_lib.callbacks:R[write to console]: =\n",
            "WARNING:rpy2.rinterface_lib.callbacks:R[write to console]: =\n",
            "WARNING:rpy2.rinterface_lib.callbacks:R[write to console]: =\n",
            "WARNING:rpy2.rinterface_lib.callbacks:R[write to console]: \n",
            "\n",
            "WARNING:rpy2.rinterface_lib.callbacks:R[write to console]: downloaded 392 KB\n",
            "\n",
            "\n",
            "WARNING:rpy2.rinterface_lib.callbacks:R[write to console]: trying URL 'https://cran.rstudio.com/src/contrib/Rcpp_1.0.12.tar.gz'\n",
            "\n",
            "WARNING:rpy2.rinterface_lib.callbacks:R[write to console]: Content type 'application/x-gzip'\n",
            "WARNING:rpy2.rinterface_lib.callbacks:R[write to console]:  length 3430494 bytes (3.3 MB)\n",
            "\n",
            "WARNING:rpy2.rinterface_lib.callbacks:R[write to console]: =\n",
            "WARNING:rpy2.rinterface_lib.callbacks:R[write to console]: =\n",
            "WARNING:rpy2.rinterface_lib.callbacks:R[write to console]: =\n",
            "WARNING:rpy2.rinterface_lib.callbacks:R[write to console]: =\n",
            "WARNING:rpy2.rinterface_lib.callbacks:R[write to console]: =\n",
            "WARNING:rpy2.rinterface_lib.callbacks:R[write to console]: =\n",
            "WARNING:rpy2.rinterface_lib.callbacks:R[write to console]: =\n",
            "WARNING:rpy2.rinterface_lib.callbacks:R[write to console]: =\n",
            "WARNING:rpy2.rinterface_lib.callbacks:R[write to console]: =\n",
            "WARNING:rpy2.rinterface_lib.callbacks:R[write to console]: =\n",
            "WARNING:rpy2.rinterface_lib.callbacks:R[write to console]: =\n",
            "WARNING:rpy2.rinterface_lib.callbacks:R[write to console]: =\n",
            "WARNING:rpy2.rinterface_lib.callbacks:R[write to console]: =\n",
            "WARNING:rpy2.rinterface_lib.callbacks:R[write to console]: =\n",
            "WARNING:rpy2.rinterface_lib.callbacks:R[write to console]: =\n",
            "WARNING:rpy2.rinterface_lib.callbacks:R[write to console]: =\n",
            "WARNING:rpy2.rinterface_lib.callbacks:R[write to console]: =\n",
            "WARNING:rpy2.rinterface_lib.callbacks:R[write to console]: =\n",
            "WARNING:rpy2.rinterface_lib.callbacks:R[write to console]: =\n",
            "WARNING:rpy2.rinterface_lib.callbacks:R[write to console]: =\n",
            "WARNING:rpy2.rinterface_lib.callbacks:R[write to console]: =\n",
            "WARNING:rpy2.rinterface_lib.callbacks:R[write to console]: =\n",
            "WARNING:rpy2.rinterface_lib.callbacks:R[write to console]: =\n",
            "WARNING:rpy2.rinterface_lib.callbacks:R[write to console]: =\n",
            "WARNING:rpy2.rinterface_lib.callbacks:R[write to console]: =\n",
            "WARNING:rpy2.rinterface_lib.callbacks:R[write to console]: =\n",
            "WARNING:rpy2.rinterface_lib.callbacks:R[write to console]: =\n",
            "WARNING:rpy2.rinterface_lib.callbacks:R[write to console]: =\n",
            "WARNING:rpy2.rinterface_lib.callbacks:R[write to console]: =\n",
            "WARNING:rpy2.rinterface_lib.callbacks:R[write to console]: =\n",
            "WARNING:rpy2.rinterface_lib.callbacks:R[write to console]: =\n",
            "WARNING:rpy2.rinterface_lib.callbacks:R[write to console]: =\n",
            "WARNING:rpy2.rinterface_lib.callbacks:R[write to console]: =\n",
            "WARNING:rpy2.rinterface_lib.callbacks:R[write to console]: =\n",
            "WARNING:rpy2.rinterface_lib.callbacks:R[write to console]: =\n",
            "WARNING:rpy2.rinterface_lib.callbacks:R[write to console]: =\n",
            "WARNING:rpy2.rinterface_lib.callbacks:R[write to console]: =\n",
            "WARNING:rpy2.rinterface_lib.callbacks:R[write to console]: =\n",
            "WARNING:rpy2.rinterface_lib.callbacks:R[write to console]: =\n",
            "WARNING:rpy2.rinterface_lib.callbacks:R[write to console]: =\n",
            "WARNING:rpy2.rinterface_lib.callbacks:R[write to console]: =\n",
            "WARNING:rpy2.rinterface_lib.callbacks:R[write to console]: =\n",
            "WARNING:rpy2.rinterface_lib.callbacks:R[write to console]: =\n",
            "WARNING:rpy2.rinterface_lib.callbacks:R[write to console]: =\n",
            "WARNING:rpy2.rinterface_lib.callbacks:R[write to console]: =\n",
            "WARNING:rpy2.rinterface_lib.callbacks:R[write to console]: =\n",
            "WARNING:rpy2.rinterface_lib.callbacks:R[write to console]: =\n",
            "WARNING:rpy2.rinterface_lib.callbacks:R[write to console]: =\n",
            "WARNING:rpy2.rinterface_lib.callbacks:R[write to console]: =\n",
            "WARNING:rpy2.rinterface_lib.callbacks:R[write to console]: =\n",
            "WARNING:rpy2.rinterface_lib.callbacks:R[write to console]: \n",
            "\n",
            "WARNING:rpy2.rinterface_lib.callbacks:R[write to console]: downloaded 3.3 MB\n",
            "\n",
            "\n",
            "WARNING:rpy2.rinterface_lib.callbacks:R[write to console]: trying URL 'https://cran.rstudio.com/src/contrib/igraph_2.0.3.tar.gz'\n",
            "\n",
            "WARNING:rpy2.rinterface_lib.callbacks:R[write to console]: Content type 'application/x-gzip'\n",
            "WARNING:rpy2.rinterface_lib.callbacks:R[write to console]:  length 4967875 bytes (4.7 MB)\n",
            "\n",
            "WARNING:rpy2.rinterface_lib.callbacks:R[write to console]: =\n",
            "WARNING:rpy2.rinterface_lib.callbacks:R[write to console]: =\n",
            "WARNING:rpy2.rinterface_lib.callbacks:R[write to console]: =\n",
            "WARNING:rpy2.rinterface_lib.callbacks:R[write to console]: =\n",
            "WARNING:rpy2.rinterface_lib.callbacks:R[write to console]: =\n",
            "WARNING:rpy2.rinterface_lib.callbacks:R[write to console]: =\n",
            "WARNING:rpy2.rinterface_lib.callbacks:R[write to console]: =\n",
            "WARNING:rpy2.rinterface_lib.callbacks:R[write to console]: =\n",
            "WARNING:rpy2.rinterface_lib.callbacks:R[write to console]: =\n",
            "WARNING:rpy2.rinterface_lib.callbacks:R[write to console]: =\n",
            "WARNING:rpy2.rinterface_lib.callbacks:R[write to console]: =\n",
            "WARNING:rpy2.rinterface_lib.callbacks:R[write to console]: =\n",
            "WARNING:rpy2.rinterface_lib.callbacks:R[write to console]: =\n",
            "WARNING:rpy2.rinterface_lib.callbacks:R[write to console]: =\n",
            "WARNING:rpy2.rinterface_lib.callbacks:R[write to console]: =\n",
            "WARNING:rpy2.rinterface_lib.callbacks:R[write to console]: =\n",
            "WARNING:rpy2.rinterface_lib.callbacks:R[write to console]: =\n",
            "WARNING:rpy2.rinterface_lib.callbacks:R[write to console]: =\n",
            "WARNING:rpy2.rinterface_lib.callbacks:R[write to console]: =\n",
            "WARNING:rpy2.rinterface_lib.callbacks:R[write to console]: =\n",
            "WARNING:rpy2.rinterface_lib.callbacks:R[write to console]: =\n",
            "WARNING:rpy2.rinterface_lib.callbacks:R[write to console]: =\n",
            "WARNING:rpy2.rinterface_lib.callbacks:R[write to console]: =\n",
            "WARNING:rpy2.rinterface_lib.callbacks:R[write to console]: =\n",
            "WARNING:rpy2.rinterface_lib.callbacks:R[write to console]: =\n",
            "WARNING:rpy2.rinterface_lib.callbacks:R[write to console]: =\n",
            "WARNING:rpy2.rinterface_lib.callbacks:R[write to console]: =\n",
            "WARNING:rpy2.rinterface_lib.callbacks:R[write to console]: =\n",
            "WARNING:rpy2.rinterface_lib.callbacks:R[write to console]: =\n",
            "WARNING:rpy2.rinterface_lib.callbacks:R[write to console]: =\n",
            "WARNING:rpy2.rinterface_lib.callbacks:R[write to console]: =\n",
            "WARNING:rpy2.rinterface_lib.callbacks:R[write to console]: =\n",
            "WARNING:rpy2.rinterface_lib.callbacks:R[write to console]: =\n",
            "WARNING:rpy2.rinterface_lib.callbacks:R[write to console]: =\n",
            "WARNING:rpy2.rinterface_lib.callbacks:R[write to console]: =\n",
            "WARNING:rpy2.rinterface_lib.callbacks:R[write to console]: =\n",
            "WARNING:rpy2.rinterface_lib.callbacks:R[write to console]: =\n",
            "WARNING:rpy2.rinterface_lib.callbacks:R[write to console]: =\n",
            "WARNING:rpy2.rinterface_lib.callbacks:R[write to console]: =\n",
            "WARNING:rpy2.rinterface_lib.callbacks:R[write to console]: =\n",
            "WARNING:rpy2.rinterface_lib.callbacks:R[write to console]: =\n",
            "WARNING:rpy2.rinterface_lib.callbacks:R[write to console]: =\n",
            "WARNING:rpy2.rinterface_lib.callbacks:R[write to console]: =\n",
            "WARNING:rpy2.rinterface_lib.callbacks:R[write to console]: =\n",
            "WARNING:rpy2.rinterface_lib.callbacks:R[write to console]: =\n",
            "WARNING:rpy2.rinterface_lib.callbacks:R[write to console]: =\n",
            "WARNING:rpy2.rinterface_lib.callbacks:R[write to console]: =\n",
            "WARNING:rpy2.rinterface_lib.callbacks:R[write to console]: =\n",
            "WARNING:rpy2.rinterface_lib.callbacks:R[write to console]: =\n",
            "WARNING:rpy2.rinterface_lib.callbacks:R[write to console]: =\n",
            "WARNING:rpy2.rinterface_lib.callbacks:R[write to console]: \n",
            "\n",
            "WARNING:rpy2.rinterface_lib.callbacks:R[write to console]: downloaded 4.7 MB\n",
            "\n",
            "\n",
            "WARNING:rpy2.rinterface_lib.callbacks:R[write to console]: trying URL 'https://cran.rstudio.com/src/contrib/reshape2_1.4.4.tar.gz'\n",
            "\n",
            "WARNING:rpy2.rinterface_lib.callbacks:R[write to console]: Content type 'application/x-gzip'\n",
            "WARNING:rpy2.rinterface_lib.callbacks:R[write to console]:  length 37307 bytes (36 KB)\n",
            "\n",
            "WARNING:rpy2.rinterface_lib.callbacks:R[write to console]: =\n",
            "WARNING:rpy2.rinterface_lib.callbacks:R[write to console]: =\n",
            "WARNING:rpy2.rinterface_lib.callbacks:R[write to console]: =\n",
            "WARNING:rpy2.rinterface_lib.callbacks:R[write to console]: =\n",
            "WARNING:rpy2.rinterface_lib.callbacks:R[write to console]: =\n",
            "WARNING:rpy2.rinterface_lib.callbacks:R[write to console]: =\n",
            "WARNING:rpy2.rinterface_lib.callbacks:R[write to console]: =\n",
            "WARNING:rpy2.rinterface_lib.callbacks:R[write to console]: =\n",
            "WARNING:rpy2.rinterface_lib.callbacks:R[write to console]: =\n",
            "WARNING:rpy2.rinterface_lib.callbacks:R[write to console]: =\n",
            "WARNING:rpy2.rinterface_lib.callbacks:R[write to console]: =\n",
            "WARNING:rpy2.rinterface_lib.callbacks:R[write to console]: =\n",
            "WARNING:rpy2.rinterface_lib.callbacks:R[write to console]: =\n",
            "WARNING:rpy2.rinterface_lib.callbacks:R[write to console]: =\n",
            "WARNING:rpy2.rinterface_lib.callbacks:R[write to console]: =\n",
            "WARNING:rpy2.rinterface_lib.callbacks:R[write to console]: =\n",
            "WARNING:rpy2.rinterface_lib.callbacks:R[write to console]: =\n",
            "WARNING:rpy2.rinterface_lib.callbacks:R[write to console]: =\n",
            "WARNING:rpy2.rinterface_lib.callbacks:R[write to console]: =\n",
            "WARNING:rpy2.rinterface_lib.callbacks:R[write to console]: =\n",
            "WARNING:rpy2.rinterface_lib.callbacks:R[write to console]: =\n",
            "WARNING:rpy2.rinterface_lib.callbacks:R[write to console]: =\n",
            "WARNING:rpy2.rinterface_lib.callbacks:R[write to console]: =\n",
            "WARNING:rpy2.rinterface_lib.callbacks:R[write to console]: =\n",
            "WARNING:rpy2.rinterface_lib.callbacks:R[write to console]: =\n",
            "WARNING:rpy2.rinterface_lib.callbacks:R[write to console]: =\n",
            "WARNING:rpy2.rinterface_lib.callbacks:R[write to console]: =\n",
            "WARNING:rpy2.rinterface_lib.callbacks:R[write to console]: =\n",
            "WARNING:rpy2.rinterface_lib.callbacks:R[write to console]: =\n",
            "WARNING:rpy2.rinterface_lib.callbacks:R[write to console]: =\n",
            "WARNING:rpy2.rinterface_lib.callbacks:R[write to console]: =\n",
            "WARNING:rpy2.rinterface_lib.callbacks:R[write to console]: =\n",
            "WARNING:rpy2.rinterface_lib.callbacks:R[write to console]: =\n",
            "WARNING:rpy2.rinterface_lib.callbacks:R[write to console]: =\n",
            "WARNING:rpy2.rinterface_lib.callbacks:R[write to console]: =\n",
            "WARNING:rpy2.rinterface_lib.callbacks:R[write to console]: =\n",
            "WARNING:rpy2.rinterface_lib.callbacks:R[write to console]: =\n",
            "WARNING:rpy2.rinterface_lib.callbacks:R[write to console]: =\n",
            "WARNING:rpy2.rinterface_lib.callbacks:R[write to console]: =\n",
            "WARNING:rpy2.rinterface_lib.callbacks:R[write to console]: =\n",
            "WARNING:rpy2.rinterface_lib.callbacks:R[write to console]: =\n",
            "WARNING:rpy2.rinterface_lib.callbacks:R[write to console]: =\n",
            "WARNING:rpy2.rinterface_lib.callbacks:R[write to console]: =\n",
            "WARNING:rpy2.rinterface_lib.callbacks:R[write to console]: =\n",
            "WARNING:rpy2.rinterface_lib.callbacks:R[write to console]: =\n",
            "WARNING:rpy2.rinterface_lib.callbacks:R[write to console]: =\n",
            "WARNING:rpy2.rinterface_lib.callbacks:R[write to console]: =\n",
            "WARNING:rpy2.rinterface_lib.callbacks:R[write to console]: =\n",
            "WARNING:rpy2.rinterface_lib.callbacks:R[write to console]: =\n",
            "WARNING:rpy2.rinterface_lib.callbacks:R[write to console]: =\n",
            "WARNING:rpy2.rinterface_lib.callbacks:R[write to console]: \n",
            "\n",
            "WARNING:rpy2.rinterface_lib.callbacks:R[write to console]: downloaded 36 KB\n",
            "\n",
            "\n",
            "WARNING:rpy2.rinterface_lib.callbacks:R[write to console]: trying URL 'https://cran.rstudio.com/src/contrib/ISLR_1.4.tar.gz'\n",
            "\n",
            "WARNING:rpy2.rinterface_lib.callbacks:R[write to console]: Content type 'application/x-gzip'\n",
            "WARNING:rpy2.rinterface_lib.callbacks:R[write to console]:  length 1756715 bytes (1.7 MB)\n",
            "\n",
            "WARNING:rpy2.rinterface_lib.callbacks:R[write to console]: =\n",
            "WARNING:rpy2.rinterface_lib.callbacks:R[write to console]: =\n",
            "WARNING:rpy2.rinterface_lib.callbacks:R[write to console]: =\n",
            "WARNING:rpy2.rinterface_lib.callbacks:R[write to console]: =\n",
            "WARNING:rpy2.rinterface_lib.callbacks:R[write to console]: =\n",
            "WARNING:rpy2.rinterface_lib.callbacks:R[write to console]: =\n",
            "WARNING:rpy2.rinterface_lib.callbacks:R[write to console]: =\n",
            "WARNING:rpy2.rinterface_lib.callbacks:R[write to console]: =\n",
            "WARNING:rpy2.rinterface_lib.callbacks:R[write to console]: =\n",
            "WARNING:rpy2.rinterface_lib.callbacks:R[write to console]: =\n",
            "WARNING:rpy2.rinterface_lib.callbacks:R[write to console]: =\n",
            "WARNING:rpy2.rinterface_lib.callbacks:R[write to console]: =\n",
            "WARNING:rpy2.rinterface_lib.callbacks:R[write to console]: =\n",
            "WARNING:rpy2.rinterface_lib.callbacks:R[write to console]: =\n",
            "WARNING:rpy2.rinterface_lib.callbacks:R[write to console]: =\n",
            "WARNING:rpy2.rinterface_lib.callbacks:R[write to console]: =\n",
            "WARNING:rpy2.rinterface_lib.callbacks:R[write to console]: =\n",
            "WARNING:rpy2.rinterface_lib.callbacks:R[write to console]: =\n",
            "WARNING:rpy2.rinterface_lib.callbacks:R[write to console]: =\n",
            "WARNING:rpy2.rinterface_lib.callbacks:R[write to console]: =\n",
            "WARNING:rpy2.rinterface_lib.callbacks:R[write to console]: =\n",
            "WARNING:rpy2.rinterface_lib.callbacks:R[write to console]: =\n",
            "WARNING:rpy2.rinterface_lib.callbacks:R[write to console]: =\n",
            "WARNING:rpy2.rinterface_lib.callbacks:R[write to console]: =\n",
            "WARNING:rpy2.rinterface_lib.callbacks:R[write to console]: =\n",
            "WARNING:rpy2.rinterface_lib.callbacks:R[write to console]: =\n",
            "WARNING:rpy2.rinterface_lib.callbacks:R[write to console]: =\n",
            "WARNING:rpy2.rinterface_lib.callbacks:R[write to console]: =\n",
            "WARNING:rpy2.rinterface_lib.callbacks:R[write to console]: =\n",
            "WARNING:rpy2.rinterface_lib.callbacks:R[write to console]: =\n",
            "WARNING:rpy2.rinterface_lib.callbacks:R[write to console]: =\n",
            "WARNING:rpy2.rinterface_lib.callbacks:R[write to console]: =\n",
            "WARNING:rpy2.rinterface_lib.callbacks:R[write to console]: =\n",
            "WARNING:rpy2.rinterface_lib.callbacks:R[write to console]: =\n",
            "WARNING:rpy2.rinterface_lib.callbacks:R[write to console]: =\n",
            "WARNING:rpy2.rinterface_lib.callbacks:R[write to console]: =\n",
            "WARNING:rpy2.rinterface_lib.callbacks:R[write to console]: =\n",
            "WARNING:rpy2.rinterface_lib.callbacks:R[write to console]: =\n",
            "WARNING:rpy2.rinterface_lib.callbacks:R[write to console]: =\n",
            "WARNING:rpy2.rinterface_lib.callbacks:R[write to console]: =\n",
            "WARNING:rpy2.rinterface_lib.callbacks:R[write to console]: =\n",
            "WARNING:rpy2.rinterface_lib.callbacks:R[write to console]: =\n",
            "WARNING:rpy2.rinterface_lib.callbacks:R[write to console]: =\n",
            "WARNING:rpy2.rinterface_lib.callbacks:R[write to console]: =\n",
            "WARNING:rpy2.rinterface_lib.callbacks:R[write to console]: =\n",
            "WARNING:rpy2.rinterface_lib.callbacks:R[write to console]: =\n",
            "WARNING:rpy2.rinterface_lib.callbacks:R[write to console]: =\n",
            "WARNING:rpy2.rinterface_lib.callbacks:R[write to console]: =\n",
            "WARNING:rpy2.rinterface_lib.callbacks:R[write to console]: =\n",
            "WARNING:rpy2.rinterface_lib.callbacks:R[write to console]: =\n",
            "WARNING:rpy2.rinterface_lib.callbacks:R[write to console]: \n",
            "\n",
            "WARNING:rpy2.rinterface_lib.callbacks:R[write to console]: downloaded 1.7 MB\n",
            "\n",
            "\n",
            "WARNING:rpy2.rinterface_lib.callbacks:R[write to console]: trying URL 'https://cran.rstudio.com/src/contrib/kknn_1.3.1.tar.gz'\n",
            "\n",
            "WARNING:rpy2.rinterface_lib.callbacks:R[write to console]: Content type 'application/x-gzip'\n",
            "WARNING:rpy2.rinterface_lib.callbacks:R[write to console]:  length 388410 bytes (379 KB)\n",
            "\n",
            "WARNING:rpy2.rinterface_lib.callbacks:R[write to console]: =\n",
            "WARNING:rpy2.rinterface_lib.callbacks:R[write to console]: =\n",
            "WARNING:rpy2.rinterface_lib.callbacks:R[write to console]: =\n",
            "WARNING:rpy2.rinterface_lib.callbacks:R[write to console]: =\n",
            "WARNING:rpy2.rinterface_lib.callbacks:R[write to console]: =\n",
            "WARNING:rpy2.rinterface_lib.callbacks:R[write to console]: =\n",
            "WARNING:rpy2.rinterface_lib.callbacks:R[write to console]: =\n",
            "WARNING:rpy2.rinterface_lib.callbacks:R[write to console]: =\n",
            "WARNING:rpy2.rinterface_lib.callbacks:R[write to console]: =\n",
            "WARNING:rpy2.rinterface_lib.callbacks:R[write to console]: =\n",
            "WARNING:rpy2.rinterface_lib.callbacks:R[write to console]: =\n",
            "WARNING:rpy2.rinterface_lib.callbacks:R[write to console]: =\n",
            "WARNING:rpy2.rinterface_lib.callbacks:R[write to console]: =\n",
            "WARNING:rpy2.rinterface_lib.callbacks:R[write to console]: =\n",
            "WARNING:rpy2.rinterface_lib.callbacks:R[write to console]: =\n",
            "WARNING:rpy2.rinterface_lib.callbacks:R[write to console]: =\n",
            "WARNING:rpy2.rinterface_lib.callbacks:R[write to console]: =\n",
            "WARNING:rpy2.rinterface_lib.callbacks:R[write to console]: =\n",
            "WARNING:rpy2.rinterface_lib.callbacks:R[write to console]: =\n",
            "WARNING:rpy2.rinterface_lib.callbacks:R[write to console]: =\n",
            "WARNING:rpy2.rinterface_lib.callbacks:R[write to console]: =\n",
            "WARNING:rpy2.rinterface_lib.callbacks:R[write to console]: =\n",
            "WARNING:rpy2.rinterface_lib.callbacks:R[write to console]: =\n",
            "WARNING:rpy2.rinterface_lib.callbacks:R[write to console]: =\n",
            "WARNING:rpy2.rinterface_lib.callbacks:R[write to console]: =\n",
            "WARNING:rpy2.rinterface_lib.callbacks:R[write to console]: =\n",
            "WARNING:rpy2.rinterface_lib.callbacks:R[write to console]: =\n",
            "WARNING:rpy2.rinterface_lib.callbacks:R[write to console]: =\n",
            "WARNING:rpy2.rinterface_lib.callbacks:R[write to console]: =\n",
            "WARNING:rpy2.rinterface_lib.callbacks:R[write to console]: =\n",
            "WARNING:rpy2.rinterface_lib.callbacks:R[write to console]: =\n",
            "WARNING:rpy2.rinterface_lib.callbacks:R[write to console]: =\n",
            "WARNING:rpy2.rinterface_lib.callbacks:R[write to console]: =\n",
            "WARNING:rpy2.rinterface_lib.callbacks:R[write to console]: =\n",
            "WARNING:rpy2.rinterface_lib.callbacks:R[write to console]: =\n",
            "WARNING:rpy2.rinterface_lib.callbacks:R[write to console]: =\n",
            "WARNING:rpy2.rinterface_lib.callbacks:R[write to console]: =\n",
            "WARNING:rpy2.rinterface_lib.callbacks:R[write to console]: =\n",
            "WARNING:rpy2.rinterface_lib.callbacks:R[write to console]: =\n",
            "WARNING:rpy2.rinterface_lib.callbacks:R[write to console]: =\n",
            "WARNING:rpy2.rinterface_lib.callbacks:R[write to console]: =\n",
            "WARNING:rpy2.rinterface_lib.callbacks:R[write to console]: =\n",
            "WARNING:rpy2.rinterface_lib.callbacks:R[write to console]: =\n",
            "WARNING:rpy2.rinterface_lib.callbacks:R[write to console]: =\n",
            "WARNING:rpy2.rinterface_lib.callbacks:R[write to console]: =\n",
            "WARNING:rpy2.rinterface_lib.callbacks:R[write to console]: =\n",
            "WARNING:rpy2.rinterface_lib.callbacks:R[write to console]: =\n",
            "WARNING:rpy2.rinterface_lib.callbacks:R[write to console]: =\n",
            "WARNING:rpy2.rinterface_lib.callbacks:R[write to console]: =\n",
            "WARNING:rpy2.rinterface_lib.callbacks:R[write to console]: =\n",
            "WARNING:rpy2.rinterface_lib.callbacks:R[write to console]: \n",
            "\n",
            "WARNING:rpy2.rinterface_lib.callbacks:R[write to console]: downloaded 379 KB\n",
            "\n",
            "\n",
            "WARNING:rpy2.rinterface_lib.callbacks:R[write to console]: trying URL 'https://cran.rstudio.com/src/contrib/Cubist_0.4.2.1.tar.gz'\n",
            "\n",
            "WARNING:rpy2.rinterface_lib.callbacks:R[write to console]: Content type 'application/x-gzip'\n",
            "WARNING:rpy2.rinterface_lib.callbacks:R[write to console]:  length 1494272 bytes (1.4 MB)\n",
            "\n",
            "WARNING:rpy2.rinterface_lib.callbacks:R[write to console]: =\n",
            "WARNING:rpy2.rinterface_lib.callbacks:R[write to console]: =\n",
            "WARNING:rpy2.rinterface_lib.callbacks:R[write to console]: =\n",
            "WARNING:rpy2.rinterface_lib.callbacks:R[write to console]: =\n",
            "WARNING:rpy2.rinterface_lib.callbacks:R[write to console]: =\n",
            "WARNING:rpy2.rinterface_lib.callbacks:R[write to console]: =\n",
            "WARNING:rpy2.rinterface_lib.callbacks:R[write to console]: =\n",
            "WARNING:rpy2.rinterface_lib.callbacks:R[write to console]: =\n",
            "WARNING:rpy2.rinterface_lib.callbacks:R[write to console]: =\n",
            "WARNING:rpy2.rinterface_lib.callbacks:R[write to console]: =\n",
            "WARNING:rpy2.rinterface_lib.callbacks:R[write to console]: =\n",
            "WARNING:rpy2.rinterface_lib.callbacks:R[write to console]: =\n",
            "WARNING:rpy2.rinterface_lib.callbacks:R[write to console]: =\n",
            "WARNING:rpy2.rinterface_lib.callbacks:R[write to console]: =\n",
            "WARNING:rpy2.rinterface_lib.callbacks:R[write to console]: =\n",
            "WARNING:rpy2.rinterface_lib.callbacks:R[write to console]: =\n",
            "WARNING:rpy2.rinterface_lib.callbacks:R[write to console]: =\n",
            "WARNING:rpy2.rinterface_lib.callbacks:R[write to console]: =\n",
            "WARNING:rpy2.rinterface_lib.callbacks:R[write to console]: =\n",
            "WARNING:rpy2.rinterface_lib.callbacks:R[write to console]: =\n",
            "WARNING:rpy2.rinterface_lib.callbacks:R[write to console]: =\n",
            "WARNING:rpy2.rinterface_lib.callbacks:R[write to console]: =\n",
            "WARNING:rpy2.rinterface_lib.callbacks:R[write to console]: =\n",
            "WARNING:rpy2.rinterface_lib.callbacks:R[write to console]: =\n",
            "WARNING:rpy2.rinterface_lib.callbacks:R[write to console]: =\n",
            "WARNING:rpy2.rinterface_lib.callbacks:R[write to console]: =\n",
            "WARNING:rpy2.rinterface_lib.callbacks:R[write to console]: =\n",
            "WARNING:rpy2.rinterface_lib.callbacks:R[write to console]: =\n",
            "WARNING:rpy2.rinterface_lib.callbacks:R[write to console]: =\n",
            "WARNING:rpy2.rinterface_lib.callbacks:R[write to console]: =\n",
            "WARNING:rpy2.rinterface_lib.callbacks:R[write to console]: =\n",
            "WARNING:rpy2.rinterface_lib.callbacks:R[write to console]: =\n",
            "WARNING:rpy2.rinterface_lib.callbacks:R[write to console]: =\n",
            "WARNING:rpy2.rinterface_lib.callbacks:R[write to console]: =\n",
            "WARNING:rpy2.rinterface_lib.callbacks:R[write to console]: =\n",
            "WARNING:rpy2.rinterface_lib.callbacks:R[write to console]: =\n",
            "WARNING:rpy2.rinterface_lib.callbacks:R[write to console]: =\n",
            "WARNING:rpy2.rinterface_lib.callbacks:R[write to console]: =\n",
            "WARNING:rpy2.rinterface_lib.callbacks:R[write to console]: =\n",
            "WARNING:rpy2.rinterface_lib.callbacks:R[write to console]: =\n",
            "WARNING:rpy2.rinterface_lib.callbacks:R[write to console]: =\n",
            "WARNING:rpy2.rinterface_lib.callbacks:R[write to console]: =\n",
            "WARNING:rpy2.rinterface_lib.callbacks:R[write to console]: =\n",
            "WARNING:rpy2.rinterface_lib.callbacks:R[write to console]: =\n",
            "WARNING:rpy2.rinterface_lib.callbacks:R[write to console]: =\n",
            "WARNING:rpy2.rinterface_lib.callbacks:R[write to console]: =\n",
            "WARNING:rpy2.rinterface_lib.callbacks:R[write to console]: =\n",
            "WARNING:rpy2.rinterface_lib.callbacks:R[write to console]: =\n",
            "WARNING:rpy2.rinterface_lib.callbacks:R[write to console]: =\n",
            "WARNING:rpy2.rinterface_lib.callbacks:R[write to console]: =\n",
            "WARNING:rpy2.rinterface_lib.callbacks:R[write to console]: \n",
            "\n",
            "WARNING:rpy2.rinterface_lib.callbacks:R[write to console]: downloaded 1.4 MB\n",
            "\n",
            "\n",
            "WARNING:rpy2.rinterface_lib.callbacks:R[write to console]: \n",
            "\n",
            "WARNING:rpy2.rinterface_lib.callbacks:R[write to console]: \n",
            "WARNING:rpy2.rinterface_lib.callbacks:R[write to console]: The downloaded source packages are in\n",
            "\t‘/tmp/RtmpaQNR7u/downloaded_packages’\n",
            "WARNING:rpy2.rinterface_lib.callbacks:R[write to console]: \n",
            "WARNING:rpy2.rinterface_lib.callbacks:R[write to console]: \n",
            "\n"
          ]
        },
        {
          "output_type": "stream",
          "name": "stdout",
          "text": [
            "[1] \"Instalación de las bibliotecas de R para este módulo terminada\"\n"
          ]
        }
      ]
    },
    {
      "cell_type": "markdown",
      "source": [
        "### Descarga de datos"
      ],
      "metadata": {
        "id": "CqEowaAOdDPu"
      }
    },
    {
      "cell_type": "code",
      "source": [
        "%%R\n",
        "### Lectura\n",
        "data <- read.csv(url(\"https://drive.google.com/uc?id=1GO2NBxYw54K6HkN-YgXbNadrLo5O6-0u\"))\n",
        "\n",
        "### Visualización de una pequeña parte de los datos\n",
        "head(data)"
      ],
      "metadata": {
        "colab": {
          "base_uri": "https://localhost:8080/"
        },
        "id": "j0-7yMDsdE8h",
        "outputId": "c6f8c4f8-da5c-41de-b7cf-e4a4237b755d"
      },
      "execution_count": null,
      "outputs": [
        {
          "output_type": "stream",
          "name": "stdout",
          "text": [
            "  Sex  Age Tanner Height   BMI   WC TAGmgDL HDLCmgDL LDLCmgDL SBP DBP Sedentary\n",
            "1   1  9.5      0   1.55 11.34 60.0      55       51       93  97  60  411.0893\n",
            "2   1  8.0      0   1.15 12.40 46.3      51       70       59  90  55  435.6071\n",
            "3   0 10.5      0   1.42 12.99 67.5      65       60       96  96  54  483.9048\n",
            "4   0  8.1      0   1.27 13.43 53.1      41       78      100 108  46  429.2976\n",
            "5   1 10.4      0   1.32 13.72 51.9      39      100      120 107  69  512.0714\n",
            "6   0 10.4      0   1.29 14.02 54.9      57       76       73  87  59  451.2321\n",
            "     Light Moderate  Vigorous HOMA\n",
            "1 321.5804 22.13393  3.982143 1.98\n",
            "2 316.9762 48.05952 14.273810 0.87\n",
            "3 337.7857 33.30952  7.988095 1.46\n",
            "4 241.9762 39.67857 11.821429 1.07\n",
            "5 216.0357  9.75000  2.410714 0.80\n",
            "6 257.6429 36.40179  9.767857 1.35\n"
          ]
        }
      ]
    },
    {
      "cell_type": "markdown",
      "source": [
        "### Estudio inicial de los datos\n",
        "Vamos a ver qué variables tienen mayor peso en la variable de salida. Para ello haremos"
      ],
      "metadata": {
        "id": "GK40yBRNkDPS"
      }
    },
    {
      "cell_type": "code",
      "source": [
        "%%R\n",
        "### Visualización de las variable respecto a HOMA\n",
        "temp <- data\n",
        "plotY <- function (x,y) {\n",
        "\tplot(temp[,y]~temp[,x], xlab=paste(names(temp)[x],\" X\",x,sep=\"\"), ylab=names(temp)[y])\n",
        "}\n",
        "par(mfrow=c(4,4)) #Si margin too large => (5,3)\n",
        "x <- sapply(1:(dim(temp)[2]-1), plotY, dim(temp)[2])\n",
        "par(mfrow=c(1,1))\n",
        "\n",
        "cor(data) # Descomentar si queremos ver los valores concretos de correlación"
      ],
      "metadata": {
        "colab": {
          "base_uri": "https://localhost:8080/",
          "height": 1000
        },
        "id": "JHZPkPbtjxSt",
        "outputId": "264fbc7b-9c4b-4acc-edd6-d36e5b5e1a88"
      },
      "execution_count": null,
      "outputs": [
        {
          "output_type": "stream",
          "name": "stdout",
          "text": [
            "                  Sex         Age      Tanner      Height         BMI\n",
            "Sex        1.00000000 -0.10019754  0.04118695 -0.09118517 -0.02053626\n",
            "Age       -0.10019754  1.00000000  0.66614747  0.87563328  0.32102810\n",
            "Tanner     0.04118695  0.66614747  1.00000000  0.64893698  0.31632421\n",
            "Height    -0.09118517  0.87563328  0.64893698  1.00000000  0.44059732\n",
            "BMI       -0.02053626  0.32102810  0.31632421  0.44059732  1.00000000\n",
            "WC        -0.04427653  0.46996057  0.36596541  0.59117669  0.91684048\n",
            "TAGmgDL    0.12336791  0.13532362  0.08712349  0.17413199  0.21096348\n",
            "HDLCmgDL  -0.11822583 -0.16186251 -0.20391818 -0.27221473 -0.56495703\n",
            "LDLCmgDL   0.01644653  0.04136751 -0.05779724  0.04465349  0.04270957\n",
            "SBP       -0.02876843  0.30937916  0.24868064  0.41050794  0.51886413\n",
            "DBP        0.01170880  0.08901506  0.09810436  0.14492077  0.34105783\n",
            "Sedentary  0.10609920  0.28684756  0.15336571  0.23437350  0.05011761\n",
            "Light     -0.09061875 -0.49515226 -0.38901226 -0.43753517 -0.14986528\n",
            "Moderate  -0.30216884 -0.06314890 -0.01308944 -0.04137207 -0.02404873\n",
            "Vigorous  -0.17744924  0.17313828  0.19597353  0.22729341  0.01036495\n",
            "HOMA       0.12455626  0.39553968  0.38083159  0.48161679  0.58995302\n",
            "                   WC     TAGmgDL    HDLCmgDL     LDLCmgDL         SBP\n",
            "Sex       -0.04427653  0.12336791 -0.11822583  0.016446533 -0.02876843\n",
            "Age        0.46996057  0.13532362 -0.16186251  0.041367510  0.30937916\n",
            "Tanner     0.36596541  0.08712349 -0.20391818 -0.057797240  0.24868064\n",
            "Height     0.59117669  0.17413199 -0.27221473  0.044653491  0.41050794\n",
            "BMI        0.91684048  0.21096348 -0.56495703  0.042709573  0.51886413\n",
            "WC         1.00000000  0.23201121 -0.56923507  0.066387994  0.53304241\n",
            "TAGmgDL    0.23201121  1.00000000 -0.37621118  0.277538897  0.08263098\n",
            "HDLCmgDL  -0.56923507 -0.37621118  1.00000000 -0.110852957 -0.21307235\n",
            "LDLCmgDL   0.06638799  0.27753890 -0.11085296  1.000000000  0.07641299\n",
            "SBP        0.53304241  0.08263098 -0.21307235  0.076412992  1.00000000\n",
            "DBP        0.32539488  0.10694124 -0.17025811  0.088932706  0.41691287\n",
            "Sedentary  0.06616199  0.06796249 -0.06069647  0.059731585  0.12653962\n",
            "Light     -0.21462156 -0.10214392  0.14512914 -0.027501323 -0.15081422\n",
            "Moderate  -0.05539252 -0.15345130  0.11650044 -0.132544508 -0.10098166\n",
            "Vigorous   0.05593807 -0.13295605  0.02998314 -0.046927330 -0.07464779\n",
            "HOMA       0.54240170  0.30716339 -0.30089944 -0.002767465  0.40673675\n",
            "                  DBP   Sedentary        Light    Moderate     Vigorous\n",
            "Sex        0.01170880  0.10609920 -0.090618755 -0.30216884 -0.177449238\n",
            "Age        0.08901506  0.28684756 -0.495152261 -0.06314890  0.173138276\n",
            "Tanner     0.09810436  0.15336571 -0.389012255 -0.01308944  0.195973531\n",
            "Height     0.14492077  0.23437350 -0.437535169 -0.04137207  0.227293415\n",
            "BMI        0.34105783  0.05011761 -0.149865279 -0.02404873  0.010364953\n",
            "WC         0.32539488  0.06616199 -0.214621562 -0.05539252  0.055938075\n",
            "TAGmgDL    0.10694124  0.06796249 -0.102143918 -0.15345130 -0.132956052\n",
            "HDLCmgDL  -0.17025811 -0.06069647  0.145129136  0.11650044  0.029983143\n",
            "LDLCmgDL   0.08893271  0.05973159 -0.027501323 -0.13254451 -0.046927330\n",
            "SBP        0.41691287  0.12653962 -0.150814220 -0.10098166 -0.074647790\n",
            "DBP        1.00000000  0.05420373 -0.100568912 -0.18377240 -0.088653365\n",
            "Sedentary  0.05420373  1.00000000 -0.402379694 -0.29245350 -0.157774103\n",
            "Light     -0.10056891 -0.40237969  1.000000000  0.41187222  0.003272742\n",
            "Moderate  -0.18377240 -0.29245350  0.411872216  1.00000000  0.555224468\n",
            "Vigorous  -0.08865336 -0.15777410  0.003272742  0.55522447  1.000000000\n",
            "HOMA       0.27566641  0.17856109 -0.179269896 -0.05995360 -0.021650810\n",
            "                  HOMA\n",
            "Sex        0.124556263\n",
            "Age        0.395539677\n",
            "Tanner     0.380831589\n",
            "Height     0.481616786\n",
            "BMI        0.589953018\n",
            "WC         0.542401701\n",
            "TAGmgDL    0.307163394\n",
            "HDLCmgDL  -0.300899442\n",
            "LDLCmgDL  -0.002767465\n",
            "SBP        0.406736750\n",
            "DBP        0.275666412\n",
            "Sedentary  0.178561089\n",
            "Light     -0.179269896\n",
            "Moderate  -0.059953597\n",
            "Vigorous  -0.021650810\n",
            "HOMA       1.000000000\n"
          ]
        },
        {
          "output_type": "display_data",
          "data": {
            "image/png": "[encoded data removed]"
          },
          "metadata": {}
        }
      ]
    },
    {
      "cell_type": "markdown",
      "source": [
        "Los tres parámetros que parecen influir más sobre el HOMA son Heigh, WC y BMI. Por lo que se seguirá el proceso con estos datos. Analizando su correlación mediante una gráfica."
      ],
      "metadata": {
        "id": "puz5wlJUlCz8"
      }
    },
    {
      "cell_type": "code",
      "source": [
        "%%R\n",
        "### Obteción del modelo. Función lm() del paquete ISLR.\n",
        "### Y=HOMA, X's=BMI (índice de masa corporal) -> formula: HOMA ~ BMI\n",
        "fitLM <- lm(HOMA ~ BMI, data=data)\n",
        "\n",
        "### Visualización de la línea (azul, valores estimados) vs valores reales (negro, valores observados).\n",
        "yprime = predict(fitLM,data)\n",
        "plot(data$HOMA~data$BMI)\n",
        "points(data$BMI,yprime,col=\"blue\",pch=20)\n",
        "\n",
        "### Coeficientes (Estimate), p-valores (Pr(>|t|)), R2 ajustado (Adjusted R-squared),\n",
        "### estadístico F y p-valor (F-statistic y p-value)\n",
        "summary(fitLM)"
      ],
      "metadata": {
        "colab": {
          "base_uri": "https://localhost:8080/",
          "height": 827
        },
        "id": "pFK8OtR4lZF-",
        "outputId": "1648b2fd-fae7-4c18-fd6f-83817cae5a7a"
      },
      "execution_count": null,
      "outputs": [
        {
          "output_type": "stream",
          "name": "stdout",
          "text": [
            "\n",
            "Call:\n",
            "lm(formula = HOMA ~ BMI, data = data)\n",
            "\n",
            "Residuals:\n",
            "    Min      1Q  Median      3Q     Max \n",
            "-1.6176 -0.5495 -0.0203  0.5005  5.8905 \n",
            "\n",
            "Coefficients:\n",
            "             Estimate Std. Error t value Pr(>|t|)    \n",
            "(Intercept) -0.987863   0.216053  -4.572 7.15e-06 ***\n",
            "BMI          0.115430   0.009277  12.442  < 2e-16 ***\n",
            "---\n",
            "Signif. codes:  0 ‘***’ 0.001 ‘**’ 0.01 ‘*’ 0.05 ‘.’ 0.1 ‘ ’ 1\n",
            "\n",
            "Residual standard error: 0.8538 on 290 degrees of freedom\n",
            "Multiple R-squared:  0.348,\tAdjusted R-squared:  0.3458 \n",
            "F-statistic: 154.8 on 1 and 290 DF,  p-value: < 2.2e-16\n",
            "\n"
          ]
        },
        {
          "output_type": "display_data",
          "data": {
            "image/png": "[encoded data removed]"
          },
          "metadata": {}
        }
      ]
    },
    {
      "cell_type": "code",
      "source": [
        "%%R\n",
        "### Idem para la variable Height (altura)\n",
        "fitLM <- lm(HOMA ~ Height, data=data)\n",
        "yprime = predict(fitLM,data)\n",
        "plot(data$HOMA~data$Height)\n",
        "points(data$Height,yprime,col=\"blue\",pch=20)\n",
        "summary(fitLM)"
      ],
      "metadata": {
        "colab": {
          "base_uri": "https://localhost:8080/",
          "height": 827
        },
        "id": "tyegQDvwlh6_",
        "outputId": "b8af0124-1921-4a6a-c45e-d9f6aced691b"
      },
      "execution_count": null,
      "outputs": [
        {
          "output_type": "stream",
          "name": "stdout",
          "text": [
            "\n",
            "Call:\n",
            "lm(formula = HOMA ~ Height, data = data)\n",
            "\n",
            "Residuals:\n",
            "    Min      1Q  Median      3Q     Max \n",
            "-1.8080 -0.6062 -0.1728  0.4393  6.4400 \n",
            "\n",
            "Coefficients:\n",
            "            Estimate Std. Error t value Pr(>|t|)    \n",
            "(Intercept)  -3.4639     0.5467  -6.336    9e-10 ***\n",
            "Height        3.6012     0.3848   9.359   <2e-16 ***\n",
            "---\n",
            "Signif. codes:  0 ‘***’ 0.001 ‘**’ 0.01 ‘*’ 0.05 ‘.’ 0.1 ‘ ’ 1\n",
            "\n",
            "Residual standard error: 0.9267 on 290 degrees of freedom\n",
            "Multiple R-squared:  0.232,\tAdjusted R-squared:  0.2293 \n",
            "F-statistic: 87.58 on 1 and 290 DF,  p-value: < 2.2e-16\n",
            "\n"
          ]
        },
        {
          "output_type": "display_data",
          "data": {
            "image/png": "[encoded data removed]"
          },
          "metadata": {}
        }
      ]
    },
    {
      "cell_type": "code",
      "source": [
        "%%R\n",
        "### Idem para la variable WC (circunferencia de la cintura)\n",
        "fitLM <- lm(HOMA ~ WC, data=data)\n",
        "yprime = predict(fitLM,data)\n",
        "plot(data$HOMA~data$WC)\n",
        "points(data$WC,yprime,col=\"blue\",pch=20)\n",
        "summary(fitLM)"
      ],
      "metadata": {
        "colab": {
          "base_uri": "https://localhost:8080/",
          "height": 827
        },
        "id": "vZkqpgjjluge",
        "outputId": "26a97188-8087-4638-e0e8-0c88351c5806"
      },
      "execution_count": null,
      "outputs": [
        {
          "output_type": "stream",
          "name": "stdout",
          "text": [
            "\n",
            "Call:\n",
            "lm(formula = HOMA ~ WC, data = data)\n",
            "\n",
            "Residuals:\n",
            "    Min      1Q  Median      3Q     Max \n",
            "-1.6840 -0.5542 -0.0354  0.4949  5.9256 \n",
            "\n",
            "Coefficients:\n",
            "             Estimate Std. Error t value Pr(>|t|)    \n",
            "(Intercept) -1.175876   0.260223  -4.519 9.07e-06 ***\n",
            "WC           0.036241   0.003296  10.995  < 2e-16 ***\n",
            "---\n",
            "Signif. codes:  0 ‘***’ 0.001 ‘**’ 0.01 ‘*’ 0.05 ‘.’ 0.1 ‘ ’ 1\n",
            "\n",
            "Residual standard error: 0.8883 on 290 degrees of freedom\n",
            "Multiple R-squared:  0.2942,\tAdjusted R-squared:  0.2918 \n",
            "F-statistic: 120.9 on 1 and 290 DF,  p-value: < 2.2e-16\n",
            "\n"
          ]
        },
        {
          "output_type": "display_data",
          "data": {
            "image/png": "[encoded data removed]"
          },
          "metadata": {}
        }
      ]
    },
    {
      "cell_type": "markdown",
      "source": [
        "Tras estas gráficas se aprecia cierta relación lineal entre las tres variables independientes y la dependiente. Todos los estadísiticos resultan estadísticvamente significativo, pero el valor de R^2 es demasiado bajo en el mejor de los casos (~0,35 para el Índice de masa Corporal)."
      ],
      "metadata": {
        "id": "BnjYnwidmaAl"
      }
    },
    {
      "cell_type": "markdown",
      "source": [
        "##SELECCIÓN ADITIVA DE VARIABLES: ENFOQUE DESCENDENTE"
      ],
      "metadata": {
        "id": "7Q4BbPZym1bu"
      }
    },
    {
      "cell_type": "code",
      "source": [
        "%%R\n",
        "### Obteción del modelo. Y=HOMA, X's=Todas -> formula: HOMA ~ .\n",
        "fitLM <- lm(HOMA ~ ., data=data)\n",
        "\n",
        "### Recordatorio:\n",
        "### Coeficientes (Estimate), p-valores (Pr(>|t|)), R2 ajustado (Adjusted R-squared),\n",
        "### estadístico F y p-valor (F-statistic y p-value)\n",
        "summary(fitLM)"
      ],
      "metadata": {
        "colab": {
          "base_uri": "https://localhost:8080/"
        },
        "id": "RGso3S5Olyri",
        "outputId": "6c2389ea-221b-4c11-c0fd-a4be18ceded7"
      },
      "execution_count": null,
      "outputs": [
        {
          "output_type": "stream",
          "name": "stdout",
          "text": [
            "\n",
            "Call:\n",
            "lm(formula = HOMA ~ ., data = data)\n",
            "\n",
            "Residuals:\n",
            "    Min      1Q  Median      3Q     Max \n",
            "-2.4294 -0.4619 -0.0636  0.4089  5.1679 \n",
            "\n",
            "Coefficients:\n",
            "              Estimate Std. Error t value Pr(>|t|)    \n",
            "(Intercept) -5.9193063  0.9463797  -6.255 1.51e-09 ***\n",
            "Sex          0.3046482  0.0961801   3.167  0.00171 ** \n",
            "Age          0.0056148  0.0431482   0.130  0.89656    \n",
            "Tanner       0.1345579  0.1352788   0.995  0.32077    \n",
            "Height       2.4505541  0.7621021   3.216  0.00146 ** \n",
            "BMI          0.1455896  0.0228539   6.370 7.86e-10 ***\n",
            "WC          -0.0247314  0.0086550  -2.857  0.00460 ** \n",
            "TAGmgDL      0.0072443  0.0016646   4.352 1.90e-05 ***\n",
            "HDLCmgDL     0.0082428  0.0040629   2.029  0.04344 *  \n",
            "LDLCmgDL    -0.0031440  0.0017745  -1.772  0.07753 .  \n",
            "SBP          0.0041084  0.0043852   0.937  0.34964    \n",
            "DBP          0.0086374  0.0054648   1.581  0.11513    \n",
            "Sedentary    0.0010000  0.0005885   1.699  0.09038 .  \n",
            "Light        0.0013119  0.0010782   1.217  0.22473    \n",
            "Moderate     0.0038260  0.0047826   0.800  0.42441    \n",
            "Vigorous    -0.0056749  0.0057629  -0.985  0.32562    \n",
            "---\n",
            "Signif. codes:  0 ‘***’ 0.001 ‘**’ 0.01 ‘*’ 0.05 ‘.’ 0.1 ‘ ’ 1\n",
            "\n",
            "Residual standard error: 0.7556 on 276 degrees of freedom\n",
            "Multiple R-squared:  0.514,\tAdjusted R-squared:  0.4876 \n",
            "F-statistic: 19.46 on 15 and 276 DF,  p-value: < 2.2e-16\n",
            "\n"
          ]
        }
      ]
    },
    {
      "cell_type": "code",
      "source": [
        "# Estadísitco de F está bien, alejado de 1 y el p-valor del algoritmo es\n",
        "# significativo. Eliminamos la variable Age por ser la que mayor p-valor tiene.\n",
        "\n",
        "%%R\n",
        "### Obteción del modelo. Y=HOMA, X's=Todas-Age -> formula: HOMA ~ .-Age\n",
        "fitLM <- lm(HOMA ~ .-Age, data=data)\n",
        "\n",
        "summary(fitLM)"
      ],
      "metadata": {
        "colab": {
          "base_uri": "https://localhost:8080/"
        },
        "id": "u_BfLXernSKi",
        "outputId": "7dc1a78f-11e3-4d92-c7b5-ee78b36c4324"
      },
      "execution_count": null,
      "outputs": [
        {
          "output_type": "stream",
          "name": "stdout",
          "text": [
            "\n",
            "Call:\n",
            "lm(formula = HOMA ~ . - Age, data = data)\n",
            "\n",
            "Residuals:\n",
            "    Min      1Q  Median      3Q     Max \n",
            "-2.4365 -0.4646 -0.0683  0.4115  5.1690 \n",
            "\n",
            "Coefficients:\n",
            "              Estimate Std. Error t value Pr(>|t|)    \n",
            "(Intercept) -5.9584990  0.8955812  -6.653 1.53e-10 ***\n",
            "Sex          0.3034817  0.0955914   3.175  0.00167 ** \n",
            "Tanner       0.1396497  0.1292663   1.080  0.28094    \n",
            "Height       2.5180619  0.5572805   4.518 9.23e-06 ***\n",
            "BMI          0.1452026  0.0226194   6.419 5.92e-10 ***\n",
            "WC          -0.0245827  0.0085641  -2.870  0.00441 ** \n",
            "TAGmgDL      0.0072474  0.0016615   4.362 1.82e-05 ***\n",
            "HDLCmgDL     0.0083213  0.0040108   2.075  0.03894 *  \n",
            "LDLCmgDL    -0.0031315  0.0017687  -1.771  0.07774 .  \n",
            "SBP          0.0040640  0.0043641   0.931  0.35255    \n",
            "DBP          0.0086128  0.0054518   1.580  0.11529    \n",
            "Sedentary    0.0010094  0.0005831   1.731  0.08455 .  \n",
            "Light        0.0012833  0.0010537   1.218  0.22431    \n",
            "Moderate     0.0038748  0.0047594   0.814  0.41627    \n",
            "Vigorous    -0.0057566  0.0057184  -1.007  0.31496    \n",
            "---\n",
            "Signif. codes:  0 ‘***’ 0.001 ‘**’ 0.01 ‘*’ 0.05 ‘.’ 0.1 ‘ ’ 1\n",
            "\n",
            "Residual standard error: 0.7543 on 277 degrees of freedom\n",
            "Multiple R-squared:  0.514,\tAdjusted R-squared:  0.4894 \n",
            "F-statistic: 20.92 on 14 and 277 DF,  p-value: < 2.2e-16\n",
            "\n"
          ]
        }
      ]
    },
    {
      "cell_type": "code",
      "source": [
        "# Estadísitco de F está bien, alejado de 1, más que antes y el p-valor del algoritmo es\n",
        "# significativo. Eliminamos la variable Moderate por ser la que mayor p-valor tiene.\n",
        "\n",
        "%%R\n",
        "### Obteción del modelo. Y=HOMA, X's=Todas-Age y Moderate -> formula: HOMA ~ .-Age\n",
        "fitLM <- lm(HOMA ~ .-Age -Moderate, data=data)\n",
        "\n",
        "summary(fitLM)"
      ],
      "metadata": {
        "colab": {
          "base_uri": "https://localhost:8080/"
        },
        "id": "7Hs4TtqioUIf",
        "outputId": "82d76537-9562-4b0b-cf18-6a750a8959d8"
      },
      "execution_count": null,
      "outputs": [
        {
          "output_type": "stream",
          "name": "stdout",
          "text": [
            "\n",
            "Call:\n",
            "lm(formula = HOMA ~ . - Age - Moderate, data = data)\n",
            "\n",
            "Residuals:\n",
            "    Min      1Q  Median      3Q     Max \n",
            "-2.3679 -0.4614 -0.0789  0.4085  5.1735 \n",
            "\n",
            "Coefficients:\n",
            "              Estimate Std. Error t value Pr(>|t|)    \n",
            "(Intercept) -5.8816129  0.8900476  -6.608 1.98e-10 ***\n",
            "Sex          0.2850872  0.0928265   3.071  0.00234 ** \n",
            "Tanner       0.1457291  0.1289721   1.130  0.25948    \n",
            "Height       2.5165450  0.5569393   4.519 9.22e-06 ***\n",
            "BMI          0.1475379  0.0224231   6.580 2.34e-10 ***\n",
            "WC          -0.0252296  0.0085219  -2.961  0.00334 ** \n",
            "TAGmgDL      0.0072720  0.0016602   4.380 1.68e-05 ***\n",
            "HDLCmgDL     0.0084659  0.0040044   2.114  0.03539 *  \n",
            "LDLCmgDL    -0.0032874  0.0017572  -1.871  0.06243 .  \n",
            "SBP          0.0041578  0.0043599   0.954  0.34109    \n",
            "DBP          0.0079398  0.0053855   1.474  0.14154    \n",
            "Sedentary    0.0009849  0.0005820   1.692  0.09168 .  \n",
            "Light        0.0016399  0.0009578   1.712  0.08799 .  \n",
            "Vigorous    -0.0031646  0.0047472  -0.667  0.50556    \n",
            "---\n",
            "Signif. codes:  0 ‘***’ 0.001 ‘**’ 0.01 ‘*’ 0.05 ‘.’ 0.1 ‘ ’ 1\n",
            "\n",
            "Residual standard error: 0.7538 on 278 degrees of freedom\n",
            "Multiple R-squared:  0.5128,\tAdjusted R-squared:   0.49 \n",
            "F-statistic: 22.51 on 13 and 278 DF,  p-value: < 2.2e-16\n",
            "\n"
          ]
        }
      ]
    },
    {
      "cell_type": "code",
      "source": [
        "# Estadísitco de F está bien, más alejado de 1 que antes y el p-valor del algoritmo es\n",
        "# significativo. Eliminamos la variable Vigorous por ser la que mayor p-valor tiene.\n",
        "\n",
        "%%R\n",
        "### Obteción del modelo. Y=HOMA, X's=Todas-Age -> formula: HOMA ~ .-Age\n",
        "fitLM <- lm(HOMA ~ .-Age -Moderate -Vigorous, data=data)\n",
        "\n",
        "summary(fitLM)"
      ],
      "metadata": {
        "colab": {
          "base_uri": "https://localhost:8080/"
        },
        "id": "TbBWmffDokfD",
        "outputId": "f6b001f9-00f7-457c-e15c-865e6dfc5c4e"
      },
      "execution_count": null,
      "outputs": [
        {
          "output_type": "stream",
          "name": "stdout",
          "text": [
            "\n",
            "Call:\n",
            "lm(formula = HOMA ~ . - Age - Moderate - Vigorous, data = data)\n",
            "\n",
            "Residuals:\n",
            "    Min      1Q  Median      3Q     Max \n",
            "-2.3842 -0.4532 -0.0697  0.4140  5.2047 \n",
            "\n",
            "Coefficients:\n",
            "              Estimate Std. Error t value Pr(>|t|)    \n",
            "(Intercept) -5.9128139  0.8879307  -6.659 1.46e-10 ***\n",
            "Sex          0.2925415  0.0920587   3.178  0.00165 ** \n",
            "Tanner       0.1384949  0.1283868   1.079  0.28164    \n",
            "Height       2.4410812  0.5447701   4.481 1.09e-05 ***\n",
            "BMI          0.1475844  0.0224007   6.588 2.21e-10 ***\n",
            "WC          -0.0251966  0.0085133  -2.960  0.00334 ** \n",
            "TAGmgDL      0.0074318  0.0016411   4.528 8.81e-06 ***\n",
            "HDLCmgDL     0.0084705  0.0040004   2.117  0.03511 *  \n",
            "LDLCmgDL    -0.0033090  0.0017552  -1.885  0.06043 .  \n",
            "SBP          0.0045736  0.0043108   1.061  0.28963    \n",
            "DBP          0.0080719  0.0053765   1.501  0.13441    \n",
            "Sedentary    0.0010540  0.0005721   1.842  0.06648 .  \n",
            "Light        0.0016076  0.0009556   1.682  0.09364 .  \n",
            "---\n",
            "Signif. codes:  0 ‘***’ 0.001 ‘**’ 0.01 ‘*’ 0.05 ‘.’ 0.1 ‘ ’ 1\n",
            "\n",
            "Residual standard error: 0.7531 on 279 degrees of freedom\n",
            "Multiple R-squared:  0.512,\tAdjusted R-squared:  0.491 \n",
            "F-statistic:  24.4 on 12 and 279 DF,  p-value: < 2.2e-16\n",
            "\n"
          ]
        }
      ]
    },
    {
      "cell_type": "code",
      "source": [
        "# Estadísitco de F está bien, más alejado de 1 que antes y el p-valor del algoritmo es\n",
        "# significativo. Eliminamos la variable SBP por ser la que mayor p-valor tiene.\n",
        "\n",
        "%%R\n",
        "### Obteción del modelo. Y=HOMA, X's=Todas-Age -> formula: HOMA ~ .-Age\n",
        "fitLM <- lm(HOMA ~ .-Age -Moderate -Vigorous -SBP, data=data)\n",
        "\n",
        "summary(fitLM)"
      ],
      "metadata": {
        "colab": {
          "base_uri": "https://localhost:8080/"
        },
        "id": "VqmO-XDxoy8y",
        "outputId": "376cb95e-b56a-4aac-928b-d4c6724d10c1"
      },
      "execution_count": null,
      "outputs": [
        {
          "output_type": "stream",
          "name": "stdout",
          "text": [
            "\n",
            "Call:\n",
            "lm(formula = HOMA ~ . - Age - Moderate - Vigorous - SBP, data = data)\n",
            "\n",
            "Residuals:\n",
            "    Min      1Q  Median      3Q     Max \n",
            "-2.3819 -0.4721 -0.0741  0.4147  5.1864 \n",
            "\n",
            "Coefficients:\n",
            "              Estimate Std. Error t value Pr(>|t|)    \n",
            "(Intercept) -5.8418812  0.8856086  -6.596 2.10e-10 ***\n",
            "Sex          0.2946858  0.0920572   3.201  0.00153 ** \n",
            "Tanner       0.1348695  0.1283701   1.051  0.29433    \n",
            "Height       2.5360033  0.5374936   4.718 3.76e-06 ***\n",
            "BMI          0.1507284  0.0222088   6.787 6.83e-11 ***\n",
            "WC          -0.0246333  0.0084987  -2.898  0.00405 ** \n",
            "TAGmgDL      0.0073419  0.0016393   4.479 1.10e-05 ***\n",
            "HDLCmgDL     0.0089568  0.0039750   2.253  0.02501 *  \n",
            "LDLCmgDL    -0.0032133  0.0017532  -1.833  0.06790 .  \n",
            "DBP          0.0098000  0.0051250   1.912  0.05687 .  \n",
            "Sedentary    0.0010986  0.0005707   1.925  0.05524 .  \n",
            "Light        0.0016537  0.0009549   1.732  0.08441 .  \n",
            "---\n",
            "Signif. codes:  0 ‘***’ 0.001 ‘**’ 0.01 ‘*’ 0.05 ‘.’ 0.1 ‘ ’ 1\n",
            "\n",
            "Residual standard error: 0.7532 on 280 degrees of freedom\n",
            "Multiple R-squared:  0.5101,\tAdjusted R-squared:  0.4908 \n",
            "F-statistic:  26.5 on 11 and 280 DF,  p-value: < 2.2e-16\n",
            "\n"
          ]
        }
      ]
    },
    {
      "cell_type": "code",
      "source": [
        "# Estadísitco de F está bien, más alejado de 1 que antes y el p-valor del algoritmo es\n",
        "# significativo. Eliminamos la variable Tanner por ser la que mayor p-valor tiene.\n",
        "\n",
        "%%R\n",
        "### Obteción del modelo. Y=HOMA, X's=Todas-Age -> formula: HOMA ~ .-Age\n",
        "fitLM <- lm(HOMA ~ .-Age -Moderate -Vigorous -SBP -Tanner, data=data)\n",
        "\n",
        "summary(fitLM)"
      ],
      "metadata": {
        "colab": {
          "base_uri": "https://localhost:8080/"
        },
        "id": "rkgtMLgLpI4l",
        "outputId": "4554d9f0-cdbc-4bd0-c80f-e379e94fc711"
      },
      "execution_count": null,
      "outputs": [
        {
          "output_type": "stream",
          "name": "stdout",
          "text": [
            "\n",
            "Call:\n",
            "lm(formula = HOMA ~ . - Age - Moderate - Vigorous - SBP - Tanner, \n",
            "    data = data)\n",
            "\n",
            "Residuals:\n",
            "    Min      1Q  Median      3Q     Max \n",
            "-2.3378 -0.4499 -0.0555  0.4155  5.1964 \n",
            "\n",
            "Coefficients:\n",
            "              Estimate Std. Error t value Pr(>|t|)    \n",
            "(Intercept) -6.1219408  0.8446953  -7.248 4.11e-12 ***\n",
            "Sex          0.3059397  0.0914488   3.345 0.000933 ***\n",
            "Height       2.8435807  0.4508536   6.307 1.10e-09 ***\n",
            "BMI          0.1545041  0.0219201   7.048 1.40e-11 ***\n",
            "WC          -0.0260849  0.0083872  -3.110 0.002062 ** \n",
            "TAGmgDL      0.0072820  0.0016386   4.444 1.27e-05 ***\n",
            "HDLCmgDL     0.0088032  0.0039730   2.216 0.027510 *  \n",
            "LDLCmgDL    -0.0033950  0.0017450  -1.946 0.052708 .  \n",
            "DBP          0.0097975  0.0051260   1.911 0.056978 .  \n",
            "Sedentary    0.0010554  0.0005693   1.854 0.064806 .  \n",
            "Light        0.0014998  0.0009438   1.589 0.113141    \n",
            "---\n",
            "Signif. codes:  0 ‘***’ 0.001 ‘**’ 0.01 ‘*’ 0.05 ‘.’ 0.1 ‘ ’ 1\n",
            "\n",
            "Residual standard error: 0.7534 on 281 degrees of freedom\n",
            "Multiple R-squared:  0.5081,\tAdjusted R-squared:  0.4906 \n",
            "F-statistic: 29.03 on 10 and 281 DF,  p-value: < 2.2e-16\n",
            "\n"
          ]
        }
      ]
    },
    {
      "cell_type": "code",
      "source": [
        "# Estadísitco de F está bien, más alejado de 1 que antes y el p-valor del algoritmo es\n",
        "# significativo. Eliminamos la variable Light por ser la que mayor p-valor tiene.\n",
        "\n",
        "%%R\n",
        "### Obteción del modelo. Y=HOMA, X's=Todas-Age -> formula: HOMA ~ .-Age\n",
        "fitLM <- lm(HOMA ~ .-Age -Moderate -Vigorous -SBP -Tanner -Light, data=data)\n",
        "\n",
        "summary(fitLM)"
      ],
      "metadata": {
        "colab": {
          "base_uri": "https://localhost:8080/"
        },
        "id": "wrsqkIn8pXTu",
        "outputId": "8d1809fc-89d8-4872-ed13-20ba4e177b70"
      },
      "execution_count": null,
      "outputs": [
        {
          "output_type": "stream",
          "name": "stdout",
          "text": [
            "\n",
            "Call:\n",
            "lm(formula = HOMA ~ . - Age - Moderate - Vigorous - SBP - Tanner - \n",
            "    Light, data = data)\n",
            "\n",
            "Residuals:\n",
            "    Min      1Q  Median      3Q     Max \n",
            "-2.3263 -0.4550 -0.0538  0.3980  5.1652 \n",
            "\n",
            "Coefficients:\n",
            "              Estimate Std. Error t value Pr(>|t|)    \n",
            "(Intercept) -5.2896377  0.6645271  -7.960 4.23e-14 ***\n",
            "Sex          0.2914895  0.0912414   3.195  0.00156 ** \n",
            "Height       2.6091544  0.4271894   6.108 3.34e-09 ***\n",
            "BMI          0.1554630  0.0219710   7.076 1.18e-11 ***\n",
            "WC          -0.0259753  0.0084095  -3.089  0.00221 ** \n",
            "TAGmgDL      0.0072796  0.0016430   4.431 1.35e-05 ***\n",
            "HDLCmgDL     0.0090872  0.0039797   2.283  0.02315 *  \n",
            "LDLCmgDL    -0.0033464  0.0017495  -1.913  0.05678 .  \n",
            "DBP          0.0093735  0.0051328   1.826  0.06888 .  \n",
            "Sedentary    0.0007619  0.0005400   1.411  0.15936    \n",
            "---\n",
            "Signif. codes:  0 ‘***’ 0.001 ‘**’ 0.01 ‘*’ 0.05 ‘.’ 0.1 ‘ ’ 1\n",
            "\n",
            "Residual standard error: 0.7554 on 282 degrees of freedom\n",
            "Multiple R-squared:  0.5037,\tAdjusted R-squared:  0.4879 \n",
            "F-statistic:  31.8 on 9 and 282 DF,  p-value: < 2.2e-16\n",
            "\n"
          ]
        }
      ]
    },
    {
      "cell_type": "code",
      "source": [
        "# Estadísitco de F está bien, más alejado de 1 que antes y el p-valor del algoritmo es\n",
        "# significativo. Eliminamos la variable Sedentary por ser la que mayor p-valor tiene.\n",
        "\n",
        "%%R\n",
        "### Obteción del modelo. Y=HOMA, X's=Todas-Age -> formula: HOMA ~ .-Age\n",
        "fitLM <- lm(HOMA ~ .-Age -Moderate -Vigorous -SBP -Tanner -Light -Sedentary, data=data)\n",
        "\n",
        "summary(fitLM)"
      ],
      "metadata": {
        "colab": {
          "base_uri": "https://localhost:8080/"
        },
        "id": "U7X-LhW9pj9I",
        "outputId": "a8181f68-d447-4083-e8a3-8d25ae46b105"
      },
      "execution_count": null,
      "outputs": [
        {
          "output_type": "stream",
          "name": "stdout",
          "text": [
            "\n",
            "Call:\n",
            "lm(formula = HOMA ~ . - Age - Moderate - Vigorous - SBP - Tanner - \n",
            "    Light - Sedentary, data = data)\n",
            "\n",
            "Residuals:\n",
            "    Min      1Q  Median      3Q     Max \n",
            "-2.4022 -0.4525 -0.0408  0.3880  5.0570 \n",
            "\n",
            "Coefficients:\n",
            "             Estimate Std. Error t value Pr(>|t|)    \n",
            "(Intercept) -5.133154   0.656353  -7.821 1.05e-13 ***\n",
            "Sex          0.307461   0.090695   3.390 0.000798 ***\n",
            "Height       2.764817   0.413419   6.688 1.21e-10 ***\n",
            "BMI          0.156909   0.021985   7.137 8.04e-12 ***\n",
            "WC          -0.027091   0.008387  -3.230 0.001383 ** \n",
            "TAGmgDL      0.007288   0.001646   4.428 1.36e-05 ***\n",
            "HDLCmgDL     0.008966   0.003986   2.250 0.025241 *  \n",
            "LDLCmgDL    -0.003229   0.001751  -1.844 0.066178 .  \n",
            "DBP          0.009670   0.005138   1.882 0.060843 .  \n",
            "---\n",
            "Signif. codes:  0 ‘***’ 0.001 ‘**’ 0.01 ‘*’ 0.05 ‘.’ 0.1 ‘ ’ 1\n",
            "\n",
            "Residual standard error: 0.7567 on 283 degrees of freedom\n",
            "Multiple R-squared:  0.5002,\tAdjusted R-squared:  0.4861 \n",
            "F-statistic:  35.4 on 8 and 283 DF,  p-value: < 2.2e-16\n",
            "\n"
          ]
        }
      ]
    },
    {
      "cell_type": "code",
      "source": [
        "# Estadísitco de F está bien, más alejado de 1 que antes y el p-valor del algoritmo es\n",
        "# significativo. Eliminamos la variable HDLCmgDL por ser la que mayor p-valor tiene.\n",
        "#Aqui hay un ligero decrecimiento del R^2\n",
        "\n",
        "%%R\n",
        "### Obteción del modelo. Y=HOMA, X's=Todas-Age -> formula: HOMA ~ .-Age\n",
        "fitLM <- lm(HOMA ~ .-Age -Moderate -Vigorous -SBP -Tanner -Light -Sedentary -HDLCmgDL, data=data)\n",
        "\n",
        "summary(fitLM)"
      ],
      "metadata": {
        "colab": {
          "base_uri": "https://localhost:8080/"
        },
        "id": "hqU8v1etpsHz",
        "outputId": "e4c7e176-45d7-43c1-87fe-191b07794ced"
      },
      "execution_count": null,
      "outputs": [
        {
          "output_type": "stream",
          "name": "stdout",
          "text": [
            "\n",
            "Call:\n",
            "lm(formula = HOMA ~ . - Age - Moderate - Vigorous - SBP - Tanner - \n",
            "    Light - Sedentary - HDLCmgDL, data = data)\n",
            "\n",
            "Residuals:\n",
            "    Min      1Q  Median      3Q     Max \n",
            "-2.3940 -0.4603 -0.0394  0.4411  5.1080 \n",
            "\n",
            "Coefficients:\n",
            "             Estimate Std. Error t value Pr(>|t|)    \n",
            "(Intercept) -4.343832   0.558651  -7.776 1.39e-13 ***\n",
            "Sex          0.280712   0.090553   3.100 0.002130 ** \n",
            "Height       2.829604   0.415353   6.813 5.73e-11 ***\n",
            "BMI          0.151379   0.022003   6.880 3.82e-11 ***\n",
            "WC          -0.030081   0.008340  -3.607 0.000366 ***\n",
            "TAGmgDL      0.006239   0.001590   3.925 0.000109 ***\n",
            "LDLCmgDL    -0.003301   0.001763  -1.873 0.062161 .  \n",
            "DBP          0.010292   0.005167   1.992 0.047329 *  \n",
            "---\n",
            "Signif. codes:  0 ‘***’ 0.001 ‘**’ 0.01 ‘*’ 0.05 ‘.’ 0.1 ‘ ’ 1\n",
            "\n",
            "Residual standard error: 0.7621 on 284 degrees of freedom\n",
            "Multiple R-squared:  0.4913,\tAdjusted R-squared:  0.4787 \n",
            "F-statistic: 39.18 on 7 and 284 DF,  p-value: < 2.2e-16\n",
            "\n"
          ]
        }
      ]
    },
    {
      "cell_type": "code",
      "source": [
        "# Estadísitco de F está bien, más alejado de 1 que antes y el p-valor del algoritmo es\n",
        "# significativo. Eliminamos la variable LDLCmgDL por ser la que mayor p-valor tiene.\n",
        "#Aqui R^2 decrece un poquito más\n",
        "%%R\n",
        "### Obteción del modelo. Y=HOMA, X's=Todas-Age -> formula: HOMA ~ .-Age\n",
        "fitLM <- lm(HOMA ~ .-Age -Moderate -Vigorous -SBP -Tanner -Light -Sedentary -HDLCmgDL -LDLCmgDL, data=data)\n",
        "\n",
        "summary(fitLM)"
      ],
      "metadata": {
        "colab": {
          "base_uri": "https://localhost:8080/"
        },
        "id": "wxmIpoLcp9Fa",
        "outputId": "e1db0b8e-85ca-4c5e-91a9-17dedf1fc531"
      },
      "execution_count": null,
      "outputs": [
        {
          "output_type": "stream",
          "name": "stdout",
          "text": [
            "\n",
            "Call:\n",
            "lm(formula = HOMA ~ . - Age - Moderate - Vigorous - SBP - Tanner - \n",
            "    Light - Sedentary - HDLCmgDL - LDLCmgDL, data = data)\n",
            "\n",
            "Residuals:\n",
            "    Min      1Q  Median      3Q     Max \n",
            "-2.3242 -0.4472 -0.0348  0.4276  5.1188 \n",
            "\n",
            "Coefficients:\n",
            "             Estimate Std. Error t value Pr(>|t|)    \n",
            "(Intercept) -4.596262   0.544521  -8.441 1.62e-15 ***\n",
            "Sex          0.283943   0.090933   3.123 0.001977 ** \n",
            "Height       2.846125   0.417081   6.824 5.32e-11 ***\n",
            "BMI          0.153724   0.022064   6.967 2.24e-11 ***\n",
            "WC          -0.030779   0.008368  -3.678 0.000281 ***\n",
            "TAGmgDL      0.005438   0.001538   3.536 0.000473 ***\n",
            "DBP          0.009615   0.005177   1.857 0.064295 .  \n",
            "---\n",
            "Signif. codes:  0 ‘***’ 0.001 ‘**’ 0.01 ‘*’ 0.05 ‘.’ 0.1 ‘ ’ 1\n",
            "\n",
            "Residual standard error: 0.7655 on 285 degrees of freedom\n",
            "Multiple R-squared:  0.485,\tAdjusted R-squared:  0.4741 \n",
            "F-statistic: 44.73 on 6 and 285 DF,  p-value: < 2.2e-16\n",
            "\n"
          ]
        }
      ]
    },
    {
      "cell_type": "code",
      "source": [
        "# Estadísitco de F está bien, más alejado de 1 que antes y el p-valor del algoritmo es\n",
        "# significativo. Eliminamos la variable DBP por ser la que mayor p-valor tiene.\n",
        "#Aqui R^2 decrece un poquito más\n",
        "%%R\n",
        "### Obteción del modelo. Y=HOMA, X's=Todas-Age -> formula: HOMA ~ .-Age\n",
        "fitLM <- lm(HOMA ~ .-Age -Moderate -Vigorous -SBP -Tanner -Light -Sedentary -HDLCmgDL -LDLCmgDL -DBP, data=data)\n",
        "\n",
        "summary(fitLM)"
      ],
      "metadata": {
        "colab": {
          "base_uri": "https://localhost:8080/"
        },
        "id": "aODWZ5Q4qGgk",
        "outputId": "7aef454f-89c0-406f-a3f1-156e934a0554"
      },
      "execution_count": null,
      "outputs": [
        {
          "output_type": "stream",
          "name": "stdout",
          "text": [
            "\n",
            "Call:\n",
            "lm(formula = HOMA ~ . - Age - Moderate - Vigorous - SBP - Tanner - \n",
            "    Light - Sedentary - HDLCmgDL - LDLCmgDL - DBP, data = data)\n",
            "\n",
            "Residuals:\n",
            "    Min      1Q  Median      3Q     Max \n",
            "-2.3927 -0.4579 -0.0644  0.4469  5.1205 \n",
            "\n",
            "Coefficients:\n",
            "             Estimate Std. Error t value Pr(>|t|)    \n",
            "(Intercept) -4.095541   0.475122  -8.620 4.65e-16 ***\n",
            "Sex          0.286521   0.091311   3.138 0.001880 ** \n",
            "Height       2.823915   0.418692   6.745 8.49e-11 ***\n",
            "BMI          0.157742   0.022052   7.153 7.12e-12 ***\n",
            "WC          -0.030130   0.008397  -3.588 0.000391 ***\n",
            "TAGmgDL      0.005535   0.001544   3.586 0.000395 ***\n",
            "---\n",
            "Signif. codes:  0 ‘***’ 0.001 ‘**’ 0.01 ‘*’ 0.05 ‘.’ 0.1 ‘ ’ 1\n",
            "\n",
            "Residual standard error: 0.7687 on 286 degrees of freedom\n",
            "Multiple R-squared:  0.4787,\tAdjusted R-squared:  0.4696 \n",
            "F-statistic: 52.54 on 5 and 286 DF,  p-value: < 2.2e-16\n",
            "\n"
          ]
        }
      ]
    },
    {
      "cell_type": "markdown",
      "source": [
        "--------------------------"
      ],
      "metadata": {
        "id": "OtJJcSxorbaL"
      }
    },
    {
      "cell_type": "code",
      "source": [
        "### Paramos y reformulamos por legibilidad indicando las variables de entrada seleccionadas de manera aditiva\n",
        "### Este modelo es equivalente al inmediatamente anterior pero muestra con claridad lo seleccionado\n",
        "%%R\n",
        "\n",
        "fitLM <- lm(HOMA ~ +BMI +Height +TAGmgDL +Sex +WC +LDLCmgDL +HDLCmgDL +DBP, data=data) #Vea que ya no se incluye el punto\n",
        "summary(fitLM)"
      ],
      "metadata": {
        "colab": {
          "base_uri": "https://localhost:8080/"
        },
        "id": "v17yEvtUqpjq",
        "outputId": "1bb628cb-6027-448d-a2f7-4b6adbec4628"
      },
      "execution_count": null,
      "outputs": [
        {
          "output_type": "stream",
          "name": "stdout",
          "text": [
            "\n",
            "Call:\n",
            "lm(formula = HOMA ~ +BMI + Height + TAGmgDL + Sex + WC + LDLCmgDL + \n",
            "    HDLCmgDL + DBP, data = data)\n",
            "\n",
            "Residuals:\n",
            "    Min      1Q  Median      3Q     Max \n",
            "-2.4022 -0.4525 -0.0408  0.3880  5.0570 \n",
            "\n",
            "Coefficients:\n",
            "             Estimate Std. Error t value Pr(>|t|)    \n",
            "(Intercept) -5.133154   0.656353  -7.821 1.05e-13 ***\n",
            "BMI          0.156909   0.021985   7.137 8.04e-12 ***\n",
            "Height       2.764817   0.413419   6.688 1.21e-10 ***\n",
            "TAGmgDL      0.007288   0.001646   4.428 1.36e-05 ***\n",
            "Sex          0.307461   0.090695   3.390 0.000798 ***\n",
            "WC          -0.027091   0.008387  -3.230 0.001383 ** \n",
            "LDLCmgDL    -0.003229   0.001751  -1.844 0.066178 .  \n",
            "HDLCmgDL     0.008966   0.003986   2.250 0.025241 *  \n",
            "DBP          0.009670   0.005138   1.882 0.060843 .  \n",
            "---\n",
            "Signif. codes:  0 ‘***’ 0.001 ‘**’ 0.01 ‘*’ 0.05 ‘.’ 0.1 ‘ ’ 1\n",
            "\n",
            "Residual standard error: 0.7567 on 283 degrees of freedom\n",
            "Multiple R-squared:  0.5002,\tAdjusted R-squared:  0.4861 \n",
            "F-statistic:  35.4 on 8 and 283 DF,  p-value: < 2.2e-16\n",
            "\n"
          ]
        }
      ]
    },
    {
      "cell_type": "markdown",
      "source": [
        "## Interacciones y No-linealidad\n",
        "\n",
        "Se aprecia, por los datos anteriores, que el problema tiene una parte lineal y otra no lineal. Por ello vamos a centrarnos ahora en la parte no lineal.\n",
        "\n",
        "Además de esto vamos a determinar sinergias. Las sinergias pueden ser evidentes si ya se tiene conocimientos o experiencia sobre el tema."
      ],
      "metadata": {
        "id": "aU7SN7qP47mN"
      }
    },
    {
      "cell_type": "markdown",
      "source": [
        "Iniciamos la exploración no lineal utilizando los parámetros de Altura y WC."
      ],
      "metadata": {
        "id": "givJjoUB6s9A"
      }
    },
    {
      "cell_type": "code",
      "source": [
        "%%R\n",
        "### Interacciones entre triglicéridos y colesteroles\n",
        "fitLM <- lm(HOMA ~ BMI+Height+TAGmgDL+Sex+WC+LDLCmgDL+HDLCmgDL+DBP+TAGmgDL*HDLCmgDL*LDLCmgDL, data=data)\n",
        "summary(fitLM)"
      ],
      "metadata": {
        "colab": {
          "base_uri": "https://localhost:8080/"
        },
        "id": "4YDqixE8rdoP",
        "outputId": "9cb5318d-0bb6-4505-e700-821715d3b119"
      },
      "execution_count": null,
      "outputs": [
        {
          "output_type": "stream",
          "name": "stdout",
          "text": [
            "\n",
            "Call:\n",
            "lm(formula = HOMA ~ BMI + Height + TAGmgDL + Sex + WC + LDLCmgDL + \n",
            "    HDLCmgDL + DBP + TAGmgDL * HDLCmgDL * LDLCmgDL, data = data)\n",
            "\n",
            "Residuals:\n",
            "    Min      1Q  Median      3Q     Max \n",
            "-2.5603 -0.4625 -0.0600  0.3862  4.9757 \n",
            "\n",
            "Coefficients:\n",
            "                            Estimate Std. Error t value Pr(>|t|)    \n",
            "(Intercept)               -4.756e+00  1.512e+00  -3.144 0.001844 ** \n",
            "BMI                        1.580e-01  2.221e-02   7.113 9.59e-12 ***\n",
            "Height                     2.799e+00  4.170e-01   6.712 1.07e-10 ***\n",
            "TAGmgDL                    1.097e-02  1.748e-02   0.627 0.531002    \n",
            "Sex                        3.130e-01  9.187e-02   3.408 0.000752 ***\n",
            "WC                        -2.775e-02  8.486e-03  -3.270 0.001209 ** \n",
            "LDLCmgDL                  -9.731e-03  1.388e-02  -0.701 0.483962    \n",
            "HDLCmgDL                   1.049e-03  2.518e-02   0.042 0.966806    \n",
            "DBP                        9.692e-03  5.168e-03   1.876 0.061766 .  \n",
            "TAGmgDL:HDLCmgDL          -7.809e-05  3.563e-04  -0.219 0.826677    \n",
            "TAGmgDL:LDLCmgDL           2.741e-06  1.649e-04   0.017 0.986754    \n",
            "LDLCmgDL:HDLCmgDL          1.366e-04  2.554e-04   0.535 0.593230    \n",
            "TAGmgDL:LDLCmgDL:HDLCmgDL -1.602e-07  3.308e-06  -0.048 0.961424    \n",
            "---\n",
            "Signif. codes:  0 ‘***’ 0.001 ‘**’ 0.01 ‘*’ 0.05 ‘.’ 0.1 ‘ ’ 1\n",
            "\n",
            "Residual standard error: 0.76 on 279 degrees of freedom\n",
            "Multiple R-squared:  0.503,\tAdjusted R-squared:  0.4816 \n",
            "F-statistic: 23.53 on 12 and 279 DF,  p-value: < 2.2e-16\n",
            "\n"
          ]
        }
      ]
    },
    {
      "cell_type": "markdown",
      "source": [
        "Ahora probaremos con otro término no lienal, bsándonos en las gráficas de estudio de las variables vs los niveles de HOMA se ve que el BMI sigue un distribución exponencial."
      ],
      "metadata": {
        "id": "6QLMWnnA7Tih"
      }
    },
    {
      "cell_type": "code",
      "source": [
        "%%R\n",
        "### Interacciones entre altura y la circunferencia de la cintura, más BMI^2\n",
        "fitLM <- lm(HOMA ~ BMI+Height+TAGmgDL+Sex+WC+LDLCmgDL+HDLCmgDL+DBP+Height*WC+I(BMI^2), data=data)\n",
        "summary(fitLM)"
      ],
      "metadata": {
        "colab": {
          "base_uri": "https://localhost:8080/"
        },
        "id": "JtEOUYAn6-hY",
        "outputId": "468a39c8-187f-456a-cf93-cf5713b9200a"
      },
      "execution_count": null,
      "outputs": [
        {
          "output_type": "stream",
          "name": "stdout",
          "text": [
            "\n",
            "Call:\n",
            "lm(formula = HOMA ~ BMI + Height + TAGmgDL + Sex + WC + LDLCmgDL + \n",
            "    HDLCmgDL + DBP + Height * WC + I(BMI^2), data = data)\n",
            "\n",
            "Residuals:\n",
            "    Min      1Q  Median      3Q     Max \n",
            "-1.9267 -0.3865  0.0019  0.3615  3.4774 \n",
            "\n",
            "Coefficients:\n",
            "             Estimate Std. Error t value Pr(>|t|)    \n",
            "(Intercept)  4.308654   1.964056   2.194  0.02907 *  \n",
            "BMI         -0.443050   0.077356  -5.727 2.62e-08 ***\n",
            "Height       0.682096   1.490290   0.458  0.64753    \n",
            "TAGmgDL      0.006089   0.001439   4.232 3.14e-05 ***\n",
            "Sex          0.237497   0.079227   2.998  0.00296 ** \n",
            "WC          -0.041319   0.029621  -1.395  0.16414    \n",
            "LDLCmgDL    -0.002949   0.001523  -1.936  0.05383 .  \n",
            "HDLCmgDL     0.005186   0.003491   1.486  0.13852    \n",
            "DBP          0.005995   0.004505   1.331  0.18434    \n",
            "I(BMI^2)     0.012615   0.001569   8.042 2.48e-14 ***\n",
            "Height:WC    0.016942   0.019224   0.881  0.37890    \n",
            "---\n",
            "Signif. codes:  0 ‘***’ 0.001 ‘**’ 0.01 ‘*’ 0.05 ‘.’ 0.1 ‘ ’ 1\n",
            "\n",
            "Residual standard error: 0.658 on 281 degrees of freedom\n",
            "Multiple R-squared:  0.6248,\tAdjusted R-squared:  0.6115 \n",
            "F-statistic: 46.79 on 10 and 281 DF,  p-value: < 2.2e-16\n",
            "\n"
          ]
        }
      ]
    },
    {
      "cell_type": "markdown",
      "source": [
        "Los resultados arrojados por este modelo se ajustan mejor a los valores del *training set*. De hecho, este modelo dice que el parámetro Altura*WC deja de ser significativo. Está claro que BMI^2 explica mejor el problema que las variables que vamos a quitar."
      ],
      "metadata": {
        "id": "mX8fiKN-74aL"
      }
    },
    {
      "cell_type": "code",
      "source": [
        "%%R\n",
        "fitLM <- lm(HOMA ~ BMI+Height+TAGmgDL+Sex+WC+LDLCmgDL+HDLCmgDL+DBP+I(BMI^2), data=data)\n",
        "summary(fitLM)"
      ],
      "metadata": {
        "colab": {
          "base_uri": "https://localhost:8080/"
        },
        "id": "WtS3gOkw8Q5z",
        "outputId": "e4f752d6-de5e-498e-d766-33bf0ed4cbf9"
      },
      "execution_count": null,
      "outputs": [
        {
          "output_type": "stream",
          "name": "stdout",
          "text": [
            "\n",
            "Call:\n",
            "lm(formula = HOMA ~ BMI + Height + TAGmgDL + Sex + WC + LDLCmgDL + \n",
            "    HDLCmgDL + DBP + I(BMI^2), data = data)\n",
            "\n",
            "Residuals:\n",
            "    Min      1Q  Median      3Q     Max \n",
            "-1.8747 -0.3846 -0.0021  0.3674  3.5269 \n",
            "\n",
            "Coefficients:\n",
            "             Estimate Std. Error t value Pr(>|t|)    \n",
            "(Intercept)  2.821314   1.004299   2.809  0.00531 ** \n",
            "BMI         -0.474890   0.068374  -6.945 2.61e-11 ***\n",
            "Height       1.954571   0.369059   5.296 2.39e-07 ***\n",
            "TAGmgDL      0.006028   0.001437   4.196 3.64e-05 ***\n",
            "Sex          0.240162   0.079138   3.035  0.00263 ** \n",
            "WC          -0.016037   0.007380  -2.173  0.03060 *  \n",
            "LDLCmgDL    -0.002912   0.001522  -1.914  0.05666 .  \n",
            "HDLCmgDL     0.005082   0.003488   1.457  0.14619    \n",
            "DBP          0.005638   0.004485   1.257  0.20978    \n",
            "I(BMI^2)     0.013273   0.001379   9.624  < 2e-16 ***\n",
            "---\n",
            "Signif. codes:  0 ‘***’ 0.001 ‘**’ 0.01 ‘*’ 0.05 ‘.’ 0.1 ‘ ’ 1\n",
            "\n",
            "Residual standard error: 0.6577 on 282 degrees of freedom\n",
            "Multiple R-squared:  0.6238,\tAdjusted R-squared:  0.6118 \n",
            "F-statistic: 51.95 on 9 and 282 DF,  p-value: < 2.2e-16\n",
            "\n"
          ]
        }
      ]
    },
    {
      "cell_type": "markdown",
      "source": [
        "Y ahora deja de ser significativo la variable DBP."
      ],
      "metadata": {
        "id": "aueZHIP48Zzo"
      }
    },
    {
      "cell_type": "code",
      "source": [
        "%%R\n",
        "fitLM <- lm(HOMA ~ BMI+Height+TAGmgDL+Sex+WC+LDLCmgDL+HDLCmgDL+I(BMI^2), data=data)\n",
        "summary(fitLM)"
      ],
      "metadata": {
        "colab": {
          "base_uri": "https://localhost:8080/"
        },
        "id": "o7OlayOg8dfB",
        "outputId": "a583983a-26b2-4542-9d5e-def9bf0f5671"
      },
      "execution_count": null,
      "outputs": [
        {
          "output_type": "stream",
          "name": "stdout",
          "text": [
            "\n",
            "Call:\n",
            "lm(formula = HOMA ~ BMI + Height + TAGmgDL + Sex + WC + LDLCmgDL + \n",
            "    HDLCmgDL + I(BMI^2), data = data)\n",
            "\n",
            "Residuals:\n",
            "    Min      1Q  Median      3Q     Max \n",
            "-1.9051 -0.3843 -0.0047  0.3459  3.5083 \n",
            "\n",
            "Coefficients:\n",
            "             Estimate Std. Error t value Pr(>|t|)    \n",
            "(Intercept)  3.176416   0.964737   3.293  0.00112 ** \n",
            "BMI         -0.480043   0.068321  -7.026 1.58e-11 ***\n",
            "Height       1.930855   0.368954   5.233 3.25e-07 ***\n",
            "TAGmgDL      0.006063   0.001438   4.217 3.33e-05 ***\n",
            "Sex          0.241655   0.079210   3.051  0.00250 ** \n",
            "WC          -0.015478   0.007374  -2.099  0.03669 *  \n",
            "LDLCmgDL    -0.002774   0.001519  -1.826  0.06898 .  \n",
            "HDLCmgDL     0.005268   0.003488   1.510  0.13208    \n",
            "I(BMI^2)     0.013435   0.001375   9.774  < 2e-16 ***\n",
            "---\n",
            "Signif. codes:  0 ‘***’ 0.001 ‘**’ 0.01 ‘*’ 0.05 ‘.’ 0.1 ‘ ’ 1\n",
            "\n",
            "Residual standard error: 0.6584 on 283 degrees of freedom\n",
            "Multiple R-squared:  0.6217,\tAdjusted R-squared:  0.611 \n",
            "F-statistic: 58.13 on 8 and 283 DF,  p-value: < 2.2e-16\n",
            "\n"
          ]
        }
      ]
    },
    {
      "cell_type": "markdown",
      "source": [
        "Por último retiramos el HDL."
      ],
      "metadata": {
        "id": "SOSPW4BK9Ocg"
      }
    },
    {
      "cell_type": "code",
      "source": [
        "%%R\n",
        "fitLM <- lm(HOMA ~ BMI+Height+TAGmgDL+Sex+WC+LDLCmgDL+I(BMI^2), data=data)\n",
        "summary(fitLM)"
      ],
      "metadata": {
        "colab": {
          "base_uri": "https://localhost:8080/"
        },
        "id": "Rt2QpTTd9Q3z",
        "outputId": "0f2534b6-4b77-4b44-b457-55f7b4455255"
      },
      "execution_count": null,
      "outputs": [
        {
          "output_type": "stream",
          "name": "stdout",
          "text": [
            "\n",
            "Call:\n",
            "lm(formula = HOMA ~ BMI + Height + TAGmgDL + Sex + WC + LDLCmgDL + \n",
            "    I(BMI^2), data = data)\n",
            "\n",
            "Residuals:\n",
            "    Min      1Q  Median      3Q     Max \n",
            "-1.8923 -0.3932  0.0004  0.3582  3.5091 \n",
            "\n",
            "Coefficients:\n",
            "             Estimate Std. Error t value Pr(>|t|)    \n",
            "(Intercept)  3.797671   0.874612   4.342 1.97e-05 ***\n",
            "BMI         -0.495014   0.067751  -7.306 2.79e-12 ***\n",
            "Height       1.952522   0.369506   5.284 2.52e-07 ***\n",
            "TAGmgDL      0.005433   0.001379   3.940 0.000103 ***\n",
            "Sex          0.224973   0.078613   2.862 0.004526 ** \n",
            "WC          -0.016985   0.007322  -2.320 0.021069 *  \n",
            "LDLCmgDL    -0.002803   0.001523  -1.841 0.066719 .  \n",
            "I(BMI^2)     0.013684   0.001368  10.006  < 2e-16 ***\n",
            "---\n",
            "Signif. codes:  0 ‘***’ 0.001 ‘**’ 0.01 ‘*’ 0.05 ‘.’ 0.1 ‘ ’ 1\n",
            "\n",
            "Residual standard error: 0.6599 on 284 degrees of freedom\n",
            "Multiple R-squared:  0.6186,\tAdjusted R-squared:  0.6092 \n",
            "F-statistic: 65.81 on 7 and 284 DF,  p-value: < 2.2e-16\n",
            "\n"
          ]
        }
      ]
    },
    {
      "cell_type": "markdown",
      "source": [
        "Con esto pare que el modelo explica el poroblema. Para cercionarnos vamos a visualizarlo."
      ],
      "metadata": {
        "id": "PrY6TA1h9bdV"
      }
    },
    {
      "cell_type": "code",
      "source": [
        "%%R\n",
        "\n",
        "yprime = predict(fitLM,data) #predecimos los valores utilizando el modelo\n",
        "\n",
        "\n",
        "plot(data$HOMA~data$BMI) #pintamos los valores de las muestras\n",
        "points(data$BMI,yprime,col=\"blue\",pch=20) #pintamos en azul los valores predichos"
      ],
      "metadata": {
        "colab": {
          "base_uri": "https://localhost:8080/",
          "height": 497
        },
        "id": "nTHEjMWY9VE1",
        "outputId": "15c1b080-ae46-4247-c63b-c84df2f16771"
      },
      "execution_count": null,
      "outputs": [
        {
          "output_type": "display_data",
          "data": {
            "image/png": "[encoded data removed]"
          },
          "metadata": {}
        }
      ]
    },
    {
      "cell_type": "markdown",
      "source": [
        "El modelo obtenido es adecuado. Se ve que el modelo tiene un R^2 de 0,6092 casi el doble que el modelo inicial. Además el stadístico de F lo hace significativo y todas las variables incluidas en el mismo tiene un p-valor inferior a 0.1, lo que las hace relevantes para el mismo y significativamente estadística la participación en la predicción."
      ],
      "metadata": {
        "id": "oYXKsmWS99fQ"
      }
    },
    {
      "cell_type": "markdown",
      "source": [
        "## Validación cruzada\n",
        "\n",
        "Ahora buscamos poder utilizar la validación cruzada con la fórmula determinada como la más óptima para el modelo. Con la validación cruzada obtendremos parámetros estadísiticos que nos determinen estadísitcamnete mejor la calidad del modelo."
      ],
      "metadata": {
        "id": "jHwxqWs5_Yo3"
      }
    },
    {
      "cell_type": "code",
      "source": [
        "%%R\n",
        "set.seed(123456)\n",
        "k <- 5\n",
        "data$kfold <- sample(1:k, nrow(data), replace = T)\n",
        "\n",
        "performances <- c()\n",
        "\n",
        "# One iteration per fold\n",
        "for (fold in 1:k){\n",
        "  # Se crea el conjunto de entrenamiento para la iteración\n",
        "  training_set <- data[data$kfold != fold,]\n",
        "  nombres <- names(training_set)\n",
        "  tam <- length(nombres)-1\n",
        "  training_set <- training_set[,nombres[1: tam]]\n",
        "\n",
        "  # Create test set for this iteration\n",
        "  # Subset all the datapoints where .folds matches the current fold\n",
        "  testing_set <- data[data$kfold == fold,]\n",
        "  nombres <- names(testing_set)\n",
        "  tam <- length(nombres)-1\n",
        "  testing_set <- testing_set[,nombres[1: tam]]\n",
        "\n",
        "  ## Entrenando el modelo para la iteración\n",
        "  model <- lm(HOMA ~ BMI+Height+TAGmgDL+Sex+WC+LDLCmgDL+I(BMI^2), data=training_set)\n",
        "\n",
        "  ## Calculando el error de test\n",
        "  yprime <- predict(model, testing_set)\n",
        "  RMSE <- sqrt(sum((testing_set$HOMA-yprime)^2)/length(yprime))\n",
        "\n",
        "  # Add the RMSE to the performance list\n",
        "  performances[fold] <- RMSE\n",
        "}\n",
        "\n",
        "#Eliminamos la columna artificial añadida para kfold\n",
        "#(para que no acumule columnas si se ejecuta varias veces)\n",
        "nombres <- names(data)\n",
        "tam <- length(nombres)-1\n",
        "data <- data[,nombres[1: tam]]\n",
        "\n",
        "print (performances)\n",
        "\n",
        "cat(\"RECM medio en test para 5-fcv:\", mean(performances), \"y su varianza: \", var(performances))"
      ],
      "metadata": {
        "colab": {
          "base_uri": "https://localhost:8080/"
        },
        "id": "VcPFpySZ9xi2",
        "outputId": "f6a3984a-e16c-47d5-f47c-0ad1916521ed"
      },
      "execution_count": null,
      "outputs": [
        {
          "output_type": "stream",
          "name": "stdout",
          "text": [
            "[1] 0.5990611 0.5756943 0.7734048 0.7768844 0.7529857\n",
            "RECM medio en test para 5-fcv: 0.6956061 y su varianza:  0.009912745"
          ]
        }
      ]
    },
    {
      "cell_type": "code",
      "source": [],
      "metadata": {
        "id": "xXME-TO7_r0L"
      },
      "execution_count": null,
      "outputs": []
    }
  ]
}